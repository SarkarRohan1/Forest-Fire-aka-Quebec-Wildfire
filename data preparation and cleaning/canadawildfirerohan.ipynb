{
 "cells": [
  {
   "cell_type": "code",
   "execution_count": 1,
   "id": "c5c52560-56a8-4697-aec8-e75125607ab2",
   "metadata": {},
   "outputs": [],
   "source": [
    "import os"
   ]
  },
  {
   "cell_type": "code",
   "execution_count": 2,
   "id": "94ffd937-7e64-412b-a686-b58563b5df15",
   "metadata": {},
   "outputs": [
    {
     "data": {
      "text/plain": [
       "'C:\\\\Users\\\\ROHAN\\\\erdos'"
      ]
     },
     "execution_count": 2,
     "metadata": {},
     "output_type": "execute_result"
    }
   ],
   "source": [
    "os.getcwd()"
   ]
  },
  {
   "cell_type": "code",
   "execution_count": 1,
   "id": "f5fc596a-f732-4101-89f0-7a3ada354e60",
   "metadata": {},
   "outputs": [],
   "source": [
    "import pandas as pd\n",
    "import numpy as np"
   ]
  },
  {
   "cell_type": "code",
   "execution_count": 43,
   "id": "e6c24f40-c6a4-4ac0-80cf-bfa55751957b",
   "metadata": {},
   "outputs": [],
   "source": [
    "#To view entire dataframes in a new tab in your webbrowser\n",
    "import webbrowser as wb"
   ]
  },
  {
   "cell_type": "code",
   "execution_count": 7,
   "id": "4c485480-c865-4771-80d0-5e61c598d4df",
   "metadata": {},
   "outputs": [],
   "source": [
    "import geopy.distance"
   ]
  },
  {
   "cell_type": "code",
   "execution_count": 2,
   "id": "a47bc757-c170-41bf-8462-0197eb19af31",
   "metadata": {},
   "outputs": [],
   "source": [
    "from sklearn.metrics import DistanceMetric  #Typing this, \"import scikit-learn as sklearn/skl\" gives invalid syntax error and later while calculating haversine distance \n",
    "                        #gives error, module 'sklearn' has no attribute 'neighbors'"
   ]
  },
  {
   "cell_type": "code",
   "execution_count": 2,
   "id": "b777b40a-51fe-4564-b47d-4276c28a3ab6",
   "metadata": {},
   "outputs": [],
   "source": [
    "wild1 = pd.read_csv(\"canadawildfires_2011to2021.csv\")"
   ]
  },
  {
   "cell_type": "code",
   "execution_count": 3,
   "id": "aabf060f-b00a-47f5-b960-d1db2afd6b42",
   "metadata": {},
   "outputs": [],
   "source": [
    "#Binning latitudinal values into discrete bins\n",
    "wild1[\"wildlat1\"] = pd.cut(x = wild1[\"latitude\"], bins=[41, 45, 50, 55, 60, 65, 70])"
   ]
  },
  {
   "cell_type": "code",
   "execution_count": 10,
   "id": "b3bf9fa8-b446-45ca-83a6-778a1d834407",
   "metadata": {},
   "outputs": [
    {
     "data": {
      "text/html": [
       "<div>\n",
       "<style scoped>\n",
       "    .dataframe tbody tr th:only-of-type {\n",
       "        vertical-align: middle;\n",
       "    }\n",
       "\n",
       "    .dataframe tbody tr th {\n",
       "        vertical-align: top;\n",
       "    }\n",
       "\n",
       "    .dataframe thead th {\n",
       "        text-align: right;\n",
       "    }\n",
       "</style>\n",
       "<table border=\"1\" class=\"dataframe\">\n",
       "  <thead>\n",
       "    <tr style=\"text-align: right;\">\n",
       "      <th></th>\n",
       "      <th>fid</th>\n",
       "      <th>src_agency</th>\n",
       "      <th>latitude</th>\n",
       "      <th>longitude</th>\n",
       "      <th>date</th>\n",
       "      <th>sizeha</th>\n",
       "      <th>cause</th>\n",
       "      <th>protzone</th>\n",
       "      <th>ecoz_name</th>\n",
       "      <th>wildlat1</th>\n",
       "    </tr>\n",
       "  </thead>\n",
       "  <tbody>\n",
       "    <tr>\n",
       "      <th>0</th>\n",
       "      <td>129874</td>\n",
       "      <td>BC</td>\n",
       "      <td>59.91830</td>\n",
       "      <td>-129.192800</td>\n",
       "      <td>26-07-2012</td>\n",
       "      <td>1.4000</td>\n",
       "      <td>L</td>\n",
       "      <td></td>\n",
       "      <td>Boreal Cordillera</td>\n",
       "      <td>(55, 60]</td>\n",
       "    </tr>\n",
       "    <tr>\n",
       "      <th>1</th>\n",
       "      <td>129875</td>\n",
       "      <td>BC</td>\n",
       "      <td>59.78170</td>\n",
       "      <td>-128.858600</td>\n",
       "      <td>07-07-2012</td>\n",
       "      <td>1.1000</td>\n",
       "      <td>L</td>\n",
       "      <td></td>\n",
       "      <td>Boreal Cordillera</td>\n",
       "      <td>(55, 60]</td>\n",
       "    </tr>\n",
       "    <tr>\n",
       "      <th>2</th>\n",
       "      <td>129876</td>\n",
       "      <td>BC</td>\n",
       "      <td>59.69840</td>\n",
       "      <td>-128.593800</td>\n",
       "      <td>26-07-2012</td>\n",
       "      <td>0.0010</td>\n",
       "      <td>L</td>\n",
       "      <td></td>\n",
       "      <td>Boreal Cordillera</td>\n",
       "      <td>(55, 60]</td>\n",
       "    </tr>\n",
       "    <tr>\n",
       "      <th>3</th>\n",
       "      <td>129877</td>\n",
       "      <td>BC</td>\n",
       "      <td>59.73410</td>\n",
       "      <td>-128.774400</td>\n",
       "      <td>31-07-2012</td>\n",
       "      <td>3.0000</td>\n",
       "      <td>L</td>\n",
       "      <td></td>\n",
       "      <td>Boreal Cordillera</td>\n",
       "      <td>(55, 60]</td>\n",
       "    </tr>\n",
       "    <tr>\n",
       "      <th>4</th>\n",
       "      <td>129878</td>\n",
       "      <td>BC</td>\n",
       "      <td>59.44190</td>\n",
       "      <td>-129.087500</td>\n",
       "      <td>08-08-2012</td>\n",
       "      <td>3500.0000</td>\n",
       "      <td>L</td>\n",
       "      <td></td>\n",
       "      <td>Boreal Cordillera</td>\n",
       "      <td>(55, 60]</td>\n",
       "    </tr>\n",
       "    <tr>\n",
       "      <th>...</th>\n",
       "      <td>...</td>\n",
       "      <td>...</td>\n",
       "      <td>...</td>\n",
       "      <td>...</td>\n",
       "      <td>...</td>\n",
       "      <td>...</td>\n",
       "      <td>...</td>\n",
       "      <td>...</td>\n",
       "      <td>...</td>\n",
       "      <td>...</td>\n",
       "    </tr>\n",
       "    <tr>\n",
       "      <th>63623</th>\n",
       "      <td>423826</td>\n",
       "      <td>PC-WB</td>\n",
       "      <td>59.61015</td>\n",
       "      <td>-113.985117</td>\n",
       "      <td>08-07-2021</td>\n",
       "      <td>65.1000</td>\n",
       "      <td>L</td>\n",
       "      <td>Monitored Response</td>\n",
       "      <td>Taiga Plain</td>\n",
       "      <td>(55, 60]</td>\n",
       "    </tr>\n",
       "    <tr>\n",
       "      <th>63624</th>\n",
       "      <td>423827</td>\n",
       "      <td>PC-WL</td>\n",
       "      <td>49.11120</td>\n",
       "      <td>-113.836000</td>\n",
       "      <td>04-03-2021</td>\n",
       "      <td>7.6000</td>\n",
       "      <td>H-PB</td>\n",
       "      <td>Prescribed Fire</td>\n",
       "      <td>Montane Cordillera</td>\n",
       "      <td>(45, 50]</td>\n",
       "    </tr>\n",
       "    <tr>\n",
       "      <th>63625</th>\n",
       "      <td>423828</td>\n",
       "      <td>PC-WL</td>\n",
       "      <td>49.11220</td>\n",
       "      <td>-113.840500</td>\n",
       "      <td>17-03-2021</td>\n",
       "      <td>2.9000</td>\n",
       "      <td>H-PB</td>\n",
       "      <td>Prescribed Fire</td>\n",
       "      <td>Montane Cordillera</td>\n",
       "      <td>(45, 50]</td>\n",
       "    </tr>\n",
       "    <tr>\n",
       "      <th>63626</th>\n",
       "      <td>423829</td>\n",
       "      <td>PC-WL</td>\n",
       "      <td>49.04630</td>\n",
       "      <td>-113.916300</td>\n",
       "      <td>18-09-2021</td>\n",
       "      <td>0.0001</td>\n",
       "      <td>H</td>\n",
       "      <td>Full Response</td>\n",
       "      <td>Montane Cordillera</td>\n",
       "      <td>(45, 50]</td>\n",
       "    </tr>\n",
       "    <tr>\n",
       "      <th>63627</th>\n",
       "      <td>423830</td>\n",
       "      <td>PC-WP</td>\n",
       "      <td>57.84200</td>\n",
       "      <td>-93.788000</td>\n",
       "      <td>12-07-2021</td>\n",
       "      <td>3.0000</td>\n",
       "      <td>L</td>\n",
       "      <td>Monitored Response</td>\n",
       "      <td>Hudson Plain</td>\n",
       "      <td>(55, 60]</td>\n",
       "    </tr>\n",
       "  </tbody>\n",
       "</table>\n",
       "<p>63628 rows × 10 columns</p>\n",
       "</div>"
      ],
      "text/plain": [
       "          fid src_agency  latitude   longitude        date     sizeha cause  \\\n",
       "0      129874         BC  59.91830 -129.192800  26-07-2012     1.4000     L   \n",
       "1      129875         BC  59.78170 -128.858600  07-07-2012     1.1000     L   \n",
       "2      129876         BC  59.69840 -128.593800  26-07-2012     0.0010     L   \n",
       "3      129877         BC  59.73410 -128.774400  31-07-2012     3.0000     L   \n",
       "4      129878         BC  59.44190 -129.087500  08-08-2012  3500.0000     L   \n",
       "...       ...        ...       ...         ...         ...        ...   ...   \n",
       "63623  423826      PC-WB  59.61015 -113.985117  08-07-2021    65.1000     L   \n",
       "63624  423827      PC-WL  49.11120 -113.836000  04-03-2021     7.6000  H-PB   \n",
       "63625  423828      PC-WL  49.11220 -113.840500  17-03-2021     2.9000  H-PB   \n",
       "63626  423829      PC-WL  49.04630 -113.916300  18-09-2021     0.0001     H   \n",
       "63627  423830      PC-WP  57.84200  -93.788000  12-07-2021     3.0000     L   \n",
       "\n",
       "                 protzone           ecoz_name  wildlat1  \n",
       "0                           Boreal Cordillera  (55, 60]  \n",
       "1                           Boreal Cordillera  (55, 60]  \n",
       "2                           Boreal Cordillera  (55, 60]  \n",
       "3                           Boreal Cordillera  (55, 60]  \n",
       "4                           Boreal Cordillera  (55, 60]  \n",
       "...                   ...                 ...       ...  \n",
       "63623  Monitored Response         Taiga Plain  (55, 60]  \n",
       "63624     Prescribed Fire  Montane Cordillera  (45, 50]  \n",
       "63625     Prescribed Fire  Montane Cordillera  (45, 50]  \n",
       "63626       Full Response  Montane Cordillera  (45, 50]  \n",
       "63627  Monitored Response        Hudson Plain  (55, 60]  \n",
       "\n",
       "[63628 rows x 10 columns]"
      ]
     },
     "execution_count": 10,
     "metadata": {},
     "output_type": "execute_result"
    }
   ],
   "source": [
    "wild1"
   ]
  },
  {
   "cell_type": "code",
   "execution_count": 16,
   "id": "749a3b92-b432-45db-8efc-8a878b6ff2c7",
   "metadata": {},
   "outputs": [
    {
     "name": "stdout",
     "output_type": "stream",
     "text": [
      "<class 'pandas.core.frame.DataFrame'>\n",
      "RangeIndex: 63628 entries, 0 to 63627\n",
      "Data columns (total 10 columns):\n",
      " #   Column      Non-Null Count  Dtype   \n",
      "---  ------      --------------  -----   \n",
      " 0   fid         63628 non-null  int64   \n",
      " 1   src_agency  63628 non-null  object  \n",
      " 2   latitude    63628 non-null  float64 \n",
      " 3   longitude   63628 non-null  float64 \n",
      " 4   date        63628 non-null  object  \n",
      " 5   sizeha      63628 non-null  float64 \n",
      " 6   cause       63489 non-null  object  \n",
      " 7   protzone    63628 non-null  object  \n",
      " 8   ecoz_name   63628 non-null  object  \n",
      " 9   wildlat1    63482 non-null  category\n",
      "dtypes: category(1), float64(3), int64(1), object(5)\n",
      "memory usage: 18.8 MB\n"
     ]
    }
   ],
   "source": [
    "wild1.info(memory_usage= \"deep\")"
   ]
  },
  {
   "cell_type": "code",
   "execution_count": 11,
   "id": "defb3f74-ddb4-4f9f-8a1e-c6f20c8ae2d4",
   "metadata": {},
   "outputs": [],
   "source": [
    "#Saving dataframe to a specified location in the form of csv\n",
    "wild1.to_csv(r\"C:\\\\Users\\\\ROHAN\\\\erdos\\\\canadawildfiresupdated1_2011to2021.csv\")"
   ]
  },
  {
   "cell_type": "code",
   "execution_count": 4,
   "id": "d9355734-888e-40a7-baf0-3ee84f5c434e",
   "metadata": {},
   "outputs": [
    {
     "data": {
      "text/plain": [
       "wildlat1\n",
       "(50, 55]    24325\n",
       "(45, 50]    20620\n",
       "(55, 60]    14023\n",
       "(60, 65]     2840\n",
       "(41, 45]     1106\n",
       "(65, 70]      568\n",
       "Name: count, dtype: int64"
      ]
     },
     "execution_count": 4,
     "metadata": {},
     "output_type": "execute_result"
    }
   ],
   "source": [
    "#generate counts\n",
    "wild1[\"wildlat1\"].value_counts()"
   ]
  },
  {
   "cell_type": "code",
   "execution_count": 5,
   "id": "f0a5ebf0-c005-49bc-8a57-f3d6287ba310",
   "metadata": {},
   "outputs": [],
   "source": [
    "clim1 = pd.read_csv(\"climatedaily1.csv\")"
   ]
  },
  {
   "cell_type": "code",
   "execution_count": 6,
   "id": "96cf7dc8-df32-4568-a98a-fc1424afc14f",
   "metadata": {},
   "outputs": [
    {
     "data": {
      "text/plain": [
       "0      68.223333\n",
       "1      50.728889\n",
       "2      48.471944\n",
       "3      46.016667\n",
       "4      45.650000\n",
       "         ...    \n",
       "201    45.723056\n",
       "202    46.902778\n",
       "203    51.473333\n",
       "204    53.010556\n",
       "205    45.283333\n",
       "Length: 206, dtype: float64"
      ]
     },
     "execution_count": 6,
     "metadata": {},
     "output_type": "execute_result"
    }
   ],
   "source": [
    "#Reading the file which has coordinates of all the weather stations across the 15 \"climate daily\" csv files\n",
    "ctc1 = pd.read_csv(\"climatetotalcoord1.csv\")\n",
    "\n",
    "#Finding unique values from the ctc1 for latitude column\n",
    "ctclat1 = ctc1[\"latitude\"].unique()\n",
    "ctclat1 #Output is in array\n",
    "\n",
    "#Converting array into pandas series object\n",
    "ctclatser1 = pd.Series(ctclat1)\n",
    "ctclatser1"
   ]
  },
  {
   "cell_type": "code",
   "execution_count": 8,
   "id": "bd87f82f-4776-4843-800f-0859fd2a812c",
   "metadata": {},
   "outputs": [
    {
     "data": {
      "text/html": [
       "<div>\n",
       "<style scoped>\n",
       "    .dataframe tbody tr th:only-of-type {\n",
       "        vertical-align: middle;\n",
       "    }\n",
       "\n",
       "    .dataframe tbody tr th {\n",
       "        vertical-align: top;\n",
       "    }\n",
       "\n",
       "    .dataframe thead th {\n",
       "        text-align: right;\n",
       "    }\n",
       "</style>\n",
       "<table border=\"1\" class=\"dataframe\">\n",
       "  <thead>\n",
       "    <tr style=\"text-align: right;\">\n",
       "      <th></th>\n",
       "      <th>file</th>\n",
       "      <th>longitude</th>\n",
       "      <th>latitude</th>\n",
       "      <th>id</th>\n",
       "    </tr>\n",
       "  </thead>\n",
       "  <tbody>\n",
       "    <tr>\n",
       "      <th>0</th>\n",
       "      <td>cld1</td>\n",
       "      <td>-135.0058</td>\n",
       "      <td>68.2233</td>\n",
       "      <td>2200100.2012.8.2</td>\n",
       "    </tr>\n",
       "    <tr>\n",
       "      <th>1</th>\n",
       "      <td>cld1</td>\n",
       "      <td>-135.0058</td>\n",
       "      <td>68.2233</td>\n",
       "      <td>2200100.2012.8.4</td>\n",
       "    </tr>\n",
       "    <tr>\n",
       "      <th>2</th>\n",
       "      <td>cld1</td>\n",
       "      <td>-135.0058</td>\n",
       "      <td>68.2233</td>\n",
       "      <td>2200100.2012.8.5</td>\n",
       "    </tr>\n",
       "    <tr>\n",
       "      <th>3</th>\n",
       "      <td>cld1</td>\n",
       "      <td>-135.0058</td>\n",
       "      <td>68.2233</td>\n",
       "      <td>2200100.2012.8.6</td>\n",
       "    </tr>\n",
       "    <tr>\n",
       "      <th>4</th>\n",
       "      <td>cld1</td>\n",
       "      <td>-135.0058</td>\n",
       "      <td>68.2233</td>\n",
       "      <td>2200100.2012.8.7</td>\n",
       "    </tr>\n",
       "  </tbody>\n",
       "</table>\n",
       "</div>"
      ],
      "text/plain": [
       "   file  longitude  latitude                id\n",
       "0  cld1  -135.0058   68.2233  2200100.2012.8.2\n",
       "1  cld1  -135.0058   68.2233  2200100.2012.8.4\n",
       "2  cld1  -135.0058   68.2233  2200100.2012.8.5\n",
       "3  cld1  -135.0058   68.2233  2200100.2012.8.6\n",
       "4  cld1  -135.0058   68.2233  2200100.2012.8.7"
      ]
     },
     "execution_count": 8,
     "metadata": {},
     "output_type": "execute_result"
    }
   ],
   "source": [
    "#limiting decimal digits to 4\n",
    "ctc1 = round(ctc1, 4)\n",
    "#ctc1.head()"
   ]
  },
  {
   "cell_type": "code",
   "execution_count": 21,
   "id": "e11ed7fc-932d-4217-bb35-d85650f1bebe",
   "metadata": {},
   "outputs": [
    {
     "data": {
      "text/plain": [
       "206"
      ]
     },
     "execution_count": 21,
     "metadata": {},
     "output_type": "execute_result"
    }
   ],
   "source": [
    "len(ctclat1) #Finding the length or the number of elements/values in an array. always one more than the highest array index (206)"
   ]
  },
  {
   "cell_type": "code",
   "execution_count": 25,
   "id": "e0f01658-11b6-47cc-814b-60f3d29fc570",
   "metadata": {},
   "outputs": [
    {
     "data": {
      "text/plain": [
       "226"
      ]
     },
     "execution_count": 25,
     "metadata": {},
     "output_type": "execute_result"
    }
   ],
   "source": [
    "#Finding unique values from the ctc1 for longitude column\n",
    "ctclon1 = ctc1[\"longitude\"].unique()\n",
    "ctclon1 #Output is in array\n",
    "len(ctclon1)"
   ]
  },
  {
   "cell_type": "code",
   "execution_count": 9,
   "id": "84e2de86-f519-46df-b2d9-6eb2fe3ed8ee",
   "metadata": {},
   "outputs": [],
   "source": [
    "#We found that latitude column and longitude column had different unique values (206 vs 226). Because of this inequality \n",
    "#they could not be respahed to form an equal datframe. Instead we are creating a new column which merges latitude and longitude \n",
    "#to form a new combined column called coordinates. But since the \"+\" operator only works on strings, we are also converting the lat and long into \n",
    "#strings using astype(). The \",\" acts as a separator. Beware of NaNs when doing this\n",
    "ctc1[\"coordinates\"] = ctc1[\"latitude\"].astype(str) + \",\" + ctc1[\"longitude\"].astype(str)"
   ]
  },
  {
   "cell_type": "code",
   "execution_count": null,
   "id": "92ada962-2900-4c51-8dcd-0b9c741dda16",
   "metadata": {},
   "outputs": [],
   "source": [
    "#Forming a new file\n",
    "ctc1.to_csv(r\"C:\\\\Users\\\\ROHAN\\\\erdos\\\\climatetotalcoord2.csv\")"
   ]
  },
  {
   "cell_type": "code",
   "execution_count": 12,
   "id": "15f96e8a-16ef-4233-8c65-39055eab83d3",
   "metadata": {},
   "outputs": [
    {
     "data": {
      "text/plain": [
       "251"
      ]
     },
     "execution_count": 12,
     "metadata": {},
     "output_type": "execute_result"
    }
   ],
   "source": [
    "#Finding the unique values in the coordinate column\n",
    "ctc2 = ctc1[\"coordinates\"].unique()\n",
    "#len(ctc2)"
   ]
  },
  {
   "cell_type": "code",
   "execution_count": 11,
   "id": "c3359a52-d456-4837-a0af-46bc8e1413c0",
   "metadata": {},
   "outputs": [
    {
     "data": {
      "text/html": [
       "<div>\n",
       "<style scoped>\n",
       "    .dataframe tbody tr th:only-of-type {\n",
       "        vertical-align: middle;\n",
       "    }\n",
       "\n",
       "    .dataframe tbody tr th {\n",
       "        vertical-align: top;\n",
       "    }\n",
       "\n",
       "    .dataframe thead th {\n",
       "        text-align: right;\n",
       "    }\n",
       "</style>\n",
       "<table border=\"1\" class=\"dataframe\">\n",
       "  <thead>\n",
       "    <tr style=\"text-align: right;\">\n",
       "      <th></th>\n",
       "      <th>coordinates1</th>\n",
       "    </tr>\n",
       "  </thead>\n",
       "  <tbody>\n",
       "    <tr>\n",
       "      <th>0</th>\n",
       "      <td>68.2233,-135.0058</td>\n",
       "    </tr>\n",
       "    <tr>\n",
       "      <th>1</th>\n",
       "      <td>68.2233,-135.0056</td>\n",
       "    </tr>\n",
       "    <tr>\n",
       "      <th>2</th>\n",
       "      <td>50.7289,-71.0131</td>\n",
       "    </tr>\n",
       "    <tr>\n",
       "      <th>3</th>\n",
       "      <td>48.4719,-67.4347</td>\n",
       "    </tr>\n",
       "    <tr>\n",
       "      <th>4</th>\n",
       "      <td>46.0167,-71.95</td>\n",
       "    </tr>\n",
       "  </tbody>\n",
       "</table>\n",
       "</div>"
      ],
      "text/plain": [
       "        coordinates1\n",
       "0  68.2233,-135.0058\n",
       "1  68.2233,-135.0056\n",
       "2   50.7289,-71.0131\n",
       "3   48.4719,-67.4347\n",
       "4     46.0167,-71.95"
      ]
     },
     "execution_count": 11,
     "metadata": {},
     "output_type": "execute_result"
    }
   ],
   "source": [
    "ctc3 = pd.DataFrame(ctc2, columns = [\"coordinates1\"])\n",
    "ctc3.head()"
   ]
  },
  {
   "cell_type": "code",
   "execution_count": 14,
   "id": "badf99c8-66c8-4f31-a1cb-d0af42ae0f2c",
   "metadata": {},
   "outputs": [],
   "source": [
    "#Splitting the \"coordinates1\" column to two separate columns (ulatitude & ulongitude) on the basis of the comma delimitor\n",
    "#For me: Here we had initially given one set of brackets on LHS ctc3[], but we got error, \"Cannot set a DataFrame with multiple columns to the \n",
    "#single column ('ulatitude', 'ulongitude'). This went away when we put double brackets, ctc3[[]] on LHS. So the no. of columns = no. of brackets\n",
    "\n",
    "ctc3[[\"climlatitude\", \"climlongitude\"]] = ctc3.coordinates1.str.split(\",\", expand = True)\n",
    "\n",
    "#Checking the first five rows\n",
    "#ctc3.head()\n",
    "\n",
    "#Checking the datatypes in the ctc3 dataframe\n",
    "ctc3.dtypes\n",
    "\n",
    "#Converting ulat and ulong into float\n",
    "ctc3[\"climlatitude\"] = ctc3[\"climlatitude\"].astype(float)\n",
    "ctc3[\"climlongitude\"] = ctc3[\"climlongitude\"].astype(float)\n",
    "\n",
    "#Saving this into a csv file. On 07/11/2023, we changed ulatitude and ulongitude to climlatitude and climlongitude. coordinates1 became climcoordinates\n",
    "#Code further changed on 20/11/23 after limiting decimal points to 4\n",
    "ctc3.to_csv(r\"C:\\\\Users\\\\ROHAN\\\\erdos\\\\climateuniquecoord2.csv\")"
   ]
  },
  {
   "cell_type": "code",
   "execution_count": 20,
   "id": "5694c26d-3302-48e3-a0f8-e0ce77820984",
   "metadata": {},
   "outputs": [
    {
     "data": {
      "text/plain": [
       "615571"
      ]
     },
     "execution_count": 20,
     "metadata": {},
     "output_type": "execute_result"
    }
   ],
   "source": [
    "#Let's try to find unique values in all the columns\n",
    "#Currently not useful\n",
    "ctcall1 = pd.concat([ctc1[\"latitude\"], ctc1[\"longitude\"], ctc1[\"id\"]]).unique()\n",
    "ctcall1\n",
    "len(ctcall1)\n",
    "\n",
    "#df1 = pd.DataFrame(ctcall1, columns = [\"ulatitude\", \"ulongitude\", \"uid\"])"
   ]
  },
  {
   "cell_type": "code",
   "execution_count": 12,
   "id": "30ad3854-403a-4efd-9365-1537c80349af",
   "metadata": {},
   "outputs": [
    {
     "data": {
      "text/plain": [
       "(63628, 11)"
      ]
     },
     "execution_count": 12,
     "metadata": {},
     "output_type": "execute_result"
    }
   ],
   "source": [
    "wild2 = pd.read_csv(\"canadawildfiresupdated1_2011to2021.csv\")\n",
    "wild2.shape"
   ]
  },
  {
   "cell_type": "code",
   "execution_count": 22,
   "id": "03b91558-b8d9-46a0-bf45-3e23f8087cf5",
   "metadata": {},
   "outputs": [
    {
     "data": {
      "text/html": [
       "<div>\n",
       "<style scoped>\n",
       "    .dataframe tbody tr th:only-of-type {\n",
       "        vertical-align: middle;\n",
       "    }\n",
       "\n",
       "    .dataframe tbody tr th {\n",
       "        vertical-align: top;\n",
       "    }\n",
       "\n",
       "    .dataframe thead th {\n",
       "        text-align: right;\n",
       "    }\n",
       "</style>\n",
       "<table border=\"1\" class=\"dataframe\">\n",
       "  <thead>\n",
       "    <tr style=\"text-align: right;\">\n",
       "      <th></th>\n",
       "      <th>Unnamed: 0</th>\n",
       "      <th>fid</th>\n",
       "      <th>src_agency</th>\n",
       "      <th>latitude</th>\n",
       "      <th>longitude</th>\n",
       "      <th>date</th>\n",
       "      <th>sizeha</th>\n",
       "      <th>cause</th>\n",
       "      <th>protzone</th>\n",
       "      <th>ecoz_name</th>\n",
       "      <th>wildlat1</th>\n",
       "      <th>coordinates</th>\n",
       "    </tr>\n",
       "  </thead>\n",
       "  <tbody>\n",
       "    <tr>\n",
       "      <th>0</th>\n",
       "      <td>0</td>\n",
       "      <td>129874</td>\n",
       "      <td>BC</td>\n",
       "      <td>59.9183</td>\n",
       "      <td>-129.1928</td>\n",
       "      <td>26-07-2012</td>\n",
       "      <td>1.400</td>\n",
       "      <td>L</td>\n",
       "      <td></td>\n",
       "      <td>Boreal Cordillera</td>\n",
       "      <td>(55, 60]</td>\n",
       "      <td>59.9183,-129.1928</td>\n",
       "    </tr>\n",
       "    <tr>\n",
       "      <th>1</th>\n",
       "      <td>1</td>\n",
       "      <td>129875</td>\n",
       "      <td>BC</td>\n",
       "      <td>59.7817</td>\n",
       "      <td>-128.8586</td>\n",
       "      <td>07-07-2012</td>\n",
       "      <td>1.100</td>\n",
       "      <td>L</td>\n",
       "      <td></td>\n",
       "      <td>Boreal Cordillera</td>\n",
       "      <td>(55, 60]</td>\n",
       "      <td>59.7817,-128.8586</td>\n",
       "    </tr>\n",
       "    <tr>\n",
       "      <th>2</th>\n",
       "      <td>2</td>\n",
       "      <td>129876</td>\n",
       "      <td>BC</td>\n",
       "      <td>59.6984</td>\n",
       "      <td>-128.5938</td>\n",
       "      <td>26-07-2012</td>\n",
       "      <td>0.001</td>\n",
       "      <td>L</td>\n",
       "      <td></td>\n",
       "      <td>Boreal Cordillera</td>\n",
       "      <td>(55, 60]</td>\n",
       "      <td>59.6984,-128.5938</td>\n",
       "    </tr>\n",
       "    <tr>\n",
       "      <th>3</th>\n",
       "      <td>3</td>\n",
       "      <td>129877</td>\n",
       "      <td>BC</td>\n",
       "      <td>59.7341</td>\n",
       "      <td>-128.7744</td>\n",
       "      <td>31-07-2012</td>\n",
       "      <td>3.000</td>\n",
       "      <td>L</td>\n",
       "      <td></td>\n",
       "      <td>Boreal Cordillera</td>\n",
       "      <td>(55, 60]</td>\n",
       "      <td>59.7341,-128.7744</td>\n",
       "    </tr>\n",
       "    <tr>\n",
       "      <th>4</th>\n",
       "      <td>4</td>\n",
       "      <td>129878</td>\n",
       "      <td>BC</td>\n",
       "      <td>59.4419</td>\n",
       "      <td>-129.0875</td>\n",
       "      <td>08-08-2012</td>\n",
       "      <td>3500.000</td>\n",
       "      <td>L</td>\n",
       "      <td></td>\n",
       "      <td>Boreal Cordillera</td>\n",
       "      <td>(55, 60]</td>\n",
       "      <td>59.4419,-129.0875</td>\n",
       "    </tr>\n",
       "  </tbody>\n",
       "</table>\n",
       "</div>"
      ],
      "text/plain": [
       "   Unnamed: 0     fid src_agency  latitude  longitude        date    sizeha  \\\n",
       "0           0  129874         BC   59.9183  -129.1928  26-07-2012     1.400   \n",
       "1           1  129875         BC   59.7817  -128.8586  07-07-2012     1.100   \n",
       "2           2  129876         BC   59.6984  -128.5938  26-07-2012     0.001   \n",
       "3           3  129877         BC   59.7341  -128.7744  31-07-2012     3.000   \n",
       "4           4  129878         BC   59.4419  -129.0875  08-08-2012  3500.000   \n",
       "\n",
       "  cause protzone          ecoz_name  wildlat1        coordinates  \n",
       "0     L           Boreal Cordillera  (55, 60]  59.9183,-129.1928  \n",
       "1     L           Boreal Cordillera  (55, 60]  59.7817,-128.8586  \n",
       "2     L           Boreal Cordillera  (55, 60]  59.6984,-128.5938  \n",
       "3     L           Boreal Cordillera  (55, 60]  59.7341,-128.7744  \n",
       "4     L           Boreal Cordillera  (55, 60]  59.4419,-129.0875  "
      ]
     },
     "execution_count": 22,
     "metadata": {},
     "output_type": "execute_result"
    }
   ],
   "source": [
    "wild2[\"coordinates\"] = wild2[\"latitude\"].astype(str) + \",\" + wild2[\"longitude\"].astype(str)\n",
    "wild2.head()\n",
    "\n",
    "#Saving the updated dataframe\n",
    "#wild2.to_csv(r\"C:\\\\Users\\\\ROHAN\\\\erdos\\\\canadawildfiresupdated2_2011to2021.csv\")"
   ]
  },
  {
   "cell_type": "markdown",
   "id": "2038a1d7-d0be-4594-b830-5b1f09f7679f",
   "metadata": {},
   "source": [
    "## Quebec codechunk\n",
    "#### Look for the codeblocks with the comment \"Codename Quebec\". Those are the ones which are pertinent to get a dataset that consists of the unique values for the shortest distance between fires and weather station. The other blocks are just me trying out different things. You may also try those out. The datasets for all of those are provided too"
   ]
  },
  {
   "cell_type": "code",
   "execution_count": 15,
   "id": "574dea2e-7d51-406d-bde6-30cdee5e4532",
   "metadata": {},
   "outputs": [],
   "source": [
    "# Codename Quebec\n",
    "#DataFrame1 from the canadawildfiresupdated2_2011to2021 file\n",
    "fire1 = pd.read_csv(\"canadawildfiresupdated2_2011to2021.csv\")\n",
    "#fire1.head(2)"
   ]
  },
  {
   "cell_type": "code",
   "execution_count": 16,
   "id": "8edf60f4-4ce1-4933-b358-32cc6c60840d",
   "metadata": {},
   "outputs": [],
   "source": [
    "#Limiting decimal points to 4\n",
    "fire1 = round(fire1, 4)"
   ]
  },
  {
   "cell_type": "code",
   "execution_count": 17,
   "id": "01f867ab-b2ca-43a1-b0f8-c3099df835fa",
   "metadata": {},
   "outputs": [
    {
     "data": {
      "text/plain": [
       "(5514, 13)"
      ]
     },
     "execution_count": 17,
     "metadata": {},
     "output_type": "execute_result"
    }
   ],
   "source": [
    "#Codename Quebec\n",
    "#Making a dataframe for only the Quebec region\n",
    "mask = fire1[\"src_agency\"] == \"QC\"\n",
    "fire2_qc = fire1[mask]\n",
    "fire2_qc.shape"
   ]
  },
  {
   "cell_type": "code",
   "execution_count": 18,
   "id": "cfb7e8b5-e17e-4274-b0ff-bbb95a2d8f2c",
   "metadata": {},
   "outputs": [
    {
     "data": {
      "text/html": [
       "<div>\n",
       "<style scoped>\n",
       "    .dataframe tbody tr th:only-of-type {\n",
       "        vertical-align: middle;\n",
       "    }\n",
       "\n",
       "    .dataframe tbody tr th {\n",
       "        vertical-align: top;\n",
       "    }\n",
       "\n",
       "    .dataframe thead th {\n",
       "        text-align: right;\n",
       "    }\n",
       "</style>\n",
       "<table border=\"1\" class=\"dataframe\">\n",
       "  <thead>\n",
       "    <tr style=\"text-align: right;\">\n",
       "      <th></th>\n",
       "      <th>Unnamed: 0</th>\n",
       "      <th>coordinates1</th>\n",
       "      <th>climlatitude</th>\n",
       "      <th>climlongitude</th>\n",
       "    </tr>\n",
       "  </thead>\n",
       "  <tbody>\n",
       "    <tr>\n",
       "      <th>0</th>\n",
       "      <td>0</td>\n",
       "      <td>68.2233,-135.0058</td>\n",
       "      <td>68.2233</td>\n",
       "      <td>-135.0058</td>\n",
       "    </tr>\n",
       "    <tr>\n",
       "      <th>1</th>\n",
       "      <td>1</td>\n",
       "      <td>68.2233,-135.0056</td>\n",
       "      <td>68.2233</td>\n",
       "      <td>-135.0056</td>\n",
       "    </tr>\n",
       "  </tbody>\n",
       "</table>\n",
       "</div>"
      ],
      "text/plain": [
       "   Unnamed: 0       coordinates1  climlatitude  climlongitude\n",
       "0           0  68.2233,-135.0058       68.2233      -135.0058\n",
       "1           1  68.2233,-135.0056       68.2233      -135.0056"
      ]
     },
     "execution_count": 18,
     "metadata": {},
     "output_type": "execute_result"
    }
   ],
   "source": [
    "#Codename Quebec\n",
    "clim1 = pd.read_csv(\"climateuniquecoord2.csv\")\n",
    "clim1 = round(clim1, 4)\n",
    "clim1.head(2)"
   ]
  },
  {
   "cell_type": "code",
   "execution_count": 26,
   "id": "72627680-e0dc-457b-bacd-ad298e28917d",
   "metadata": {},
   "outputs": [
    {
     "data": {
      "text/html": [
       "<div>\n",
       "<style scoped>\n",
       "    .dataframe tbody tr th:only-of-type {\n",
       "        vertical-align: middle;\n",
       "    }\n",
       "\n",
       "    .dataframe tbody tr th {\n",
       "        vertical-align: top;\n",
       "    }\n",
       "\n",
       "    .dataframe thead th {\n",
       "        text-align: right;\n",
       "    }\n",
       "</style>\n",
       "<table border=\"1\" class=\"dataframe\">\n",
       "  <thead>\n",
       "    <tr style=\"text-align: right;\">\n",
       "      <th></th>\n",
       "      <th>Unnamed: 0</th>\n",
       "      <th>src_agency</th>\n",
       "      <th>latitude</th>\n",
       "      <th>longitude</th>\n",
       "      <th>date</th>\n",
       "      <th>sizeha</th>\n",
       "      <th>cause</th>\n",
       "      <th>protzone</th>\n",
       "      <th>ecoz_name</th>\n",
       "      <th>wildlat1</th>\n",
       "    </tr>\n",
       "    <tr>\n",
       "      <th>fid</th>\n",
       "      <th></th>\n",
       "      <th></th>\n",
       "      <th></th>\n",
       "      <th></th>\n",
       "      <th></th>\n",
       "      <th></th>\n",
       "      <th></th>\n",
       "      <th></th>\n",
       "      <th></th>\n",
       "      <th></th>\n",
       "    </tr>\n",
       "  </thead>\n",
       "  <tbody>\n",
       "    <tr>\n",
       "      <th>129874</th>\n",
       "      <td>0</td>\n",
       "      <td>BC</td>\n",
       "      <td>59.9183</td>\n",
       "      <td>-129.1928</td>\n",
       "      <td>26-07-2012</td>\n",
       "      <td>1.400</td>\n",
       "      <td>L</td>\n",
       "      <td></td>\n",
       "      <td>Boreal Cordillera</td>\n",
       "      <td>(55, 60]</td>\n",
       "    </tr>\n",
       "    <tr>\n",
       "      <th>129875</th>\n",
       "      <td>1</td>\n",
       "      <td>BC</td>\n",
       "      <td>59.7817</td>\n",
       "      <td>-128.8586</td>\n",
       "      <td>07-07-2012</td>\n",
       "      <td>1.100</td>\n",
       "      <td>L</td>\n",
       "      <td></td>\n",
       "      <td>Boreal Cordillera</td>\n",
       "      <td>(55, 60]</td>\n",
       "    </tr>\n",
       "    <tr>\n",
       "      <th>129876</th>\n",
       "      <td>2</td>\n",
       "      <td>BC</td>\n",
       "      <td>59.6984</td>\n",
       "      <td>-128.5938</td>\n",
       "      <td>26-07-2012</td>\n",
       "      <td>0.001</td>\n",
       "      <td>L</td>\n",
       "      <td></td>\n",
       "      <td>Boreal Cordillera</td>\n",
       "      <td>(55, 60]</td>\n",
       "    </tr>\n",
       "    <tr>\n",
       "      <th>129877</th>\n",
       "      <td>3</td>\n",
       "      <td>BC</td>\n",
       "      <td>59.7341</td>\n",
       "      <td>-128.7744</td>\n",
       "      <td>31-07-2012</td>\n",
       "      <td>3.000</td>\n",
       "      <td>L</td>\n",
       "      <td></td>\n",
       "      <td>Boreal Cordillera</td>\n",
       "      <td>(55, 60]</td>\n",
       "    </tr>\n",
       "    <tr>\n",
       "      <th>129878</th>\n",
       "      <td>4</td>\n",
       "      <td>BC</td>\n",
       "      <td>59.4419</td>\n",
       "      <td>-129.0875</td>\n",
       "      <td>08-08-2012</td>\n",
       "      <td>3500.000</td>\n",
       "      <td>L</td>\n",
       "      <td></td>\n",
       "      <td>Boreal Cordillera</td>\n",
       "      <td>(55, 60]</td>\n",
       "    </tr>\n",
       "  </tbody>\n",
       "</table>\n",
       "</div>"
      ],
      "text/plain": [
       "        Unnamed: 0 src_agency  latitude  longitude        date    sizeha  \\\n",
       "fid                                                                        \n",
       "129874           0         BC   59.9183  -129.1928  26-07-2012     1.400   \n",
       "129875           1         BC   59.7817  -128.8586  07-07-2012     1.100   \n",
       "129876           2         BC   59.6984  -128.5938  26-07-2012     0.001   \n",
       "129877           3         BC   59.7341  -128.7744  31-07-2012     3.000   \n",
       "129878           4         BC   59.4419  -129.0875  08-08-2012  3500.000   \n",
       "\n",
       "       cause protzone          ecoz_name  wildlat1  \n",
       "fid                                                 \n",
       "129874     L           Boreal Cordillera  (55, 60]  \n",
       "129875     L           Boreal Cordillera  (55, 60]  \n",
       "129876     L           Boreal Cordillera  (55, 60]  \n",
       "129877     L           Boreal Cordillera  (55, 60]  \n",
       "129878     L           Boreal Cordillera  (55, 60]  "
      ]
     },
     "execution_count": 26,
     "metadata": {},
     "output_type": "execute_result"
    }
   ],
   "source": [
    "wild2.set_index(\"fid\", inplace = True)\n",
    "wild2.head()\n",
    "\n",
    "#Problem1: When we use the column \"coordinates\" to set index, we get Key error, None of [\"coordinates\"] are in the columns\n",
    "#Problem2: When we use \"fid\" to set index, we get a dataframe minus the coordinates columns"
   ]
  },
  {
   "cell_type": "code",
   "execution_count": 30,
   "id": "3b9dc15f-f73c-4046-8171-f6f1a9450f63",
   "metadata": {},
   "outputs": [
    {
     "data": {
      "text/html": [
       "<div>\n",
       "<style scoped>\n",
       "    .dataframe tbody tr th:only-of-type {\n",
       "        vertical-align: middle;\n",
       "    }\n",
       "\n",
       "    .dataframe tbody tr th {\n",
       "        vertical-align: top;\n",
       "    }\n",
       "\n",
       "    .dataframe thead th {\n",
       "        text-align: right;\n",
       "    }\n",
       "</style>\n",
       "<table border=\"1\" class=\"dataframe\">\n",
       "  <thead>\n",
       "    <tr style=\"text-align: right;\">\n",
       "      <th></th>\n",
       "      <th>climcoordinates</th>\n",
       "    </tr>\n",
       "  </thead>\n",
       "  <tbody>\n",
       "    <tr>\n",
       "      <th>0</th>\n",
       "      <td>68.22333333,-135.0058333</td>\n",
       "    </tr>\n",
       "    <tr>\n",
       "      <th>1</th>\n",
       "      <td>68.22333333,-135.0055556</td>\n",
       "    </tr>\n",
       "    <tr>\n",
       "      <th>2</th>\n",
       "      <td>50.72888889,-71.01305556</td>\n",
       "    </tr>\n",
       "    <tr>\n",
       "      <th>3</th>\n",
       "      <td>48.47194444,-67.43472222</td>\n",
       "    </tr>\n",
       "    <tr>\n",
       "      <th>4</th>\n",
       "      <td>46.01666667,-71.95</td>\n",
       "    </tr>\n",
       "  </tbody>\n",
       "</table>\n",
       "</div>"
      ],
      "text/plain": [
       "            climcoordinates\n",
       "0  68.22333333,-135.0058333\n",
       "1  68.22333333,-135.0055556\n",
       "2  50.72888889,-71.01305556\n",
       "3  48.47194444,-67.43472222\n",
       "4        46.01666667,-71.95"
      ]
     },
     "execution_count": 30,
     "metadata": {},
     "output_type": "execute_result"
    }
   ],
   "source": [
    "clim2 = pd.read_clipboard()\n",
    "clim2.head()"
   ]
  },
  {
   "cell_type": "code",
   "execution_count": 52,
   "id": "28561bd1-23fb-40f2-841e-3adb34424c84",
   "metadata": {},
   "outputs": [],
   "source": [
    "#Cross joining the two dataframes\n",
    "cj2 = fire1.merge(clim1, how = \"cross\")\n",
    "cj3 = cj2.head(1000)"
   ]
  },
  {
   "cell_type": "code",
   "execution_count": 19,
   "id": "85e2dd3e-8cb4-43b8-87c5-2201808f1a0a",
   "metadata": {},
   "outputs": [
    {
     "data": {
      "text/html": [
       "<div>\n",
       "<style scoped>\n",
       "    .dataframe tbody tr th:only-of-type {\n",
       "        vertical-align: middle;\n",
       "    }\n",
       "\n",
       "    .dataframe tbody tr th {\n",
       "        vertical-align: top;\n",
       "    }\n",
       "\n",
       "    .dataframe thead th {\n",
       "        text-align: right;\n",
       "    }\n",
       "</style>\n",
       "<table border=\"1\" class=\"dataframe\">\n",
       "  <thead>\n",
       "    <tr style=\"text-align: right;\">\n",
       "      <th></th>\n",
       "      <th>Unnamed: 0.1</th>\n",
       "      <th>Unnamed: 0_x</th>\n",
       "      <th>fid</th>\n",
       "      <th>src_agency</th>\n",
       "      <th>latitude</th>\n",
       "      <th>longitude</th>\n",
       "      <th>date</th>\n",
       "      <th>sizeha</th>\n",
       "      <th>cause</th>\n",
       "      <th>protzone</th>\n",
       "      <th>ecoz_name</th>\n",
       "      <th>wildlat1</th>\n",
       "      <th>coordinates</th>\n",
       "      <th>Unnamed: 0_y</th>\n",
       "      <th>coordinates1</th>\n",
       "      <th>climlatitude</th>\n",
       "      <th>climlongitude</th>\n",
       "    </tr>\n",
       "  </thead>\n",
       "  <tbody>\n",
       "    <tr>\n",
       "      <th>0</th>\n",
       "      <td>47903</td>\n",
       "      <td>47903</td>\n",
       "      <td>328420</td>\n",
       "      <td>QC</td>\n",
       "      <td>52.5747</td>\n",
       "      <td>-76.5213</td>\n",
       "      <td>01-07-2019</td>\n",
       "      <td>408.5</td>\n",
       "      <td>L</td>\n",
       "      <td>nordique</td>\n",
       "      <td>Hudson Plain</td>\n",
       "      <td>(50, 55]</td>\n",
       "      <td>52.5747,-76.5213</td>\n",
       "      <td>0</td>\n",
       "      <td>68.2233,-135.0058</td>\n",
       "      <td>68.2233</td>\n",
       "      <td>-135.0058</td>\n",
       "    </tr>\n",
       "    <tr>\n",
       "      <th>1</th>\n",
       "      <td>47903</td>\n",
       "      <td>47903</td>\n",
       "      <td>328420</td>\n",
       "      <td>QC</td>\n",
       "      <td>52.5747</td>\n",
       "      <td>-76.5213</td>\n",
       "      <td>01-07-2019</td>\n",
       "      <td>408.5</td>\n",
       "      <td>L</td>\n",
       "      <td>nordique</td>\n",
       "      <td>Hudson Plain</td>\n",
       "      <td>(50, 55]</td>\n",
       "      <td>52.5747,-76.5213</td>\n",
       "      <td>1</td>\n",
       "      <td>68.2233,-135.0056</td>\n",
       "      <td>68.2233</td>\n",
       "      <td>-135.0056</td>\n",
       "    </tr>\n",
       "  </tbody>\n",
       "</table>\n",
       "</div>"
      ],
      "text/plain": [
       "   Unnamed: 0.1  Unnamed: 0_x     fid src_agency  latitude  longitude  \\\n",
       "0         47903         47903  328420         QC   52.5747   -76.5213   \n",
       "1         47903         47903  328420         QC   52.5747   -76.5213   \n",
       "\n",
       "         date  sizeha cause  protzone     ecoz_name  wildlat1  \\\n",
       "0  01-07-2019   408.5     L  nordique  Hudson Plain  (50, 55]   \n",
       "1  01-07-2019   408.5     L  nordique  Hudson Plain  (50, 55]   \n",
       "\n",
       "        coordinates  Unnamed: 0_y       coordinates1  climlatitude  \\\n",
       "0  52.5747,-76.5213             0  68.2233,-135.0058       68.2233   \n",
       "1  52.5747,-76.5213             1  68.2233,-135.0056       68.2233   \n",
       "\n",
       "   climlongitude  \n",
       "0      -135.0058  \n",
       "1      -135.0056  "
      ]
     },
     "execution_count": 19,
     "metadata": {},
     "output_type": "execute_result"
    }
   ],
   "source": [
    "#Codename Quebec\n",
    "#Crossjoining quebec dataset\n",
    "cj5 = fire2_qc.merge(clim1, how = \"cross\")\n",
    "cj5.shape\n",
    "cj5.head(2)"
   ]
  },
  {
   "cell_type": "code",
   "execution_count": 20,
   "id": "40489fb1-bfe0-4119-8971-097cb34f13ee",
   "metadata": {},
   "outputs": [
    {
     "data": {
      "text/html": [
       "<div>\n",
       "<style scoped>\n",
       "    .dataframe tbody tr th:only-of-type {\n",
       "        vertical-align: middle;\n",
       "    }\n",
       "\n",
       "    .dataframe tbody tr th {\n",
       "        vertical-align: top;\n",
       "    }\n",
       "\n",
       "    .dataframe thead th {\n",
       "        text-align: right;\n",
       "    }\n",
       "</style>\n",
       "<table border=\"1\" class=\"dataframe\">\n",
       "  <thead>\n",
       "    <tr style=\"text-align: right;\">\n",
       "      <th></th>\n",
       "      <th>coordinates</th>\n",
       "      <th>climcoordinates</th>\n",
       "    </tr>\n",
       "  </thead>\n",
       "  <tbody>\n",
       "    <tr>\n",
       "      <th>0</th>\n",
       "      <td>59.9183,-129.1928</td>\n",
       "      <td>68.22333333,-135.0058333</td>\n",
       "    </tr>\n",
       "    <tr>\n",
       "      <th>1</th>\n",
       "      <td>59.9183,-129.1928</td>\n",
       "      <td>68.22333333,-135.0055556</td>\n",
       "    </tr>\n",
       "  </tbody>\n",
       "</table>\n",
       "</div>"
      ],
      "text/plain": [
       "         coordinates           climcoordinates\n",
       "0  59.9183,-129.1928  68.22333333,-135.0058333\n",
       "1  59.9183,-129.1928  68.22333333,-135.0055556"
      ]
     },
     "execution_count": 20,
     "metadata": {},
     "output_type": "execute_result"
    }
   ],
   "source": [
    "cj2_1 = fire1.filter([\"coordinates\"]).merge(clim1.filter([\"climcoordinates\"]), how= \"cross\")\n",
    "cj2_1.head(2)"
   ]
  },
  {
   "cell_type": "code",
   "execution_count": null,
   "id": "0e8f971b-8c34-4207-abc4-6e34668ba2b2",
   "metadata": {},
   "outputs": [],
   "source": [
    "cj2_1.assign"
   ]
  },
  {
   "cell_type": "code",
   "execution_count": 13,
   "id": "925d993a-6af9-4b91-b93b-cbc7e8cdd5ab",
   "metadata": {},
   "outputs": [
    {
     "data": {
      "text/html": [
       "<div>\n",
       "<style scoped>\n",
       "    .dataframe tbody tr th:only-of-type {\n",
       "        vertical-align: middle;\n",
       "    }\n",
       "\n",
       "    .dataframe tbody tr th {\n",
       "        vertical-align: top;\n",
       "    }\n",
       "\n",
       "    .dataframe thead th {\n",
       "        text-align: right;\n",
       "    }\n",
       "</style>\n",
       "<table border=\"1\" class=\"dataframe\">\n",
       "  <thead>\n",
       "    <tr style=\"text-align: right;\">\n",
       "      <th></th>\n",
       "      <th>Unnamed: 0.1</th>\n",
       "      <th>Unnamed: 0</th>\n",
       "      <th>fid</th>\n",
       "      <th>src_agency</th>\n",
       "      <th>latitude</th>\n",
       "      <th>longitude</th>\n",
       "      <th>date</th>\n",
       "      <th>sizeha</th>\n",
       "      <th>cause</th>\n",
       "      <th>protzone</th>\n",
       "      <th>ecoz_name</th>\n",
       "      <th>wildlat1</th>\n",
       "      <th>coordinates</th>\n",
       "    </tr>\n",
       "  </thead>\n",
       "  <tbody>\n",
       "    <tr>\n",
       "      <th>0</th>\n",
       "      <td>0</td>\n",
       "      <td>0</td>\n",
       "      <td>129874</td>\n",
       "      <td>BC</td>\n",
       "      <td>59.9183</td>\n",
       "      <td>-129.1928</td>\n",
       "      <td>26-07-2012</td>\n",
       "      <td>1.400</td>\n",
       "      <td>L</td>\n",
       "      <td></td>\n",
       "      <td>Boreal Cordillera</td>\n",
       "      <td>(55, 60]</td>\n",
       "      <td>59.9183,-129.1928</td>\n",
       "    </tr>\n",
       "    <tr>\n",
       "      <th>1</th>\n",
       "      <td>1</td>\n",
       "      <td>1</td>\n",
       "      <td>129875</td>\n",
       "      <td>BC</td>\n",
       "      <td>59.7817</td>\n",
       "      <td>-128.8586</td>\n",
       "      <td>07-07-2012</td>\n",
       "      <td>1.100</td>\n",
       "      <td>L</td>\n",
       "      <td></td>\n",
       "      <td>Boreal Cordillera</td>\n",
       "      <td>(55, 60]</td>\n",
       "      <td>59.7817,-128.8586</td>\n",
       "    </tr>\n",
       "    <tr>\n",
       "      <th>2</th>\n",
       "      <td>2</td>\n",
       "      <td>2</td>\n",
       "      <td>129876</td>\n",
       "      <td>BC</td>\n",
       "      <td>59.6984</td>\n",
       "      <td>-128.5938</td>\n",
       "      <td>26-07-2012</td>\n",
       "      <td>0.001</td>\n",
       "      <td>L</td>\n",
       "      <td></td>\n",
       "      <td>Boreal Cordillera</td>\n",
       "      <td>(55, 60]</td>\n",
       "      <td>59.6984,-128.5938</td>\n",
       "    </tr>\n",
       "    <tr>\n",
       "      <th>3</th>\n",
       "      <td>3</td>\n",
       "      <td>3</td>\n",
       "      <td>129877</td>\n",
       "      <td>BC</td>\n",
       "      <td>59.7341</td>\n",
       "      <td>-128.7744</td>\n",
       "      <td>31-07-2012</td>\n",
       "      <td>3.000</td>\n",
       "      <td>L</td>\n",
       "      <td></td>\n",
       "      <td>Boreal Cordillera</td>\n",
       "      <td>(55, 60]</td>\n",
       "      <td>59.7341,-128.7744</td>\n",
       "    </tr>\n",
       "    <tr>\n",
       "      <th>4</th>\n",
       "      <td>4</td>\n",
       "      <td>4</td>\n",
       "      <td>129878</td>\n",
       "      <td>BC</td>\n",
       "      <td>59.4419</td>\n",
       "      <td>-129.0875</td>\n",
       "      <td>08-08-2012</td>\n",
       "      <td>3500.000</td>\n",
       "      <td>L</td>\n",
       "      <td></td>\n",
       "      <td>Boreal Cordillera</td>\n",
       "      <td>(55, 60]</td>\n",
       "      <td>59.4419,-129.0875</td>\n",
       "    </tr>\n",
       "    <tr>\n",
       "      <th>5</th>\n",
       "      <td>5</td>\n",
       "      <td>5</td>\n",
       "      <td>129879</td>\n",
       "      <td>BC</td>\n",
       "      <td>59.6270</td>\n",
       "      <td>-128.8263</td>\n",
       "      <td>05-08-2012</td>\n",
       "      <td>1.500</td>\n",
       "      <td>L</td>\n",
       "      <td></td>\n",
       "      <td>Boreal Cordillera</td>\n",
       "      <td>(55, 60]</td>\n",
       "      <td>59.627,-128.8263</td>\n",
       "    </tr>\n",
       "    <tr>\n",
       "      <th>6</th>\n",
       "      <td>6</td>\n",
       "      <td>6</td>\n",
       "      <td>129880</td>\n",
       "      <td>BC</td>\n",
       "      <td>59.6086</td>\n",
       "      <td>-129.0875</td>\n",
       "      <td>05-08-2012</td>\n",
       "      <td>0.009</td>\n",
       "      <td>L</td>\n",
       "      <td></td>\n",
       "      <td>Boreal Cordillera</td>\n",
       "      <td>(55, 60]</td>\n",
       "      <td>59.6086,-129.0875</td>\n",
       "    </tr>\n",
       "    <tr>\n",
       "      <th>7</th>\n",
       "      <td>7</td>\n",
       "      <td>7</td>\n",
       "      <td>129881</td>\n",
       "      <td>BC</td>\n",
       "      <td>59.4670</td>\n",
       "      <td>-129.0421</td>\n",
       "      <td>10-08-2012</td>\n",
       "      <td>5.000</td>\n",
       "      <td>L</td>\n",
       "      <td></td>\n",
       "      <td>Boreal Cordillera</td>\n",
       "      <td>(55, 60]</td>\n",
       "      <td>59.467,-129.0421</td>\n",
       "    </tr>\n",
       "    <tr>\n",
       "      <th>8</th>\n",
       "      <td>8</td>\n",
       "      <td>8</td>\n",
       "      <td>129882</td>\n",
       "      <td>BC</td>\n",
       "      <td>59.5088</td>\n",
       "      <td>-128.6705</td>\n",
       "      <td>14-08-2012</td>\n",
       "      <td>1.400</td>\n",
       "      <td>L</td>\n",
       "      <td></td>\n",
       "      <td>Boreal Cordillera</td>\n",
       "      <td>(55, 60]</td>\n",
       "      <td>59.5088,-128.6705</td>\n",
       "    </tr>\n",
       "    <tr>\n",
       "      <th>9</th>\n",
       "      <td>9</td>\n",
       "      <td>9</td>\n",
       "      <td>129883</td>\n",
       "      <td>BC</td>\n",
       "      <td>59.9200</td>\n",
       "      <td>-128.6567</td>\n",
       "      <td>12-08-2012</td>\n",
       "      <td>0.009</td>\n",
       "      <td>L</td>\n",
       "      <td></td>\n",
       "      <td>Boreal Cordillera</td>\n",
       "      <td>(55, 60]</td>\n",
       "      <td>59.92,-128.6567</td>\n",
       "    </tr>\n",
       "  </tbody>\n",
       "</table>\n",
       "</div>"
      ],
      "text/plain": [
       "   Unnamed: 0.1  Unnamed: 0     fid src_agency  latitude  longitude  \\\n",
       "0             0           0  129874         BC   59.9183  -129.1928   \n",
       "1             1           1  129875         BC   59.7817  -128.8586   \n",
       "2             2           2  129876         BC   59.6984  -128.5938   \n",
       "3             3           3  129877         BC   59.7341  -128.7744   \n",
       "4             4           4  129878         BC   59.4419  -129.0875   \n",
       "5             5           5  129879         BC   59.6270  -128.8263   \n",
       "6             6           6  129880         BC   59.6086  -129.0875   \n",
       "7             7           7  129881         BC   59.4670  -129.0421   \n",
       "8             8           8  129882         BC   59.5088  -128.6705   \n",
       "9             9           9  129883         BC   59.9200  -128.6567   \n",
       "\n",
       "         date    sizeha cause protzone          ecoz_name  wildlat1  \\\n",
       "0  26-07-2012     1.400     L           Boreal Cordillera  (55, 60]   \n",
       "1  07-07-2012     1.100     L           Boreal Cordillera  (55, 60]   \n",
       "2  26-07-2012     0.001     L           Boreal Cordillera  (55, 60]   \n",
       "3  31-07-2012     3.000     L           Boreal Cordillera  (55, 60]   \n",
       "4  08-08-2012  3500.000     L           Boreal Cordillera  (55, 60]   \n",
       "5  05-08-2012     1.500     L           Boreal Cordillera  (55, 60]   \n",
       "6  05-08-2012     0.009     L           Boreal Cordillera  (55, 60]   \n",
       "7  10-08-2012     5.000     L           Boreal Cordillera  (55, 60]   \n",
       "8  14-08-2012     1.400     L           Boreal Cordillera  (55, 60]   \n",
       "9  12-08-2012     0.009     L           Boreal Cordillera  (55, 60]   \n",
       "\n",
       "         coordinates  \n",
       "0  59.9183,-129.1928  \n",
       "1  59.7817,-128.8586  \n",
       "2  59.6984,-128.5938  \n",
       "3  59.7341,-128.7744  \n",
       "4  59.4419,-129.0875  \n",
       "5   59.627,-128.8263  \n",
       "6  59.6086,-129.0875  \n",
       "7   59.467,-129.0421  \n",
       "8  59.5088,-128.6705  \n",
       "9    59.92,-128.6567  "
      ]
     },
     "execution_count": 13,
     "metadata": {},
     "output_type": "execute_result"
    }
   ],
   "source": [
    "fire1.head(10)"
   ]
  },
  {
   "cell_type": "code",
   "execution_count": 53,
   "id": "4b0052f9-7b4d-4e94-86ee-e243fdf822d6",
   "metadata": {},
   "outputs": [],
   "source": [
    "cj3.to_csv(r\"C:\\\\Users\\\\ROHAN\\\\erdos\\\\fire_stations_crossjoin2.csv\")"
   ]
  },
  {
   "cell_type": "code",
   "execution_count": 4,
   "id": "df3b9b9d-355c-470b-82c4-dba4fa26d48b",
   "metadata": {},
   "outputs": [],
   "source": [
    "#Calling in this new file after adding a new column for the joint fire-climate combo\n",
    "cj4 = pd.read_csv(\"fire_stations_crossjoin2.csv\")"
   ]
  },
  {
   "cell_type": "code",
   "execution_count": 21,
   "id": "16571612-3e7f-485b-bc35-feaf0a3db737",
   "metadata": {},
   "outputs": [
    {
     "data": {
      "text/plain": [
       "(1000, 19)"
      ]
     },
     "execution_count": 21,
     "metadata": {},
     "output_type": "execute_result"
    }
   ],
   "source": [
    "cj4.shape"
   ]
  },
  {
   "cell_type": "code",
   "execution_count": 55,
   "id": "bfb429f8-270a-4272-ae4b-7eb38d7c9b94",
   "metadata": {},
   "outputs": [],
   "source": [
    "#The analysis requires the latitude and longitude to be in radians. So doing so using np.radians for fire coordinates\n",
    "cj4[[\"firelat_radians\",\"firelong_radians\"]] = np.radians(cj4.loc[:,[\"latitude\", \"longitude\"]])\n",
    "#cj2.head(2)"
   ]
  },
  {
   "cell_type": "code",
   "execution_count": 56,
   "id": "05ca807e-cc7f-4d54-953b-0fb26bce311a",
   "metadata": {},
   "outputs": [],
   "source": [
    "#Converting coordinates to radians for weather stations\n",
    "cj4[[\"climlat_radians\", \"climlong_radians\"]] = np.radians(cj4.loc[:,[\"climlatitude\", \"climlongitude\"]])"
   ]
  },
  {
   "cell_type": "code",
   "execution_count": 20,
   "id": "4d96bc03-5901-4eb2-a25c-61f7f995db67",
   "metadata": {},
   "outputs": [],
   "source": [
    "#Codename Quebec\n",
    "#Converting fire and weather(climate) station data of quebec to radians for applying haversine formula\n",
    "cj5[[\"firelat_radians\",\"firelong_radians\"]] = np.radians(cj5.loc[:,[\"latitude\", \"longitude\"]])\n",
    "cj5[[\"climlat_radians\", \"climlong_radians\"]] = np.radians(cj5.loc[:,[\"climlatitude\", \"climlongitude\"]])"
   ]
  },
  {
   "cell_type": "code",
   "execution_count": 21,
   "id": "d58a2cf2-8142-43a0-8168-054503fa6b8f",
   "metadata": {},
   "outputs": [
    {
     "data": {
      "text/html": [
       "<div>\n",
       "<style scoped>\n",
       "    .dataframe tbody tr th:only-of-type {\n",
       "        vertical-align: middle;\n",
       "    }\n",
       "\n",
       "    .dataframe tbody tr th {\n",
       "        vertical-align: top;\n",
       "    }\n",
       "\n",
       "    .dataframe thead th {\n",
       "        text-align: right;\n",
       "    }\n",
       "</style>\n",
       "<table border=\"1\" class=\"dataframe\">\n",
       "  <thead>\n",
       "    <tr style=\"text-align: right;\">\n",
       "      <th></th>\n",
       "      <th>Unnamed: 0.1</th>\n",
       "      <th>Unnamed: 0_x</th>\n",
       "      <th>fid</th>\n",
       "      <th>src_agency</th>\n",
       "      <th>latitude</th>\n",
       "      <th>longitude</th>\n",
       "      <th>date</th>\n",
       "      <th>sizeha</th>\n",
       "      <th>cause</th>\n",
       "      <th>protzone</th>\n",
       "      <th>...</th>\n",
       "      <th>wildlat1</th>\n",
       "      <th>coordinates</th>\n",
       "      <th>Unnamed: 0_y</th>\n",
       "      <th>coordinates1</th>\n",
       "      <th>climlatitude</th>\n",
       "      <th>climlongitude</th>\n",
       "      <th>firelat_radians</th>\n",
       "      <th>firelong_radians</th>\n",
       "      <th>climlat_radians</th>\n",
       "      <th>climlong_radians</th>\n",
       "    </tr>\n",
       "  </thead>\n",
       "  <tbody>\n",
       "    <tr>\n",
       "      <th>0</th>\n",
       "      <td>47903</td>\n",
       "      <td>47903</td>\n",
       "      <td>328420</td>\n",
       "      <td>QC</td>\n",
       "      <td>52.5747</td>\n",
       "      <td>-76.5213</td>\n",
       "      <td>01-07-2019</td>\n",
       "      <td>408.5</td>\n",
       "      <td>L</td>\n",
       "      <td>nordique</td>\n",
       "      <td>...</td>\n",
       "      <td>(50, 55]</td>\n",
       "      <td>52.5747,-76.5213</td>\n",
       "      <td>0</td>\n",
       "      <td>68.2233,-135.0058</td>\n",
       "      <td>68.2233</td>\n",
       "      <td>-135.0058</td>\n",
       "      <td>0.917602</td>\n",
       "      <td>-1.335549</td>\n",
       "      <td>1.190721</td>\n",
       "      <td>-2.356296</td>\n",
       "    </tr>\n",
       "    <tr>\n",
       "      <th>1</th>\n",
       "      <td>47903</td>\n",
       "      <td>47903</td>\n",
       "      <td>328420</td>\n",
       "      <td>QC</td>\n",
       "      <td>52.5747</td>\n",
       "      <td>-76.5213</td>\n",
       "      <td>01-07-2019</td>\n",
       "      <td>408.5</td>\n",
       "      <td>L</td>\n",
       "      <td>nordique</td>\n",
       "      <td>...</td>\n",
       "      <td>(50, 55]</td>\n",
       "      <td>52.5747,-76.5213</td>\n",
       "      <td>1</td>\n",
       "      <td>68.2233,-135.0056</td>\n",
       "      <td>68.2233</td>\n",
       "      <td>-135.0056</td>\n",
       "      <td>0.917602</td>\n",
       "      <td>-1.335549</td>\n",
       "      <td>1.190721</td>\n",
       "      <td>-2.356292</td>\n",
       "    </tr>\n",
       "  </tbody>\n",
       "</table>\n",
       "<p>2 rows × 21 columns</p>\n",
       "</div>"
      ],
      "text/plain": [
       "   Unnamed: 0.1  Unnamed: 0_x     fid src_agency  latitude  longitude  \\\n",
       "0         47903         47903  328420         QC   52.5747   -76.5213   \n",
       "1         47903         47903  328420         QC   52.5747   -76.5213   \n",
       "\n",
       "         date  sizeha cause  protzone  ...  wildlat1       coordinates  \\\n",
       "0  01-07-2019   408.5     L  nordique  ...  (50, 55]  52.5747,-76.5213   \n",
       "1  01-07-2019   408.5     L  nordique  ...  (50, 55]  52.5747,-76.5213   \n",
       "\n",
       "  Unnamed: 0_y       coordinates1 climlatitude  climlongitude  \\\n",
       "0            0  68.2233,-135.0058      68.2233      -135.0058   \n",
       "1            1  68.2233,-135.0056      68.2233      -135.0056   \n",
       "\n",
       "   firelat_radians  firelong_radians  climlat_radians  climlong_radians  \n",
       "0         0.917602         -1.335549         1.190721         -2.356296  \n",
       "1         0.917602         -1.335549         1.190721         -2.356292  \n",
       "\n",
       "[2 rows x 21 columns]"
      ]
     },
     "execution_count": 21,
     "metadata": {},
     "output_type": "execute_result"
    }
   ],
   "source": [
    "cj5.head(2)"
   ]
  },
  {
   "cell_type": "code",
   "execution_count": 57,
   "id": "71f92363-478c-4b5a-ad9f-1f7618e5a23f",
   "metadata": {},
   "outputs": [],
   "source": [
    "#Calculating the haversine distance between the two points. Since, computation assumes the radius of the sphere is 1, we\n",
    "#multiply it by 6371, the avg radius of earth in kms. Dataframe running to PiB size for cj2 dataframe. computer unable to allocate memory. shorten. check cj4\n",
    "dist1 = sklearn.metrics.DistanceMetric.get_metric(\"haversine\")\n",
    "\n",
    "dist1matrix = dist1.pairwise(\n",
    "    cj4[[\"firelat_radians\", \"firelong_radians\"]],\n",
    "    cj4[[\"climlat_radians\", \"climlong_radians\"]])* 6371\n",
    "\n",
    "#Converting the matrix into a dataframe\n",
    "dist1df = pd.DataFrame(dist1matrix, index = cj4[\"jointID\"],\n",
    "                       columns = cj4[\"wid\"])"
   ]
  },
  {
   "cell_type": "code",
   "execution_count": 22,
   "id": "24244141-6a51-473e-9ab6-56f010ce0b25",
   "metadata": {},
   "outputs": [],
   "source": [
    "#Codename Quebec\n",
    "#Defining the haversine formula\n",
    "def haversine_distance(lon1, lat1, lon2, lat2):\n",
    "    newlat = lat2 - lat1\n",
    "    newlon = lon2 - lon1\n",
    "\n",
    "    haver_formula = np.sin(newlat/2.0)**2 + np.cos(lat1) * np.cos(lat2) * np.sin(newlon/2.0)**2\n",
    "\n",
    "    dist = 2 * np.arcsin(np.sqrt(haver_formula ))\n",
    "    # use appropriate value for radius of the earth (this is crude!)\n",
    "    km = 6367 * dist #6367 for distance in KM for miles use 3958\n",
    "    return km"
   ]
  },
  {
   "cell_type": "code",
   "execution_count": 23,
   "id": "781aca59-61db-4049-a2ff-fa455180155f",
   "metadata": {},
   "outputs": [],
   "source": [
    "#Codename Quebec\n",
    "#To compute distances by applying the formula\n",
    "cj5[\"distance_km\"] = haversine_distance(cj5[\"firelong_radians\"], cj5[\"firelat_radians\"], cj5[\"climlong_radians\"], \n",
    "                                                  cj5[\"climlat_radians\"])"
   ]
  },
  {
   "cell_type": "code",
   "execution_count": 16,
   "id": "9496f218-6a72-454d-85fe-7ca4133dbbf4",
   "metadata": {},
   "outputs": [
    {
     "data": {
      "text/plain": [
       "False"
      ]
     },
     "execution_count": 16,
     "metadata": {},
     "output_type": "execute_result"
    }
   ],
   "source": [
    "#Check if every value in column \"distance_km\" is unique\n",
    "cj5[\"distance_km\"].is_unique"
   ]
  },
  {
   "cell_type": "code",
   "execution_count": 17,
   "id": "632d49c6-dd74-418f-8732-b3abe8ead43c",
   "metadata": {},
   "outputs": [
    {
     "data": {
      "text/plain": [
       "6276"
      ]
     },
     "execution_count": 17,
     "metadata": {},
     "output_type": "execute_result"
    }
   ],
   "source": [
    "#Find the count of dupicated values in column \"distance_km\"\n",
    "cj5.duplicated(subset = \"distance_km\").sum()"
   ]
  },
  {
   "cell_type": "code",
   "execution_count": 24,
   "id": "11a23aaf-475d-4f2a-b021-135b8165ab9b",
   "metadata": {},
   "outputs": [],
   "source": [
    "#Codename Quebec\n",
    "#We group by the entire dataset on the basis of fire identity (fid) and then select the rows with minimum value for distance from weather station\n",
    "#cj6 = cj5.groupby(\"fid\", as_index = False).min(\"distance_km\"); When we ran this code the other columns like lat, long etc had their first values \n",
    "#instead of the one corresponding to the lowest distance_km\n",
    "\n",
    "cj6qc = cj5.groupby([\"fid\"])[\"distance_km\"].min()\n",
    "\n",
    "#Converting cj6qc, which is a series object, into a dataframe\n",
    "cj6qc = pd.DataFrame(cj6qc, columns = [\"distance_km\"])\n",
    "\n",
    "#Now make index of cj6qc as column \"fid\" and change index\n",
    "cj6qc['fid'] = cj6qc.index\n",
    "cj6qc.index = range(cj6qc.shape[0])\n",
    "\n",
    "#Now merging cj5 and cj6qc on both columns \"fid\" and \"distance_km\"\n",
    "cj7qc = pd.merge(cj5, cj6qc, on = [\"fid\", \"distance_km\"])"
   ]
  },
  {
   "cell_type": "code",
   "execution_count": 25,
   "id": "7aef5d90-4037-47e0-8977-35c29b79a805",
   "metadata": {},
   "outputs": [
    {
     "data": {
      "text/html": [
       "<div>\n",
       "<style scoped>\n",
       "    .dataframe tbody tr th:only-of-type {\n",
       "        vertical-align: middle;\n",
       "    }\n",
       "\n",
       "    .dataframe tbody tr th {\n",
       "        vertical-align: top;\n",
       "    }\n",
       "\n",
       "    .dataframe thead th {\n",
       "        text-align: right;\n",
       "    }\n",
       "</style>\n",
       "<table border=\"1\" class=\"dataframe\">\n",
       "  <thead>\n",
       "    <tr style=\"text-align: right;\">\n",
       "      <th></th>\n",
       "      <th>Unnamed: 0.1</th>\n",
       "      <th>Unnamed: 0_x</th>\n",
       "      <th>fid</th>\n",
       "      <th>src_agency</th>\n",
       "      <th>latitude</th>\n",
       "      <th>longitude</th>\n",
       "      <th>date</th>\n",
       "      <th>sizeha</th>\n",
       "      <th>cause</th>\n",
       "      <th>protzone</th>\n",
       "      <th>...</th>\n",
       "      <th>coordinates</th>\n",
       "      <th>Unnamed: 0_y</th>\n",
       "      <th>coordinates1</th>\n",
       "      <th>climlatitude</th>\n",
       "      <th>climlongitude</th>\n",
       "      <th>firelat_radians</th>\n",
       "      <th>firelong_radians</th>\n",
       "      <th>climlat_radians</th>\n",
       "      <th>climlong_radians</th>\n",
       "      <th>distance_km</th>\n",
       "    </tr>\n",
       "  </thead>\n",
       "  <tbody>\n",
       "    <tr>\n",
       "      <th>0</th>\n",
       "      <td>47903</td>\n",
       "      <td>47903</td>\n",
       "      <td>328420</td>\n",
       "      <td>QC</td>\n",
       "      <td>52.5747</td>\n",
       "      <td>-76.5213</td>\n",
       "      <td>01-07-2019</td>\n",
       "      <td>408.5</td>\n",
       "      <td>L</td>\n",
       "      <td>nordique</td>\n",
       "      <td>...</td>\n",
       "      <td>52.5747,-76.5213</td>\n",
       "      <td>78</td>\n",
       "      <td>53.6253,-77.7042</td>\n",
       "      <td>53.6253</td>\n",
       "      <td>-77.7042</td>\n",
       "      <td>0.917602</td>\n",
       "      <td>-1.335549</td>\n",
       "      <td>0.935938</td>\n",
       "      <td>-1.356194</td>\n",
       "      <td>140.918574</td>\n",
       "    </tr>\n",
       "    <tr>\n",
       "      <th>1</th>\n",
       "      <td>47904</td>\n",
       "      <td>47904</td>\n",
       "      <td>328421</td>\n",
       "      <td>QC</td>\n",
       "      <td>52.5730</td>\n",
       "      <td>-76.5418</td>\n",
       "      <td>01-07-2019</td>\n",
       "      <td>34.5</td>\n",
       "      <td>L</td>\n",
       "      <td>nordique</td>\n",
       "      <td>...</td>\n",
       "      <td>52.573,-76.5418</td>\n",
       "      <td>45</td>\n",
       "      <td>52.2264,-78.5225</td>\n",
       "      <td>52.2264</td>\n",
       "      <td>-78.5225</td>\n",
       "      <td>0.917572</td>\n",
       "      <td>-1.335906</td>\n",
       "      <td>0.911523</td>\n",
       "      <td>-1.370476</td>\n",
       "      <td>139.705991</td>\n",
       "    </tr>\n",
       "    <tr>\n",
       "      <th>2</th>\n",
       "      <td>47905</td>\n",
       "      <td>47905</td>\n",
       "      <td>328422</td>\n",
       "      <td>QC</td>\n",
       "      <td>50.9285</td>\n",
       "      <td>-78.0518</td>\n",
       "      <td>01-07-2019</td>\n",
       "      <td>141.9</td>\n",
       "      <td>L</td>\n",
       "      <td>nordique</td>\n",
       "      <td>...</td>\n",
       "      <td>50.9285,-78.0518</td>\n",
       "      <td>245</td>\n",
       "      <td>51.4733,-78.7583</td>\n",
       "      <td>51.4733</td>\n",
       "      <td>-78.7583</td>\n",
       "      <td>0.888870</td>\n",
       "      <td>-1.362261</td>\n",
       "      <td>0.898379</td>\n",
       "      <td>-1.374592</td>\n",
       "      <td>78.007054</td>\n",
       "    </tr>\n",
       "  </tbody>\n",
       "</table>\n",
       "<p>3 rows × 22 columns</p>\n",
       "</div>"
      ],
      "text/plain": [
       "   Unnamed: 0.1  Unnamed: 0_x     fid src_agency  latitude  longitude  \\\n",
       "0         47903         47903  328420         QC   52.5747   -76.5213   \n",
       "1         47904         47904  328421         QC   52.5730   -76.5418   \n",
       "2         47905         47905  328422         QC   50.9285   -78.0518   \n",
       "\n",
       "         date  sizeha cause  protzone  ...       coordinates Unnamed: 0_y  \\\n",
       "0  01-07-2019   408.5     L  nordique  ...  52.5747,-76.5213           78   \n",
       "1  01-07-2019    34.5     L  nordique  ...   52.573,-76.5418           45   \n",
       "2  01-07-2019   141.9     L  nordique  ...  50.9285,-78.0518          245   \n",
       "\n",
       "       coordinates1  climlatitude climlongitude  firelat_radians  \\\n",
       "0  53.6253,-77.7042       53.6253      -77.7042         0.917602   \n",
       "1  52.2264,-78.5225       52.2264      -78.5225         0.917572   \n",
       "2  51.4733,-78.7583       51.4733      -78.7583         0.888870   \n",
       "\n",
       "   firelong_radians  climlat_radians  climlong_radians  distance_km  \n",
       "0         -1.335549         0.935938         -1.356194   140.918574  \n",
       "1         -1.335906         0.911523         -1.370476   139.705991  \n",
       "2         -1.362261         0.898379         -1.374592    78.007054  \n",
       "\n",
       "[3 rows x 22 columns]"
      ]
     },
     "execution_count": 25,
     "metadata": {},
     "output_type": "execute_result"
    }
   ],
   "source": [
    "#Codename Quebec\n",
    "#cj6qc.head(3)\n",
    "cj7qc.head(3)"
   ]
  },
  {
   "cell_type": "code",
   "execution_count": 30,
   "id": "a9bea2bc-5e8a-4c53-b8ad-35109c3325aa",
   "metadata": {},
   "outputs": [],
   "source": [
    "#Codename Quebec\n",
    "cj7qc.to_csv(r\"C:\\\\Users\\\\ROHAN\\\\erdos\\\\quebecfire_mindist1.csv\")"
   ]
  },
  {
   "cell_type": "code",
   "execution_count": 26,
   "id": "f1540e05-450f-460a-95c8-4765a034051e",
   "metadata": {},
   "outputs": [
    {
     "name": "stdout",
     "output_type": "stream",
     "text": [
      "[]\n"
     ]
    }
   ],
   "source": [
    "#Checking to see if the value of distance_km column in both cj5 and cj6qc is same or not using iloc\n",
    "#display(cj5.iloc[80]) #Rownumbers not matching in csv file. row 82 in file is 311.645578 whereas row80 is 140.915295 but here it shows the former is row80\n",
    "row_num = cj5[cj5[\"distance_km\"] == 140.915295].index.to_numpy()\n",
    "print(row_num)"
   ]
  },
  {
   "cell_type": "code",
   "execution_count": 16,
   "id": "06aca854-187c-4ab7-b4aa-0f6496b774bb",
   "metadata": {},
   "outputs": [
    {
     "data": {
      "text/plain": [
       "0"
      ]
     },
     "execution_count": 16,
     "metadata": {},
     "output_type": "execute_result"
    }
   ],
   "source": [
    "cj6.duplicated(subset = \"fid\").sum()"
   ]
  },
  {
   "cell_type": "code",
   "execution_count": 58,
   "id": "b86a219d-9051-4970-ba90-89ea741d3a4a",
   "metadata": {},
   "outputs": [
    {
     "data": {
      "text/html": [
       "<div>\n",
       "<style scoped>\n",
       "    .dataframe tbody tr th:only-of-type {\n",
       "        vertical-align: middle;\n",
       "    }\n",
       "\n",
       "    .dataframe tbody tr th {\n",
       "        vertical-align: top;\n",
       "    }\n",
       "\n",
       "    .dataframe thead th {\n",
       "        text-align: right;\n",
       "    }\n",
       "</style>\n",
       "<table border=\"1\" class=\"dataframe\">\n",
       "  <thead>\n",
       "    <tr style=\"text-align: right;\">\n",
       "      <th>wid</th>\n",
       "      <th>wid1</th>\n",
       "      <th>wid2</th>\n",
       "      <th>wid3</th>\n",
       "      <th>wid4</th>\n",
       "      <th>wid5</th>\n",
       "      <th>wid6</th>\n",
       "      <th>wid7</th>\n",
       "      <th>wid8</th>\n",
       "      <th>wid9</th>\n",
       "      <th>wid10</th>\n",
       "      <th>...</th>\n",
       "      <th>wid238</th>\n",
       "      <th>wid239</th>\n",
       "      <th>wid240</th>\n",
       "      <th>wid241</th>\n",
       "      <th>wid242</th>\n",
       "      <th>wid243</th>\n",
       "      <th>wid244</th>\n",
       "      <th>wid245</th>\n",
       "      <th>wid246</th>\n",
       "      <th>wid247</th>\n",
       "    </tr>\n",
       "    <tr>\n",
       "      <th>jointID</th>\n",
       "      <th></th>\n",
       "      <th></th>\n",
       "      <th></th>\n",
       "      <th></th>\n",
       "      <th></th>\n",
       "      <th></th>\n",
       "      <th></th>\n",
       "      <th></th>\n",
       "      <th></th>\n",
       "      <th></th>\n",
       "      <th></th>\n",
       "      <th></th>\n",
       "      <th></th>\n",
       "      <th></th>\n",
       "      <th></th>\n",
       "      <th></th>\n",
       "      <th></th>\n",
       "      <th></th>\n",
       "      <th></th>\n",
       "      <th></th>\n",
       "      <th></th>\n",
       "    </tr>\n",
       "  </thead>\n",
       "  <tbody>\n",
       "    <tr>\n",
       "      <th>FC1</th>\n",
       "      <td>964.739099</td>\n",
       "      <td>964.735244</td>\n",
       "      <td>3686.887759</td>\n",
       "      <td>4045.843677</td>\n",
       "      <td>3981.821821</td>\n",
       "      <td>3910.879061</td>\n",
       "      <td>3975.51317</td>\n",
       "      <td>4012.007403</td>\n",
       "      <td>4012.217518</td>\n",
       "      <td>4023.146537</td>\n",
       "      <td>...</td>\n",
       "      <td>3938.10854</td>\n",
       "      <td>4014.853347</td>\n",
       "      <td>4008.766483</td>\n",
       "      <td>3880.541296</td>\n",
       "      <td>4033.496094</td>\n",
       "      <td>4034.234603</td>\n",
       "      <td>3925.087458</td>\n",
       "      <td>3938.840057</td>\n",
       "      <td>3208.931244</td>\n",
       "      <td>3105.246185</td>\n",
       "    </tr>\n",
       "    <tr>\n",
       "      <th>FC2</th>\n",
       "      <td>964.739099</td>\n",
       "      <td>964.735244</td>\n",
       "      <td>3686.887759</td>\n",
       "      <td>4045.843677</td>\n",
       "      <td>3981.821821</td>\n",
       "      <td>3910.879061</td>\n",
       "      <td>3975.51317</td>\n",
       "      <td>4012.007403</td>\n",
       "      <td>4012.217518</td>\n",
       "      <td>4023.146537</td>\n",
       "      <td>...</td>\n",
       "      <td>3938.10854</td>\n",
       "      <td>4014.853347</td>\n",
       "      <td>4008.766483</td>\n",
       "      <td>3880.541296</td>\n",
       "      <td>4033.496094</td>\n",
       "      <td>4034.234603</td>\n",
       "      <td>3925.087458</td>\n",
       "      <td>3938.840057</td>\n",
       "      <td>3208.931244</td>\n",
       "      <td>3105.246185</td>\n",
       "    </tr>\n",
       "    <tr>\n",
       "      <th>FC3</th>\n",
       "      <td>964.739099</td>\n",
       "      <td>964.735244</td>\n",
       "      <td>3686.887759</td>\n",
       "      <td>4045.843677</td>\n",
       "      <td>3981.821821</td>\n",
       "      <td>3910.879061</td>\n",
       "      <td>3975.51317</td>\n",
       "      <td>4012.007403</td>\n",
       "      <td>4012.217518</td>\n",
       "      <td>4023.146537</td>\n",
       "      <td>...</td>\n",
       "      <td>3938.10854</td>\n",
       "      <td>4014.853347</td>\n",
       "      <td>4008.766483</td>\n",
       "      <td>3880.541296</td>\n",
       "      <td>4033.496094</td>\n",
       "      <td>4034.234603</td>\n",
       "      <td>3925.087458</td>\n",
       "      <td>3938.840057</td>\n",
       "      <td>3208.931244</td>\n",
       "      <td>3105.246185</td>\n",
       "    </tr>\n",
       "    <tr>\n",
       "      <th>FC4</th>\n",
       "      <td>964.739099</td>\n",
       "      <td>964.735244</td>\n",
       "      <td>3686.887759</td>\n",
       "      <td>4045.843677</td>\n",
       "      <td>3981.821821</td>\n",
       "      <td>3910.879061</td>\n",
       "      <td>3975.51317</td>\n",
       "      <td>4012.007403</td>\n",
       "      <td>4012.217518</td>\n",
       "      <td>4023.146537</td>\n",
       "      <td>...</td>\n",
       "      <td>3938.10854</td>\n",
       "      <td>4014.853347</td>\n",
       "      <td>4008.766483</td>\n",
       "      <td>3880.541296</td>\n",
       "      <td>4033.496094</td>\n",
       "      <td>4034.234603</td>\n",
       "      <td>3925.087458</td>\n",
       "      <td>3938.840057</td>\n",
       "      <td>3208.931244</td>\n",
       "      <td>3105.246185</td>\n",
       "    </tr>\n",
       "    <tr>\n",
       "      <th>FC5</th>\n",
       "      <td>964.739099</td>\n",
       "      <td>964.735244</td>\n",
       "      <td>3686.887759</td>\n",
       "      <td>4045.843677</td>\n",
       "      <td>3981.821821</td>\n",
       "      <td>3910.879061</td>\n",
       "      <td>3975.51317</td>\n",
       "      <td>4012.007403</td>\n",
       "      <td>4012.217518</td>\n",
       "      <td>4023.146537</td>\n",
       "      <td>...</td>\n",
       "      <td>3938.10854</td>\n",
       "      <td>4014.853347</td>\n",
       "      <td>4008.766483</td>\n",
       "      <td>3880.541296</td>\n",
       "      <td>4033.496094</td>\n",
       "      <td>4034.234603</td>\n",
       "      <td>3925.087458</td>\n",
       "      <td>3938.840057</td>\n",
       "      <td>3208.931244</td>\n",
       "      <td>3105.246185</td>\n",
       "    </tr>\n",
       "  </tbody>\n",
       "</table>\n",
       "<p>5 rows × 1000 columns</p>\n",
       "</div>"
      ],
      "text/plain": [
       "wid            wid1        wid2         wid3         wid4         wid5  \\\n",
       "jointID                                                                  \n",
       "FC1      964.739099  964.735244  3686.887759  4045.843677  3981.821821   \n",
       "FC2      964.739099  964.735244  3686.887759  4045.843677  3981.821821   \n",
       "FC3      964.739099  964.735244  3686.887759  4045.843677  3981.821821   \n",
       "FC4      964.739099  964.735244  3686.887759  4045.843677  3981.821821   \n",
       "FC5      964.739099  964.735244  3686.887759  4045.843677  3981.821821   \n",
       "\n",
       "wid             wid6        wid7         wid8         wid9        wid10  ...  \\\n",
       "jointID                                                                  ...   \n",
       "FC1      3910.879061  3975.51317  4012.007403  4012.217518  4023.146537  ...   \n",
       "FC2      3910.879061  3975.51317  4012.007403  4012.217518  4023.146537  ...   \n",
       "FC3      3910.879061  3975.51317  4012.007403  4012.217518  4023.146537  ...   \n",
       "FC4      3910.879061  3975.51317  4012.007403  4012.217518  4023.146537  ...   \n",
       "FC5      3910.879061  3975.51317  4012.007403  4012.217518  4023.146537  ...   \n",
       "\n",
       "wid          wid238       wid239       wid240       wid241       wid242  \\\n",
       "jointID                                                                   \n",
       "FC1      3938.10854  4014.853347  4008.766483  3880.541296  4033.496094   \n",
       "FC2      3938.10854  4014.853347  4008.766483  3880.541296  4033.496094   \n",
       "FC3      3938.10854  4014.853347  4008.766483  3880.541296  4033.496094   \n",
       "FC4      3938.10854  4014.853347  4008.766483  3880.541296  4033.496094   \n",
       "FC5      3938.10854  4014.853347  4008.766483  3880.541296  4033.496094   \n",
       "\n",
       "wid           wid243       wid244       wid245       wid246       wid247  \n",
       "jointID                                                                   \n",
       "FC1      4034.234603  3925.087458  3938.840057  3208.931244  3105.246185  \n",
       "FC2      4034.234603  3925.087458  3938.840057  3208.931244  3105.246185  \n",
       "FC3      4034.234603  3925.087458  3938.840057  3208.931244  3105.246185  \n",
       "FC4      4034.234603  3925.087458  3938.840057  3208.931244  3105.246185  \n",
       "FC5      4034.234603  3925.087458  3938.840057  3208.931244  3105.246185  \n",
       "\n",
       "[5 rows x 1000 columns]"
      ]
     },
     "execution_count": 58,
     "metadata": {},
     "output_type": "execute_result"
    }
   ],
   "source": [
    "dist1df.head(5)"
   ]
  },
  {
   "cell_type": "code",
   "execution_count": 59,
   "id": "4d8190cc-9d4b-4fd3-b054-bc69420ecfa8",
   "metadata": {},
   "outputs": [],
   "source": [
    "#Data is in wide format. Convert to long\n",
    "dist1long = pd.melt(dist1df.reset_index(), id_vars = \"jointID\")\n",
    "dist1long = dist1long.rename(columns={'value':'kms'})"
   ]
  },
  {
   "cell_type": "code",
   "execution_count": 46,
   "id": "681adbdf-151f-4a08-b011-dc0d469c5a63",
   "metadata": {},
   "outputs": [],
   "source": [
    "#Data is in wide format. Convert to long\n",
    "dist2long = pd.melt(dist2df.reset_index(), id_vars = \"wid\")\n",
    "dist2long = dist2long.rename(columns={'value':'kms'})"
   ]
  },
  {
   "cell_type": "code",
   "execution_count": 60,
   "id": "bb691df5-08b2-4d29-a5b1-7d7f7785452b",
   "metadata": {},
   "outputs": [
    {
     "data": {
      "text/html": [
       "<div>\n",
       "<style scoped>\n",
       "    .dataframe tbody tr th:only-of-type {\n",
       "        vertical-align: middle;\n",
       "    }\n",
       "\n",
       "    .dataframe tbody tr th {\n",
       "        vertical-align: top;\n",
       "    }\n",
       "\n",
       "    .dataframe thead th {\n",
       "        text-align: right;\n",
       "    }\n",
       "</style>\n",
       "<table border=\"1\" class=\"dataframe\">\n",
       "  <thead>\n",
       "    <tr style=\"text-align: right;\">\n",
       "      <th></th>\n",
       "      <th>jointID</th>\n",
       "      <th>wid</th>\n",
       "      <th>kms</th>\n",
       "    </tr>\n",
       "  </thead>\n",
       "  <tbody>\n",
       "    <tr>\n",
       "      <th>0</th>\n",
       "      <td>FC1</td>\n",
       "      <td>wid1</td>\n",
       "      <td>964.739099</td>\n",
       "    </tr>\n",
       "    <tr>\n",
       "      <th>1</th>\n",
       "      <td>FC2</td>\n",
       "      <td>wid1</td>\n",
       "      <td>964.739099</td>\n",
       "    </tr>\n",
       "    <tr>\n",
       "      <th>2</th>\n",
       "      <td>FC3</td>\n",
       "      <td>wid1</td>\n",
       "      <td>964.739099</td>\n",
       "    </tr>\n",
       "  </tbody>\n",
       "</table>\n",
       "</div>"
      ],
      "text/plain": [
       "  jointID   wid         kms\n",
       "0     FC1  wid1  964.739099\n",
       "1     FC2  wid1  964.739099\n",
       "2     FC3  wid1  964.739099"
      ]
     },
     "execution_count": 60,
     "metadata": {},
     "output_type": "execute_result"
    }
   ],
   "source": [
    "dist1long.head(3)"
   ]
  },
  {
   "cell_type": "code",
   "execution_count": 5,
   "id": "479b6729-79e3-4558-b30f-59afac2616c5",
   "metadata": {},
   "outputs": [],
   "source": [
    "#Calculating the geodesic distance\n",
    "fireloc = (cj4[\"latitude\"], cj4[\"longitude\"])\n",
    "climateloc = (cj4[\"climlatitude\"], cj4[\"climlongitude\"])"
   ]
  },
  {
   "cell_type": "code",
   "execution_count": 26,
   "id": "4ea757b8-e888-4a8d-8725-8e86cb9b1acb",
   "metadata": {},
   "outputs": [
    {
     "name": "stderr",
     "output_type": "stream",
     "text": [
      "C:\\Users\\ROHAN\\AppData\\Local\\Temp\\ipykernel_4312\\1406454216.py:4: DtypeWarning: Columns (16) have mixed types. Specify dtype option on import or set low_memory=False.\n",
      "  cd2 = pd.read_csv(\"climate-daily-2.csv\")\n",
      "C:\\Users\\ROHAN\\AppData\\Local\\Temp\\ipykernel_4312\\1406454216.py:5: DtypeWarning: Columns (23,28,32,33) have mixed types. Specify dtype option on import or set low_memory=False.\n",
      "  cd3 = pd.read_csv(\"climate-daily-3.csv\")\n",
      "C:\\Users\\ROHAN\\AppData\\Local\\Temp\\ipykernel_4312\\1406454216.py:6: DtypeWarning: Columns (4,25,32) have mixed types. Specify dtype option on import or set low_memory=False.\n",
      "  cd4 = pd.read_csv(\"climate-daily-4.csv\")\n",
      "C:\\Users\\ROHAN\\AppData\\Local\\Temp\\ipykernel_4312\\1406454216.py:8: DtypeWarning: Columns (12,15,18,19,23) have mixed types. Specify dtype option on import or set low_memory=False.\n",
      "  cd6 = pd.read_csv(\"climate-daily-6.csv\")\n",
      "C:\\Users\\ROHAN\\AppData\\Local\\Temp\\ipykernel_4312\\1406454216.py:9: DtypeWarning: Columns (7,12,21,28,31) have mixed types. Specify dtype option on import or set low_memory=False.\n",
      "  cd7_1 = pd.read_csv(\"climate-daily-7.1.csv\")\n",
      "C:\\Users\\ROHAN\\AppData\\Local\\Temp\\ipykernel_4312\\1406454216.py:12: DtypeWarning: Columns (7,16,17,18,23) have mixed types. Specify dtype option on import or set low_memory=False.\n",
      "  cd9 = pd.read_csv(\"climate-daily-9.csv\")\n",
      "C:\\Users\\ROHAN\\AppData\\Local\\Temp\\ipykernel_4312\\1406454216.py:13: DtypeWarning: Columns (18,23) have mixed types. Specify dtype option on import or set low_memory=False.\n",
      "  cd10 = pd.read_csv(\"climate-daily-10.csv\")\n",
      "C:\\Users\\ROHAN\\AppData\\Local\\Temp\\ipykernel_4312\\1406454216.py:14: DtypeWarning: Columns (7,16,17,18,23) have mixed types. Specify dtype option on import or set low_memory=False.\n",
      "  cd11 = pd.read_csv(\"climate-daily-11.csv\")\n",
      "C:\\Users\\ROHAN\\AppData\\Local\\Temp\\ipykernel_4312\\1406454216.py:15: DtypeWarning: Columns (7,16,17,18,23) have mixed types. Specify dtype option on import or set low_memory=False.\n",
      "  cd12 = pd.read_csv(\"climate-daily-12.csv\")\n",
      "C:\\Users\\ROHAN\\AppData\\Local\\Temp\\ipykernel_4312\\1406454216.py:16: DtypeWarning: Columns (2,3,6,12,16,20,22,23,25) have mixed types. Specify dtype option on import or set low_memory=False.\n",
      "  cd13 = pd.read_csv(\"climate-daily-13.csv\")\n",
      "C:\\Users\\ROHAN\\AppData\\Local\\Temp\\ipykernel_4312\\1406454216.py:17: DtypeWarning: Columns (2,12,16,22,25) have mixed types. Specify dtype option on import or set low_memory=False.\n",
      "  cd14 = pd.read_csv(\"climate-daily-14.csv\")\n"
     ]
    }
   ],
   "source": [
    "#Codename Quebec\n",
    "#Reading all the climate data files into one sheet\n",
    "cd1 = pd.read_csv(\"climate-daily-1.csv\")\n",
    "cd2 = pd.read_csv(\"climate-daily-2.csv\")\n",
    "cd3 = pd.read_csv(\"climate-daily-3.csv\")\n",
    "cd4 = pd.read_csv(\"climate-daily-4.csv\")\n",
    "cd5 = pd.read_csv(\"climate-daily-5.csv\")\n",
    "cd6 = pd.read_csv(\"climate-daily-6.csv\")\n",
    "cd7_1 = pd.read_csv(\"climate-daily-7.1.csv\")\n",
    "cd7_2 = pd.read_csv(\"climate-daily-7.2.csv\")\n",
    "cd8 = pd.read_csv(\"climate-daily-8.csv\")\n",
    "cd9 = pd.read_csv(\"climate-daily-9.csv\")\n",
    "cd10 = pd.read_csv(\"climate-daily-10.csv\")\n",
    "cd11 = pd.read_csv(\"climate-daily-11.csv\")\n",
    "cd12 = pd.read_csv(\"climate-daily-12.csv\")\n",
    "cd13 = pd.read_csv(\"climate-daily-13.csv\")\n",
    "cd14 = pd.read_csv(\"climate-daily-14.csv\")"
   ]
  },
  {
   "cell_type": "code",
   "execution_count": 27,
   "id": "08e0c0b2-ad01-4e29-8d15-a7cc72be9910",
   "metadata": {},
   "outputs": [],
   "source": [
    "#Codename Quebec\n",
    "#Convert all column names into lowercase\n",
    "cd1.columns = cd1.columns.str.lower()\n",
    "cd2.columns = cd2.columns.str.lower()\n",
    "cd3.columns = cd3.columns.str.lower()\n",
    "cd4.columns = cd4.columns.str.lower()\n",
    "cd5.columns = cd5.columns.str.lower()\n",
    "cd6.columns = cd6.columns.str.lower()\n",
    "cd7_1.columns = cd7_1.columns.str.lower()\n",
    "cd7_2.columns = cd7_2.columns.str.lower()\n",
    "cd8.columns = cd8.columns.str.lower()\n",
    "cd9.columns = cd9.columns.str.lower()\n",
    "cd10.columns = cd10.columns.str.lower()\n",
    "cd11.columns = cd11.columns.str.lower()\n",
    "cd12.columns = cd12.columns.str.lower()\n",
    "cd13.columns = cd13.columns.str.lower()\n",
    "cd14.columns = cd14.columns.str.lower()"
   ]
  },
  {
   "cell_type": "code",
   "execution_count": 28,
   "id": "4be6b4f9-e19a-4ae7-880f-426512f128e6",
   "metadata": {},
   "outputs": [],
   "source": [
    "#Codename Quebec\n",
    "#Rearranging all columns alphabetically\n",
    "cd1 = cd1.reindex(sorted(cd1.columns), axis = 1)\n",
    "cd2 = cd2.reindex(sorted(cd2.columns), axis = 1)\n",
    "cd3 = cd3.reindex(sorted(cd3.columns), axis = 1)\n",
    "cd4 = cd4.reindex(sorted(cd4.columns), axis = 1)\n",
    "cd5 = cd5.reindex(sorted(cd5.columns), axis = 1)\n",
    "cd6 = cd6.reindex(sorted(cd6.columns), axis = 1)\n",
    "cd7_1 = cd7_1.reindex(sorted(cd7_1.columns), axis = 1)\n",
    "cd7_2 = cd7_2.reindex(sorted(cd7_2.columns), axis = 1)\n",
    "cd8 = cd8.reindex(sorted(cd8.columns), axis = 1)\n",
    "cd9 = cd9.reindex(sorted(cd9.columns), axis = 1)\n",
    "cd10 = cd10.reindex(sorted(cd10.columns), axis = 1)\n",
    "cd11 = cd11.reindex(sorted(cd11.columns), axis = 1)\n",
    "cd12 = cd12.reindex(sorted(cd12.columns), axis = 1)\n",
    "cd13 = cd13.reindex(sorted(cd13.columns), axis = 1)\n",
    "cd14 = cd14.reindex(sorted(cd14.columns), axis = 1)"
   ]
  },
  {
   "cell_type": "code",
   "execution_count": 49,
   "id": "ae74bf1e-c317-4767-ab94-0be7d51003b5",
   "metadata": {},
   "outputs": [],
   "source": [
    "#Combining all of the dataframes into one\n",
    "from functools import reduce"
   ]
  },
  {
   "cell_type": "code",
   "execution_count": 50,
   "id": "7518609f-2edc-409a-a462-003e846fa390",
   "metadata": {},
   "outputs": [
    {
     "ename": "MemoryError",
     "evalue": "Unable to allocate 26.2 GiB for an array with shape (3518836541,) and data type int64",
     "output_type": "error",
     "traceback": [
      "\u001b[1;31m---------------------------------------------------------------------------\u001b[0m",
      "\u001b[1;31mMemoryError\u001b[0m                               Traceback (most recent call last)",
      "Cell \u001b[1;32mIn[50], line 2\u001b[0m\n\u001b[0;32m      1\u001b[0m cdlist \u001b[38;5;241m=\u001b[39m [cd1, cd2,cd3, cd4, cd5, cd6, cd7_1, cd7_2, cd8, cd9, cd10, cd11, cd12, cd13, cd14]\n\u001b[1;32m----> 2\u001b[0m cd_total \u001b[38;5;241m=\u001b[39m \u001b[43mreduce\u001b[49m\u001b[43m(\u001b[49m\u001b[38;5;28;43;01mlambda\u001b[39;49;00m\u001b[43m \u001b[49m\u001b[43mleft\u001b[49m\u001b[43m,\u001b[49m\u001b[43m \u001b[49m\u001b[43mright\u001b[49m\u001b[43m:\u001b[49m\u001b[43m \u001b[49m\u001b[43mpd\u001b[49m\u001b[38;5;241;43m.\u001b[39;49m\u001b[43mmerge\u001b[49m\u001b[43m(\u001b[49m\u001b[43mleft\u001b[49m\u001b[43m,\u001b[49m\u001b[43m \u001b[49m\u001b[43mright\u001b[49m\u001b[43m,\u001b[49m\u001b[43m \u001b[49m\u001b[43mon\u001b[49m\u001b[43m \u001b[49m\u001b[38;5;241;43m=\u001b[39;49m\u001b[43m \u001b[49m\u001b[38;5;124;43m\"\u001b[39;49m\u001b[38;5;124;43mprovince_code\u001b[39;49m\u001b[38;5;124;43m\"\u001b[39;49m\u001b[43m)\u001b[49m\u001b[43m,\u001b[49m\u001b[43m \u001b[49m\u001b[43mcdlist\u001b[49m\u001b[43m)\u001b[49m\n",
      "Cell \u001b[1;32mIn[50], line 2\u001b[0m, in \u001b[0;36m<lambda>\u001b[1;34m(left, right)\u001b[0m\n\u001b[0;32m      1\u001b[0m cdlist \u001b[38;5;241m=\u001b[39m [cd1, cd2,cd3, cd4, cd5, cd6, cd7_1, cd7_2, cd8, cd9, cd10, cd11, cd12, cd13, cd14]\n\u001b[1;32m----> 2\u001b[0m cd_total \u001b[38;5;241m=\u001b[39m reduce(\u001b[38;5;28;01mlambda\u001b[39;00m left, right: \u001b[43mpd\u001b[49m\u001b[38;5;241;43m.\u001b[39;49m\u001b[43mmerge\u001b[49m\u001b[43m(\u001b[49m\u001b[43mleft\u001b[49m\u001b[43m,\u001b[49m\u001b[43m \u001b[49m\u001b[43mright\u001b[49m\u001b[43m,\u001b[49m\u001b[43m \u001b[49m\u001b[43mon\u001b[49m\u001b[43m \u001b[49m\u001b[38;5;241;43m=\u001b[39;49m\u001b[43m \u001b[49m\u001b[38;5;124;43m\"\u001b[39;49m\u001b[38;5;124;43mprovince_code\u001b[39;49m\u001b[38;5;124;43m\"\u001b[39;49m\u001b[43m)\u001b[49m, cdlist)\n",
      "File \u001b[1;32m~\\miniforge3\\envs\\erdos\\Lib\\site-packages\\pandas\\core\\reshape\\merge.py:183\u001b[0m, in \u001b[0;36mmerge\u001b[1;34m(left, right, how, on, left_on, right_on, left_index, right_index, sort, suffixes, copy, indicator, validate)\u001b[0m\n\u001b[0;32m    168\u001b[0m \u001b[38;5;28;01melse\u001b[39;00m:\n\u001b[0;32m    169\u001b[0m     op \u001b[38;5;241m=\u001b[39m _MergeOperation(\n\u001b[0;32m    170\u001b[0m         left_df,\n\u001b[0;32m    171\u001b[0m         right_df,\n\u001b[1;32m   (...)\u001b[0m\n\u001b[0;32m    181\u001b[0m         validate\u001b[38;5;241m=\u001b[39mvalidate,\n\u001b[0;32m    182\u001b[0m     )\n\u001b[1;32m--> 183\u001b[0m     \u001b[38;5;28;01mreturn\u001b[39;00m \u001b[43mop\u001b[49m\u001b[38;5;241;43m.\u001b[39;49m\u001b[43mget_result\u001b[49m\u001b[43m(\u001b[49m\u001b[43mcopy\u001b[49m\u001b[38;5;241;43m=\u001b[39;49m\u001b[43mcopy\u001b[49m\u001b[43m)\u001b[49m\n",
      "File \u001b[1;32m~\\miniforge3\\envs\\erdos\\Lib\\site-packages\\pandas\\core\\reshape\\merge.py:883\u001b[0m, in \u001b[0;36m_MergeOperation.get_result\u001b[1;34m(self, copy)\u001b[0m\n\u001b[0;32m    880\u001b[0m \u001b[38;5;28;01mif\u001b[39;00m \u001b[38;5;28mself\u001b[39m\u001b[38;5;241m.\u001b[39mindicator:\n\u001b[0;32m    881\u001b[0m     \u001b[38;5;28mself\u001b[39m\u001b[38;5;241m.\u001b[39mleft, \u001b[38;5;28mself\u001b[39m\u001b[38;5;241m.\u001b[39mright \u001b[38;5;241m=\u001b[39m \u001b[38;5;28mself\u001b[39m\u001b[38;5;241m.\u001b[39m_indicator_pre_merge(\u001b[38;5;28mself\u001b[39m\u001b[38;5;241m.\u001b[39mleft, \u001b[38;5;28mself\u001b[39m\u001b[38;5;241m.\u001b[39mright)\n\u001b[1;32m--> 883\u001b[0m join_index, left_indexer, right_indexer \u001b[38;5;241m=\u001b[39m \u001b[38;5;28;43mself\u001b[39;49m\u001b[38;5;241;43m.\u001b[39;49m\u001b[43m_get_join_info\u001b[49m\u001b[43m(\u001b[49m\u001b[43m)\u001b[49m\n\u001b[0;32m    885\u001b[0m result \u001b[38;5;241m=\u001b[39m \u001b[38;5;28mself\u001b[39m\u001b[38;5;241m.\u001b[39m_reindex_and_concat(\n\u001b[0;32m    886\u001b[0m     join_index, left_indexer, right_indexer, copy\u001b[38;5;241m=\u001b[39mcopy\n\u001b[0;32m    887\u001b[0m )\n\u001b[0;32m    888\u001b[0m result \u001b[38;5;241m=\u001b[39m result\u001b[38;5;241m.\u001b[39m__finalize__(\u001b[38;5;28mself\u001b[39m, method\u001b[38;5;241m=\u001b[39m\u001b[38;5;28mself\u001b[39m\u001b[38;5;241m.\u001b[39m_merge_type)\n",
      "File \u001b[1;32m~\\miniforge3\\envs\\erdos\\Lib\\site-packages\\pandas\\core\\reshape\\merge.py:1133\u001b[0m, in \u001b[0;36m_MergeOperation._get_join_info\u001b[1;34m(self)\u001b[0m\n\u001b[0;32m   1129\u001b[0m     join_index, right_indexer, left_indexer \u001b[38;5;241m=\u001b[39m _left_join_on_index(\n\u001b[0;32m   1130\u001b[0m         right_ax, left_ax, \u001b[38;5;28mself\u001b[39m\u001b[38;5;241m.\u001b[39mright_join_keys, sort\u001b[38;5;241m=\u001b[39m\u001b[38;5;28mself\u001b[39m\u001b[38;5;241m.\u001b[39msort\n\u001b[0;32m   1131\u001b[0m     )\n\u001b[0;32m   1132\u001b[0m \u001b[38;5;28;01melse\u001b[39;00m:\n\u001b[1;32m-> 1133\u001b[0m     (left_indexer, right_indexer) \u001b[38;5;241m=\u001b[39m \u001b[38;5;28;43mself\u001b[39;49m\u001b[38;5;241;43m.\u001b[39;49m\u001b[43m_get_join_indexers\u001b[49m\u001b[43m(\u001b[49m\u001b[43m)\u001b[49m\n\u001b[0;32m   1135\u001b[0m     \u001b[38;5;28;01mif\u001b[39;00m \u001b[38;5;28mself\u001b[39m\u001b[38;5;241m.\u001b[39mright_index:\n\u001b[0;32m   1136\u001b[0m         \u001b[38;5;28;01mif\u001b[39;00m \u001b[38;5;28mlen\u001b[39m(\u001b[38;5;28mself\u001b[39m\u001b[38;5;241m.\u001b[39mleft) \u001b[38;5;241m>\u001b[39m \u001b[38;5;241m0\u001b[39m:\n",
      "File \u001b[1;32m~\\miniforge3\\envs\\erdos\\Lib\\site-packages\\pandas\\core\\reshape\\merge.py:1105\u001b[0m, in \u001b[0;36m_MergeOperation._get_join_indexers\u001b[1;34m(self)\u001b[0m\n\u001b[0;32m   1103\u001b[0m \u001b[38;5;28;01mdef\u001b[39;00m \u001b[38;5;21m_get_join_indexers\u001b[39m(\u001b[38;5;28mself\u001b[39m) \u001b[38;5;241m-\u001b[39m\u001b[38;5;241m>\u001b[39m \u001b[38;5;28mtuple\u001b[39m[npt\u001b[38;5;241m.\u001b[39mNDArray[np\u001b[38;5;241m.\u001b[39mintp], npt\u001b[38;5;241m.\u001b[39mNDArray[np\u001b[38;5;241m.\u001b[39mintp]]:\n\u001b[0;32m   1104\u001b[0m \u001b[38;5;250m    \u001b[39m\u001b[38;5;124;03m\"\"\"return the join indexers\"\"\"\u001b[39;00m\n\u001b[1;32m-> 1105\u001b[0m     \u001b[38;5;28;01mreturn\u001b[39;00m \u001b[43mget_join_indexers\u001b[49m\u001b[43m(\u001b[49m\n\u001b[0;32m   1106\u001b[0m \u001b[43m        \u001b[49m\u001b[38;5;28;43mself\u001b[39;49m\u001b[38;5;241;43m.\u001b[39;49m\u001b[43mleft_join_keys\u001b[49m\u001b[43m,\u001b[49m\u001b[43m \u001b[49m\u001b[38;5;28;43mself\u001b[39;49m\u001b[38;5;241;43m.\u001b[39;49m\u001b[43mright_join_keys\u001b[49m\u001b[43m,\u001b[49m\u001b[43m \u001b[49m\u001b[43msort\u001b[49m\u001b[38;5;241;43m=\u001b[39;49m\u001b[38;5;28;43mself\u001b[39;49m\u001b[38;5;241;43m.\u001b[39;49m\u001b[43msort\u001b[49m\u001b[43m,\u001b[49m\u001b[43m \u001b[49m\u001b[43mhow\u001b[49m\u001b[38;5;241;43m=\u001b[39;49m\u001b[38;5;28;43mself\u001b[39;49m\u001b[38;5;241;43m.\u001b[39;49m\u001b[43mhow\u001b[49m\n\u001b[0;32m   1107\u001b[0m \u001b[43m    \u001b[49m\u001b[43m)\u001b[49m\n",
      "File \u001b[1;32m~\\miniforge3\\envs\\erdos\\Lib\\site-packages\\pandas\\core\\reshape\\merge.py:1728\u001b[0m, in \u001b[0;36mget_join_indexers\u001b[1;34m(left_keys, right_keys, sort, how)\u001b[0m\n\u001b[0;32m   1718\u001b[0m join_func \u001b[38;5;241m=\u001b[39m {\n\u001b[0;32m   1719\u001b[0m     \u001b[38;5;124m\"\u001b[39m\u001b[38;5;124minner\u001b[39m\u001b[38;5;124m\"\u001b[39m: libjoin\u001b[38;5;241m.\u001b[39minner_join,\n\u001b[0;32m   1720\u001b[0m     \u001b[38;5;124m\"\u001b[39m\u001b[38;5;124mleft\u001b[39m\u001b[38;5;124m\"\u001b[39m: libjoin\u001b[38;5;241m.\u001b[39mleft_outer_join,\n\u001b[1;32m   (...)\u001b[0m\n\u001b[0;32m   1724\u001b[0m     \u001b[38;5;124m\"\u001b[39m\u001b[38;5;124mouter\u001b[39m\u001b[38;5;124m\"\u001b[39m: libjoin\u001b[38;5;241m.\u001b[39mfull_outer_join,\n\u001b[0;32m   1725\u001b[0m }[how]\n\u001b[0;32m   1727\u001b[0m \u001b[38;5;66;03m# error: Cannot call function of unknown type\u001b[39;00m\n\u001b[1;32m-> 1728\u001b[0m \u001b[38;5;28;01mreturn\u001b[39;00m \u001b[43mjoin_func\u001b[49m\u001b[43m(\u001b[49m\u001b[43mlkey\u001b[49m\u001b[43m,\u001b[49m\u001b[43m \u001b[49m\u001b[43mrkey\u001b[49m\u001b[43m,\u001b[49m\u001b[43m \u001b[49m\u001b[43mcount\u001b[49m\u001b[43m,\u001b[49m\u001b[43m \u001b[49m\u001b[38;5;241;43m*\u001b[39;49m\u001b[38;5;241;43m*\u001b[39;49m\u001b[43mkwargs\u001b[49m\u001b[43m)\u001b[49m\n",
      "File \u001b[1;32mjoin.pyx:49\u001b[0m, in \u001b[0;36mpandas._libs.join.inner_join\u001b[1;34m()\u001b[0m\n",
      "\u001b[1;31mMemoryError\u001b[0m: Unable to allocate 26.2 GiB for an array with shape (3518836541,) and data type int64"
     ]
    }
   ],
   "source": [
    "#did not work because of memory error\n",
    "#cdlist = [cd1, cd2,cd3, cd4, cd5, cd6, cd7_1, cd7_2, cd8, cd9, cd10, cd11, cd12, cd13, cd14]\n",
    "#cd_total = reduce(lambda left, right: pd.merge(left, right, on = \"province_code\"), cdlist)"
   ]
  },
  {
   "cell_type": "code",
   "execution_count": 29,
   "id": "bbed3acd-e892-4523-8860-73f26611963f",
   "metadata": {},
   "outputs": [],
   "source": [
    "#Codename Quebec\n",
    "cd1_1 = pd.concat([cd1,cd2])\n",
    "cd1_2 = pd.concat([cd1_1, cd3])\n",
    "cd1_3 = pd.concat([cd1_2, cd4])\n",
    "cd1_4 = pd.concat([cd1_3, cd5])\n",
    "cd1_5 = pd.concat([cd1_4, cd6])\n",
    "cd1_6 = pd.concat([cd1_5, cd7_1])\n",
    "cd1_7 = pd.concat([cd1_6, cd7_2])\n",
    "cd1_8 = pd.concat([cd1_7, cd8])\n",
    "cd1_9 = pd.concat([cd1_8, cd9])\n",
    "cd1_10 = pd.concat([cd1_9, cd10])\n",
    "cd1_11 = pd.concat([cd1_10, cd11])\n",
    "cd1_12 = pd.concat([cd1_11, cd12])\n",
    "cd1_13 = pd.concat([cd1_12, cd13])\n",
    "cdtotal = pd.concat([cd1_13, cd14])"
   ]
  },
  {
   "cell_type": "code",
   "execution_count": 33,
   "id": "385f5670-ace9-4076-be09-9e472ee93ee9",
   "metadata": {},
   "outputs": [],
   "source": [
    "cdtotal.to_csv(r\"C:\\\\Users\\\\ROHAN\\\\erdos\\\\cdtotal2.csv\")"
   ]
  },
  {
   "cell_type": "code",
   "execution_count": 32,
   "id": "5c472651-7c1a-480e-bf17-9c914fbd4983",
   "metadata": {},
   "outputs": [
    {
     "data": {
      "text/plain": [
       "(745013, 36)"
      ]
     },
     "execution_count": 32,
     "metadata": {},
     "output_type": "execute_result"
    }
   ],
   "source": [
    "cdtotal.shape"
   ]
  },
  {
   "cell_type": "code",
   "execution_count": 31,
   "id": "3917400f-f242-4822-852f-86635527639b",
   "metadata": {},
   "outputs": [],
   "source": [
    "cdtotal = round(cdtotal, 4)"
   ]
  },
  {
   "cell_type": "code",
   "execution_count": 9,
   "id": "b4fe341b-6c14-4974-a402-274904e683ba",
   "metadata": {},
   "outputs": [
    {
     "name": "stderr",
     "output_type": "stream",
     "text": [
      "C:\\Users\\ROHAN\\AppData\\Local\\Temp\\ipykernel_5784\\2294564211.py:2: DtypeWarning: Columns (0,4,13,19,26) have mixed types. Specify dtype option on import or set low_memory=False.\n",
      "  cdtotal2 = pd.read_csv(\"cdtotal2.csv\")\n"
     ]
    }
   ],
   "source": [
    "#Codename Quebec\n",
    "cdtotal2 = pd.read_csv(\"cdtotal2.csv\")"
   ]
  },
  {
   "cell_type": "code",
   "execution_count": 10,
   "id": "3ef867b3-e4ef-4552-ab81-c9daa7905b6c",
   "metadata": {},
   "outputs": [],
   "source": [
    "cdtotal2 = round(cdtotal2, 4)"
   ]
  },
  {
   "cell_type": "code",
   "execution_count": 42,
   "id": "54f4ed3a-b73a-43de-9c13-0b3196da208b",
   "metadata": {},
   "outputs": [
    {
     "data": {
      "text/html": [
       "<div>\n",
       "<style scoped>\n",
       "    .dataframe tbody tr th:only-of-type {\n",
       "        vertical-align: middle;\n",
       "    }\n",
       "\n",
       "    .dataframe tbody tr th {\n",
       "        vertical-align: top;\n",
       "    }\n",
       "\n",
       "    .dataframe thead th {\n",
       "        text-align: right;\n",
       "    }\n",
       "</style>\n",
       "<table border=\"1\" class=\"dataframe\">\n",
       "  <thead>\n",
       "    <tr style=\"text-align: right;\">\n",
       "      <th></th>\n",
       "      <th>Unnamed: 0</th>\n",
       "      <th>climate_identifier</th>\n",
       "      <th>cooling_degree_days</th>\n",
       "      <th>cooling_degree_days_flag</th>\n",
       "      <th>direction_max_gust</th>\n",
       "      <th>direction_max_gust_flag</th>\n",
       "      <th>heating_degree_days</th>\n",
       "      <th>heating_degree_days_flag</th>\n",
       "      <th>id</th>\n",
       "      <th>local_date</th>\n",
       "      <th>...</th>\n",
       "      <th>speed_max_gust_flag</th>\n",
       "      <th>station_name</th>\n",
       "      <th>total_precipitation</th>\n",
       "      <th>total_precipitation_flag</th>\n",
       "      <th>total_rain</th>\n",
       "      <th>total_rain_flag</th>\n",
       "      <th>total_snow</th>\n",
       "      <th>total_snow_flag</th>\n",
       "      <th>x</th>\n",
       "      <th>y</th>\n",
       "    </tr>\n",
       "  </thead>\n",
       "  <tbody>\n",
       "    <tr>\n",
       "      <th>0</th>\n",
       "      <td>0</td>\n",
       "      <td>2200100</td>\n",
       "      <td>1.2</td>\n",
       "      <td>NaN</td>\n",
       "      <td>NaN</td>\n",
       "      <td>NaN</td>\n",
       "      <td>0.0</td>\n",
       "      <td>NaN</td>\n",
       "      <td>2200100.2012.8.2</td>\n",
       "      <td>02-08-2012</td>\n",
       "      <td>...</td>\n",
       "      <td>NaN</td>\n",
       "      <td>AKLAVIK A</td>\n",
       "      <td>0.0</td>\n",
       "      <td>T</td>\n",
       "      <td>0.0</td>\n",
       "      <td>T</td>\n",
       "      <td>0.0</td>\n",
       "      <td>NaN</td>\n",
       "      <td>-135.0058</td>\n",
       "      <td>68.2233</td>\n",
       "    </tr>\n",
       "    <tr>\n",
       "      <th>1</th>\n",
       "      <td>1</td>\n",
       "      <td>2200100</td>\n",
       "      <td>0.0</td>\n",
       "      <td>NaN</td>\n",
       "      <td>NaN</td>\n",
       "      <td>NaN</td>\n",
       "      <td>1.8</td>\n",
       "      <td>NaN</td>\n",
       "      <td>2200100.2012.8.4</td>\n",
       "      <td>04-08-2012</td>\n",
       "      <td>...</td>\n",
       "      <td>NaN</td>\n",
       "      <td>AKLAVIK A</td>\n",
       "      <td>0.0</td>\n",
       "      <td>NaN</td>\n",
       "      <td>0.0</td>\n",
       "      <td>NaN</td>\n",
       "      <td>0.0</td>\n",
       "      <td>NaN</td>\n",
       "      <td>-135.0058</td>\n",
       "      <td>68.2233</td>\n",
       "    </tr>\n",
       "  </tbody>\n",
       "</table>\n",
       "<p>2 rows × 37 columns</p>\n",
       "</div>"
      ],
      "text/plain": [
       "   Unnamed: 0 climate_identifier  cooling_degree_days  \\\n",
       "0           0            2200100                  1.2   \n",
       "1           1            2200100                  0.0   \n",
       "\n",
       "  cooling_degree_days_flag  direction_max_gust direction_max_gust_flag  \\\n",
       "0                      NaN                 NaN                     NaN   \n",
       "1                      NaN                 NaN                     NaN   \n",
       "\n",
       "   heating_degree_days heating_degree_days_flag                id  local_date  \\\n",
       "0                  0.0                      NaN  2200100.2012.8.2  02-08-2012   \n",
       "1                  1.8                      NaN  2200100.2012.8.4  04-08-2012   \n",
       "\n",
       "   ...  speed_max_gust_flag  station_name  total_precipitation  \\\n",
       "0  ...                  NaN     AKLAVIK A                  0.0   \n",
       "1  ...                  NaN     AKLAVIK A                  0.0   \n",
       "\n",
       "   total_precipitation_flag total_rain  total_rain_flag total_snow  \\\n",
       "0                         T        0.0                T        0.0   \n",
       "1                       NaN        0.0              NaN        0.0   \n",
       "\n",
       "   total_snow_flag         x        y  \n",
       "0              NaN -135.0058  68.2233  \n",
       "1              NaN -135.0058  68.2233  \n",
       "\n",
       "[2 rows x 37 columns]"
      ]
     },
     "execution_count": 42,
     "metadata": {},
     "output_type": "execute_result"
    }
   ],
   "source": [
    "cdtotal2.head(2)"
   ]
  },
  {
   "cell_type": "code",
   "execution_count": 35,
   "id": "c60f8ffa-3c0d-42fc-880d-773dda842a7a",
   "metadata": {},
   "outputs": [],
   "source": [
    "#Codename Quebec\n",
    "fire1qc = pd.read_csv(\"quebecfire_mindist1.csv\")"
   ]
  },
  {
   "cell_type": "code",
   "execution_count": 36,
   "id": "22338b9a-6a22-4930-b751-9c985b973a95",
   "metadata": {},
   "outputs": [
    {
     "data": {
      "text/plain": [
       "(5514, 23)"
      ]
     },
     "execution_count": 36,
     "metadata": {},
     "output_type": "execute_result"
    }
   ],
   "source": [
    "fire1qc.shape"
   ]
  },
  {
   "cell_type": "code",
   "execution_count": 17,
   "id": "cdc8113a-f7f2-4a96-af4a-c8cf09f9baf8",
   "metadata": {},
   "outputs": [],
   "source": [
    "#Codename Quebec\n",
    "#Creating a smaller dataframe from a larger dataframe by randomly selecting a set number of rows (In this case, 5520)\n",
    "cdtotal2 = cdtotal1.sample(n = 5520)\n",
    "cdtotal2.shape\n",
    "cdtotal2.to_csv(r\"C:\\\\Users\\\\ROHAN\\\\erdos\\\\cd5000.csv\")"
   ]
  },
  {
   "cell_type": "code",
   "execution_count": 11,
   "id": "53b5014c-593b-4743-93e8-724cb6c26298",
   "metadata": {},
   "outputs": [
    {
     "name": "stdout",
     "output_type": "stream",
     "text": [
      "<class 'pandas.core.frame.DataFrame'>\n",
      "Index: 5520 entries, 615699 to 693543\n",
      "Data columns (total 37 columns):\n",
      " #   Column                    Non-Null Count  Dtype  \n",
      "---  ------                    --------------  -----  \n",
      " 0   Unnamed: 0                5520 non-null   int64  \n",
      " 1   climate_identifier        5520 non-null   object \n",
      " 2   cooling_degree_days       3777 non-null   float64\n",
      " 3   cooling_degree_days_flag  844 non-null    object \n",
      " 4   direction_max_gust        1826 non-null   float64\n",
      " 5   direction_max_gust_flag   325 non-null    object \n",
      " 6   heating_degree_days       3777 non-null   float64\n",
      " 7   heating_degree_days_flag  844 non-null    object \n",
      " 8   id                        5520 non-null   object \n",
      " 9   local_date                5520 non-null   object \n",
      " 10  local_day                 5520 non-null   int64  \n",
      " 11  local_month               5520 non-null   int64  \n",
      " 12  local_year                5520 non-null   int64  \n",
      " 13  max_rel_humidity          1119 non-null   float64\n",
      " 14  max_rel_humidity_flag     156 non-null    object \n",
      " 15  max_temperature           4754 non-null   float64\n",
      " 16  max_temperature_flag      545 non-null    object \n",
      " 17  mean_temperature          3777 non-null   float64\n",
      " 18  mean_temperature_flag     844 non-null    object \n",
      " 19  min_rel_humidity          1121 non-null   float64\n",
      " 20  min_rel_humidity_flag     154 non-null    object \n",
      " 21  min_temperature           4763 non-null   float64\n",
      " 22  min_temperature_flag      570 non-null    object \n",
      " 23  province_code             5520 non-null   object \n",
      " 24  snow_on_ground            3002 non-null   float64\n",
      " 25  snow_on_ground_flag       439 non-null    object \n",
      " 26  speed_max_gust            1847 non-null   float64\n",
      " 27  speed_max_gust_flag       304 non-null    object \n",
      " 28  station_name              5520 non-null   object \n",
      " 29  total_precipitation       4150 non-null   float64\n",
      " 30  total_precipitation_flag  1332 non-null   object \n",
      " 31  total_rain                2843 non-null   float64\n",
      " 32  total_rain_flag           1821 non-null   object \n",
      " 33  total_snow                2996 non-null   float64\n",
      " 34  total_snow_flag           1706 non-null   object \n",
      " 35  x                         5520 non-null   float64\n",
      " 36  y                         5520 non-null   float64\n",
      "dtypes: float64(15), int64(4), object(18)\n",
      "memory usage: 1.6+ MB\n",
      "<class 'pandas.core.frame.DataFrame'>\n",
      "RangeIndex: 5514 entries, 0 to 5513\n",
      "Data columns (total 23 columns):\n",
      " #   Column            Non-Null Count  Dtype  \n",
      "---  ------            --------------  -----  \n",
      " 0   Unnamed: 0.2      5514 non-null   int64  \n",
      " 1   Unnamed: 0.1      5514 non-null   int64  \n",
      " 2   Unnamed: 0        5514 non-null   int64  \n",
      " 3   fid               5514 non-null   int64  \n",
      " 4   src_agency        5514 non-null   object \n",
      " 5   latitude          5514 non-null   float64\n",
      " 6   longitude         5514 non-null   float64\n",
      " 7   date              5514 non-null   object \n",
      " 8   sizeha            5514 non-null   float64\n",
      " 9   cause             5514 non-null   object \n",
      " 10  protzone          5514 non-null   object \n",
      " 11  ecoz_name         5514 non-null   object \n",
      " 12  wildlat1          5514 non-null   object \n",
      " 13  coordinates       5514 non-null   object \n",
      " 14  climcoordinates   5514 non-null   object \n",
      " 15  wid               5514 non-null   object \n",
      " 16  climlatitude      5514 non-null   float64\n",
      " 17  climlongitude     5514 non-null   float64\n",
      " 18  firelat_radians   5514 non-null   float64\n",
      " 19  firelong_radians  5514 non-null   float64\n",
      " 20  climlat_radians   5514 non-null   float64\n",
      " 21  climlong_radians  5514 non-null   float64\n",
      " 22  distance_km       5514 non-null   float64\n",
      "dtypes: float64(10), int64(4), object(9)\n",
      "memory usage: 990.9+ KB\n"
     ]
    }
   ],
   "source": [
    "cdtotal2.info()\n",
    "fire1qc.info()"
   ]
  },
  {
   "cell_type": "code",
   "execution_count": 8,
   "id": "20b9877b-051c-48a6-ab0a-661b78ea5aee",
   "metadata": {},
   "outputs": [
    {
     "data": {
      "text/html": [
       "<div>\n",
       "<style scoped>\n",
       "    .dataframe tbody tr th:only-of-type {\n",
       "        vertical-align: middle;\n",
       "    }\n",
       "\n",
       "    .dataframe tbody tr th {\n",
       "        vertical-align: top;\n",
       "    }\n",
       "\n",
       "    .dataframe thead th {\n",
       "        text-align: right;\n",
       "    }\n",
       "</style>\n",
       "<table border=\"1\" class=\"dataframe\">\n",
       "  <thead>\n",
       "    <tr style=\"text-align: right;\">\n",
       "      <th></th>\n",
       "      <th>Unnamed: 0</th>\n",
       "      <th>climate_identifier</th>\n",
       "      <th>cooling_degree_days</th>\n",
       "      <th>cooling_degree_days_flag</th>\n",
       "      <th>direction_max_gust</th>\n",
       "      <th>direction_max_gust_flag</th>\n",
       "      <th>heating_degree_days</th>\n",
       "      <th>heating_degree_days_flag</th>\n",
       "      <th>id</th>\n",
       "      <th>local_date</th>\n",
       "      <th>...</th>\n",
       "      <th>speed_max_gust_flag</th>\n",
       "      <th>station_name</th>\n",
       "      <th>total_precipitation</th>\n",
       "      <th>total_precipitation_flag</th>\n",
       "      <th>total_rain</th>\n",
       "      <th>total_rain_flag</th>\n",
       "      <th>total_snow</th>\n",
       "      <th>total_snow_flag</th>\n",
       "      <th>x</th>\n",
       "      <th>y</th>\n",
       "    </tr>\n",
       "  </thead>\n",
       "  <tbody>\n",
       "    <tr>\n",
       "      <th>615699</th>\n",
       "      <td>14560</td>\n",
       "      <td>7016902</td>\n",
       "      <td>NaN</td>\n",
       "      <td>NaN</td>\n",
       "      <td>NaN</td>\n",
       "      <td>NaN</td>\n",
       "      <td>NaN</td>\n",
       "      <td>NaN</td>\n",
       "      <td>7016902.2019.6.3</td>\n",
       "      <td>2019-06-03 00:00:00</td>\n",
       "      <td>...</td>\n",
       "      <td>NaN</td>\n",
       "      <td>STE BEATRIX</td>\n",
       "      <td>NaN</td>\n",
       "      <td>M</td>\n",
       "      <td>NaN</td>\n",
       "      <td>M</td>\n",
       "      <td>0.0</td>\n",
       "      <td>NaN</td>\n",
       "      <td>-73.600000</td>\n",
       "      <td>46.200000</td>\n",
       "    </tr>\n",
       "    <tr>\n",
       "      <th>211779</th>\n",
       "      <td>43383</td>\n",
       "      <td>7043BP9</td>\n",
       "      <td>0.0</td>\n",
       "      <td>NaN</td>\n",
       "      <td>27.0</td>\n",
       "      <td>NaN</td>\n",
       "      <td>10.8</td>\n",
       "      <td>NaN</td>\n",
       "      <td>7043BP9.2017.10.18</td>\n",
       "      <td>2017-10-18 00:00:00</td>\n",
       "      <td>...</td>\n",
       "      <td>NaN</td>\n",
       "      <td>ILE ROUGE</td>\n",
       "      <td>0.4</td>\n",
       "      <td>NaN</td>\n",
       "      <td>NaN</td>\n",
       "      <td>M</td>\n",
       "      <td>NaN</td>\n",
       "      <td>M</td>\n",
       "      <td>-69.555556</td>\n",
       "      <td>48.068889</td>\n",
       "    </tr>\n",
       "  </tbody>\n",
       "</table>\n",
       "<p>2 rows × 37 columns</p>\n",
       "</div>"
      ],
      "text/plain": [
       "        Unnamed: 0 climate_identifier  cooling_degree_days  \\\n",
       "615699       14560            7016902                  NaN   \n",
       "211779       43383            7043BP9                  0.0   \n",
       "\n",
       "       cooling_degree_days_flag  direction_max_gust direction_max_gust_flag  \\\n",
       "615699                      NaN                 NaN                     NaN   \n",
       "211779                      NaN                27.0                     NaN   \n",
       "\n",
       "        heating_degree_days heating_degree_days_flag                  id  \\\n",
       "615699                  NaN                      NaN    7016902.2019.6.3   \n",
       "211779                 10.8                      NaN  7043BP9.2017.10.18   \n",
       "\n",
       "                 local_date  ...  speed_max_gust_flag  station_name  \\\n",
       "615699  2019-06-03 00:00:00  ...                  NaN   STE BEATRIX   \n",
       "211779  2017-10-18 00:00:00  ...                  NaN     ILE ROUGE   \n",
       "\n",
       "        total_precipitation  total_precipitation_flag total_rain  \\\n",
       "615699                  NaN                         M        NaN   \n",
       "211779                  0.4                       NaN        NaN   \n",
       "\n",
       "        total_rain_flag total_snow  total_snow_flag          x          y  \n",
       "615699                M        0.0              NaN -73.600000  46.200000  \n",
       "211779                M        NaN                M -69.555556  48.068889  \n",
       "\n",
       "[2 rows x 37 columns]"
      ]
     },
     "execution_count": 8,
     "metadata": {},
     "output_type": "execute_result"
    }
   ],
   "source": [
    "#Codename Quebec\n",
    "#Seeing the list of columns in cdtotal2 as there is 1 column more than cdtotal1\n",
    "sorted(cdtotal2)\n",
    "\n",
    "#Checking the head of the dataframe\n",
    "cdtotal2.head(2)"
   ]
  },
  {
   "cell_type": "code",
   "execution_count": 9,
   "id": "9a42ade1-2abf-4309-b3a0-4e5b314499a1",
   "metadata": {},
   "outputs": [
    {
     "data": {
      "text/html": [
       "<div>\n",
       "<style scoped>\n",
       "    .dataframe tbody tr th:only-of-type {\n",
       "        vertical-align: middle;\n",
       "    }\n",
       "\n",
       "    .dataframe tbody tr th {\n",
       "        vertical-align: top;\n",
       "    }\n",
       "\n",
       "    .dataframe thead th {\n",
       "        text-align: right;\n",
       "    }\n",
       "</style>\n",
       "<table border=\"1\" class=\"dataframe\">\n",
       "  <thead>\n",
       "    <tr style=\"text-align: right;\">\n",
       "      <th></th>\n",
       "      <th>Unnamed: 0.2</th>\n",
       "      <th>Unnamed: 0.1</th>\n",
       "      <th>Unnamed: 0</th>\n",
       "      <th>fid</th>\n",
       "      <th>src_agency</th>\n",
       "      <th>latitude</th>\n",
       "      <th>longitude</th>\n",
       "      <th>date</th>\n",
       "      <th>sizeha</th>\n",
       "      <th>cause</th>\n",
       "      <th>...</th>\n",
       "      <th>coordinates</th>\n",
       "      <th>climcoordinates</th>\n",
       "      <th>wid</th>\n",
       "      <th>climlatitude</th>\n",
       "      <th>climlongitude</th>\n",
       "      <th>firelat_radians</th>\n",
       "      <th>firelong_radians</th>\n",
       "      <th>climlat_radians</th>\n",
       "      <th>climlong_radians</th>\n",
       "      <th>distance_km</th>\n",
       "    </tr>\n",
       "  </thead>\n",
       "  <tbody>\n",
       "    <tr>\n",
       "      <th>0</th>\n",
       "      <td>0</td>\n",
       "      <td>47903</td>\n",
       "      <td>47903</td>\n",
       "      <td>328420</td>\n",
       "      <td>QC</td>\n",
       "      <td>52.5747</td>\n",
       "      <td>-76.5213</td>\n",
       "      <td>01-07-2019</td>\n",
       "      <td>408.5</td>\n",
       "      <td>L</td>\n",
       "      <td>...</td>\n",
       "      <td>52.5747,-76.5213</td>\n",
       "      <td>53.62527778,-77.70416667</td>\n",
       "      <td>wid79</td>\n",
       "      <td>53.625278</td>\n",
       "      <td>-77.704167</td>\n",
       "      <td>0.917602</td>\n",
       "      <td>-1.335549</td>\n",
       "      <td>0.935938</td>\n",
       "      <td>-1.356194</td>\n",
       "      <td>140.915295</td>\n",
       "    </tr>\n",
       "    <tr>\n",
       "      <th>1</th>\n",
       "      <td>1</td>\n",
       "      <td>47904</td>\n",
       "      <td>47904</td>\n",
       "      <td>328421</td>\n",
       "      <td>QC</td>\n",
       "      <td>52.5730</td>\n",
       "      <td>-76.5418</td>\n",
       "      <td>01-07-2019</td>\n",
       "      <td>34.5</td>\n",
       "      <td>L</td>\n",
       "      <td>...</td>\n",
       "      <td>52.573,-76.5418</td>\n",
       "      <td>52.22638889,-78.5225</td>\n",
       "      <td>wid46</td>\n",
       "      <td>52.226389</td>\n",
       "      <td>-78.522500</td>\n",
       "      <td>0.917572</td>\n",
       "      <td>-1.335906</td>\n",
       "      <td>0.911522</td>\n",
       "      <td>-1.370476</td>\n",
       "      <td>139.706348</td>\n",
       "    </tr>\n",
       "  </tbody>\n",
       "</table>\n",
       "<p>2 rows × 23 columns</p>\n",
       "</div>"
      ],
      "text/plain": [
       "   Unnamed: 0.2  Unnamed: 0.1  Unnamed: 0     fid src_agency  latitude  \\\n",
       "0             0         47903       47903  328420         QC   52.5747   \n",
       "1             1         47904       47904  328421         QC   52.5730   \n",
       "\n",
       "   longitude        date  sizeha cause  ...       coordinates  \\\n",
       "0   -76.5213  01-07-2019   408.5     L  ...  52.5747,-76.5213   \n",
       "1   -76.5418  01-07-2019    34.5     L  ...   52.573,-76.5418   \n",
       "\n",
       "            climcoordinates    wid climlatitude climlongitude firelat_radians  \\\n",
       "0  53.62527778,-77.70416667  wid79    53.625278    -77.704167        0.917602   \n",
       "1      52.22638889,-78.5225  wid46    52.226389    -78.522500        0.917572   \n",
       "\n",
       "   firelong_radians  climlat_radians  climlong_radians  distance_km  \n",
       "0         -1.335549         0.935938         -1.356194   140.915295  \n",
       "1         -1.335906         0.911522         -1.370476   139.706348  \n",
       "\n",
       "[2 rows x 23 columns]"
      ]
     },
     "execution_count": 9,
     "metadata": {},
     "output_type": "execute_result"
    }
   ],
   "source": [
    "fire1qc.head(2)"
   ]
  },
  {
   "cell_type": "code",
   "execution_count": 37,
   "id": "efe6b269-9048-4e40-8c62-2f16bcb370e4",
   "metadata": {},
   "outputs": [],
   "source": [
    "#Codename Quebec 007\n",
    "#Since unsure of datetime format and getting object as the column datatype (strings, i guess), convert them all to \n",
    "#one particular format\n",
    "#Converting \"date\" column from object to datetime datatype. Since \"date\" was not in format of mm/dd/yy and it was an object(string or list, maybe), \n",
    "#it was giving error and we had to specify that in our case, the date was in the format of dayfirst and thus had to be parsed in that way \n",
    "fire1qc[\"date\"] = pd.to_datetime(fire1qc[\"date\"], dayfirst = True)\n",
    "\n",
    "#Change the format to one we like\n",
    "fire1qc[\"firedate_formatted\"] = fire1qc[\"date\"].dt.strftime(\"%d/%m/%Y\")"
   ]
  },
  {
   "cell_type": "code",
   "execution_count": 54,
   "id": "db970308-fff2-4df0-b264-a16c203dbdf4",
   "metadata": {},
   "outputs": [
    {
     "data": {
      "text/html": [
       "<div>\n",
       "<style scoped>\n",
       "    .dataframe tbody tr th:only-of-type {\n",
       "        vertical-align: middle;\n",
       "    }\n",
       "\n",
       "    .dataframe tbody tr th {\n",
       "        vertical-align: top;\n",
       "    }\n",
       "\n",
       "    .dataframe thead th {\n",
       "        text-align: right;\n",
       "    }\n",
       "</style>\n",
       "<table border=\"1\" class=\"dataframe\">\n",
       "  <thead>\n",
       "    <tr style=\"text-align: right;\">\n",
       "      <th></th>\n",
       "      <th>Unnamed: 0</th>\n",
       "      <th>Unnamed: 0.1</th>\n",
       "      <th>Unnamed: 0_x</th>\n",
       "      <th>fid</th>\n",
       "      <th>src_agency</th>\n",
       "      <th>latitude</th>\n",
       "      <th>longitude</th>\n",
       "      <th>date</th>\n",
       "      <th>sizeha</th>\n",
       "      <th>cause</th>\n",
       "      <th>...</th>\n",
       "      <th>Unnamed: 0_y</th>\n",
       "      <th>coordinates1</th>\n",
       "      <th>climlatitude</th>\n",
       "      <th>climlongitude</th>\n",
       "      <th>firelat_radians</th>\n",
       "      <th>firelong_radians</th>\n",
       "      <th>climlat_radians</th>\n",
       "      <th>climlong_radians</th>\n",
       "      <th>distance_km</th>\n",
       "      <th>firedate_formatted</th>\n",
       "    </tr>\n",
       "  </thead>\n",
       "  <tbody>\n",
       "    <tr>\n",
       "      <th>0</th>\n",
       "      <td>0</td>\n",
       "      <td>47903</td>\n",
       "      <td>47903</td>\n",
       "      <td>328420</td>\n",
       "      <td>QC</td>\n",
       "      <td>52.5747</td>\n",
       "      <td>-76.5213</td>\n",
       "      <td>2019-07-01</td>\n",
       "      <td>408.5</td>\n",
       "      <td>L</td>\n",
       "      <td>...</td>\n",
       "      <td>78</td>\n",
       "      <td>53.6253,-77.7042</td>\n",
       "      <td>53.6253</td>\n",
       "      <td>-77.7042</td>\n",
       "      <td>0.917602</td>\n",
       "      <td>-1.335549</td>\n",
       "      <td>0.935938</td>\n",
       "      <td>-1.356194</td>\n",
       "      <td>140.918574</td>\n",
       "      <td>01/07/2019</td>\n",
       "    </tr>\n",
       "    <tr>\n",
       "      <th>1</th>\n",
       "      <td>1</td>\n",
       "      <td>47904</td>\n",
       "      <td>47904</td>\n",
       "      <td>328421</td>\n",
       "      <td>QC</td>\n",
       "      <td>52.5730</td>\n",
       "      <td>-76.5418</td>\n",
       "      <td>2019-07-01</td>\n",
       "      <td>34.5</td>\n",
       "      <td>L</td>\n",
       "      <td>...</td>\n",
       "      <td>45</td>\n",
       "      <td>52.2264,-78.5225</td>\n",
       "      <td>52.2264</td>\n",
       "      <td>-78.5225</td>\n",
       "      <td>0.917572</td>\n",
       "      <td>-1.335906</td>\n",
       "      <td>0.911523</td>\n",
       "      <td>-1.370476</td>\n",
       "      <td>139.705991</td>\n",
       "      <td>01/07/2019</td>\n",
       "    </tr>\n",
       "  </tbody>\n",
       "</table>\n",
       "<p>2 rows × 24 columns</p>\n",
       "</div>"
      ],
      "text/plain": [
       "   Unnamed: 0  Unnamed: 0.1  Unnamed: 0_x     fid src_agency  latitude  \\\n",
       "0           0         47903         47903  328420         QC   52.5747   \n",
       "1           1         47904         47904  328421         QC   52.5730   \n",
       "\n",
       "   longitude       date  sizeha cause  ... Unnamed: 0_y      coordinates1  \\\n",
       "0   -76.5213 2019-07-01   408.5     L  ...           78  53.6253,-77.7042   \n",
       "1   -76.5418 2019-07-01    34.5     L  ...           45  52.2264,-78.5225   \n",
       "\n",
       "  climlatitude climlongitude  firelat_radians firelong_radians  \\\n",
       "0      53.6253      -77.7042         0.917602        -1.335549   \n",
       "1      52.2264      -78.5225         0.917572        -1.335906   \n",
       "\n",
       "   climlat_radians  climlong_radians  distance_km  firedate_formatted  \n",
       "0         0.935938         -1.356194   140.918574          01/07/2019  \n",
       "1         0.911523         -1.370476   139.705991          01/07/2019  \n",
       "\n",
       "[2 rows x 24 columns]"
      ]
     },
     "execution_count": 54,
     "metadata": {},
     "output_type": "execute_result"
    }
   ],
   "source": [
    "fire1qc.head(2)"
   ]
  },
  {
   "cell_type": "code",
   "execution_count": 40,
   "id": "bf3b1810-05db-4a5a-bb27-88fad3fb36ba",
   "metadata": {},
   "outputs": [
    {
     "ename": "ValueError",
     "evalue": "time data \"01-04-2011\" doesn't match format \"%Y-%m-%d %H:%M:%S\", at position 123211. You might want to try:\n    - passing `format` if your strings have a consistent format;\n    - passing `format='ISO8601'` if your strings are all ISO8601 but not necessarily in exactly the same format;\n    - passing `format='mixed'`, and the format will be inferred for each element individually. You might want to use `dayfirst` alongside this.",
     "output_type": "error",
     "traceback": [
      "\u001b[1;31m---------------------------------------------------------------------------\u001b[0m",
      "\u001b[1;31mValueError\u001b[0m                                Traceback (most recent call last)",
      "Cell \u001b[1;32mIn[40], line 3\u001b[0m\n\u001b[0;32m      1\u001b[0m \u001b[38;5;66;03m#Codename Quebec\u001b[39;00m\n\u001b[0;32m      2\u001b[0m \u001b[38;5;66;03m#Doing the same for cdtotal2. got error\u001b[39;00m\n\u001b[1;32m----> 3\u001b[0m cdtotal2[\u001b[38;5;124m\"\u001b[39m\u001b[38;5;124mlocal_date\u001b[39m\u001b[38;5;124m\"\u001b[39m] \u001b[38;5;241m=\u001b[39m \u001b[43mpd\u001b[49m\u001b[38;5;241;43m.\u001b[39;49m\u001b[43mto_datetime\u001b[49m\u001b[43m(\u001b[49m\u001b[43mcdtotal2\u001b[49m\u001b[43m[\u001b[49m\u001b[38;5;124;43m\"\u001b[39;49m\u001b[38;5;124;43mlocal_date\u001b[39;49m\u001b[38;5;124;43m\"\u001b[39;49m\u001b[43m]\u001b[49m\u001b[43m,\u001b[49m\u001b[43m \u001b[49m\u001b[43myearfirst\u001b[49m\u001b[43m \u001b[49m\u001b[38;5;241;43m=\u001b[39;49m\u001b[43m \u001b[49m\u001b[38;5;28;43;01mTrue\u001b[39;49;00m\u001b[43m)\u001b[49m\n",
      "File \u001b[1;32m~\\miniforge3\\envs\\erdos\\Lib\\site-packages\\pandas\\core\\tools\\datetimes.py:1112\u001b[0m, in \u001b[0;36mto_datetime\u001b[1;34m(arg, errors, dayfirst, yearfirst, utc, format, exact, unit, infer_datetime_format, origin, cache)\u001b[0m\n\u001b[0;32m   1110\u001b[0m         result \u001b[38;5;241m=\u001b[39m arg\u001b[38;5;241m.\u001b[39mmap(cache_array)\n\u001b[0;32m   1111\u001b[0m     \u001b[38;5;28;01melse\u001b[39;00m:\n\u001b[1;32m-> 1112\u001b[0m         values \u001b[38;5;241m=\u001b[39m \u001b[43mconvert_listlike\u001b[49m\u001b[43m(\u001b[49m\u001b[43marg\u001b[49m\u001b[38;5;241;43m.\u001b[39;49m\u001b[43m_values\u001b[49m\u001b[43m,\u001b[49m\u001b[43m \u001b[49m\u001b[38;5;28;43mformat\u001b[39;49m\u001b[43m)\u001b[49m\n\u001b[0;32m   1113\u001b[0m         result \u001b[38;5;241m=\u001b[39m arg\u001b[38;5;241m.\u001b[39m_constructor(values, index\u001b[38;5;241m=\u001b[39marg\u001b[38;5;241m.\u001b[39mindex, name\u001b[38;5;241m=\u001b[39marg\u001b[38;5;241m.\u001b[39mname)\n\u001b[0;32m   1114\u001b[0m \u001b[38;5;28;01melif\u001b[39;00m \u001b[38;5;28misinstance\u001b[39m(arg, (ABCDataFrame, abc\u001b[38;5;241m.\u001b[39mMutableMapping)):\n",
      "File \u001b[1;32m~\\miniforge3\\envs\\erdos\\Lib\\site-packages\\pandas\\core\\tools\\datetimes.py:488\u001b[0m, in \u001b[0;36m_convert_listlike_datetimes\u001b[1;34m(arg, format, name, utc, unit, errors, dayfirst, yearfirst, exact)\u001b[0m\n\u001b[0;32m    486\u001b[0m \u001b[38;5;66;03m# `format` could be inferred, or user didn't ask for mixed-format parsing.\u001b[39;00m\n\u001b[0;32m    487\u001b[0m \u001b[38;5;28;01mif\u001b[39;00m \u001b[38;5;28mformat\u001b[39m \u001b[38;5;129;01mis\u001b[39;00m \u001b[38;5;129;01mnot\u001b[39;00m \u001b[38;5;28;01mNone\u001b[39;00m \u001b[38;5;129;01mand\u001b[39;00m \u001b[38;5;28mformat\u001b[39m \u001b[38;5;241m!=\u001b[39m \u001b[38;5;124m\"\u001b[39m\u001b[38;5;124mmixed\u001b[39m\u001b[38;5;124m\"\u001b[39m:\n\u001b[1;32m--> 488\u001b[0m     \u001b[38;5;28;01mreturn\u001b[39;00m \u001b[43m_array_strptime_with_fallback\u001b[49m\u001b[43m(\u001b[49m\u001b[43marg\u001b[49m\u001b[43m,\u001b[49m\u001b[43m \u001b[49m\u001b[43mname\u001b[49m\u001b[43m,\u001b[49m\u001b[43m \u001b[49m\u001b[43mutc\u001b[49m\u001b[43m,\u001b[49m\u001b[43m \u001b[49m\u001b[38;5;28;43mformat\u001b[39;49m\u001b[43m,\u001b[49m\u001b[43m \u001b[49m\u001b[43mexact\u001b[49m\u001b[43m,\u001b[49m\u001b[43m \u001b[49m\u001b[43merrors\u001b[49m\u001b[43m)\u001b[49m\n\u001b[0;32m    490\u001b[0m result, tz_parsed \u001b[38;5;241m=\u001b[39m objects_to_datetime64ns(\n\u001b[0;32m    491\u001b[0m     arg,\n\u001b[0;32m    492\u001b[0m     dayfirst\u001b[38;5;241m=\u001b[39mdayfirst,\n\u001b[1;32m   (...)\u001b[0m\n\u001b[0;32m    496\u001b[0m     allow_object\u001b[38;5;241m=\u001b[39m\u001b[38;5;28;01mTrue\u001b[39;00m,\n\u001b[0;32m    497\u001b[0m )\n\u001b[0;32m    499\u001b[0m \u001b[38;5;28;01mif\u001b[39;00m tz_parsed \u001b[38;5;129;01mis\u001b[39;00m \u001b[38;5;129;01mnot\u001b[39;00m \u001b[38;5;28;01mNone\u001b[39;00m:\n\u001b[0;32m    500\u001b[0m     \u001b[38;5;66;03m# We can take a shortcut since the datetime64 numpy array\u001b[39;00m\n\u001b[0;32m    501\u001b[0m     \u001b[38;5;66;03m# is in UTC\u001b[39;00m\n",
      "File \u001b[1;32m~\\miniforge3\\envs\\erdos\\Lib\\site-packages\\pandas\\core\\tools\\datetimes.py:519\u001b[0m, in \u001b[0;36m_array_strptime_with_fallback\u001b[1;34m(arg, name, utc, fmt, exact, errors)\u001b[0m\n\u001b[0;32m    508\u001b[0m \u001b[38;5;28;01mdef\u001b[39;00m \u001b[38;5;21m_array_strptime_with_fallback\u001b[39m(\n\u001b[0;32m    509\u001b[0m     arg,\n\u001b[0;32m    510\u001b[0m     name,\n\u001b[1;32m   (...)\u001b[0m\n\u001b[0;32m    514\u001b[0m     errors: \u001b[38;5;28mstr\u001b[39m,\n\u001b[0;32m    515\u001b[0m ) \u001b[38;5;241m-\u001b[39m\u001b[38;5;241m>\u001b[39m Index:\n\u001b[0;32m    516\u001b[0m \u001b[38;5;250m    \u001b[39m\u001b[38;5;124;03m\"\"\"\u001b[39;00m\n\u001b[0;32m    517\u001b[0m \u001b[38;5;124;03m    Call array_strptime, with fallback behavior depending on 'errors'.\u001b[39;00m\n\u001b[0;32m    518\u001b[0m \u001b[38;5;124;03m    \"\"\"\u001b[39;00m\n\u001b[1;32m--> 519\u001b[0m     result, timezones \u001b[38;5;241m=\u001b[39m \u001b[43marray_strptime\u001b[49m\u001b[43m(\u001b[49m\u001b[43marg\u001b[49m\u001b[43m,\u001b[49m\u001b[43m \u001b[49m\u001b[43mfmt\u001b[49m\u001b[43m,\u001b[49m\u001b[43m \u001b[49m\u001b[43mexact\u001b[49m\u001b[38;5;241;43m=\u001b[39;49m\u001b[43mexact\u001b[49m\u001b[43m,\u001b[49m\u001b[43m \u001b[49m\u001b[43merrors\u001b[49m\u001b[38;5;241;43m=\u001b[39;49m\u001b[43merrors\u001b[49m\u001b[43m,\u001b[49m\u001b[43m \u001b[49m\u001b[43mutc\u001b[49m\u001b[38;5;241;43m=\u001b[39;49m\u001b[43mutc\u001b[49m\u001b[43m)\u001b[49m\n\u001b[0;32m    520\u001b[0m     \u001b[38;5;28;01mif\u001b[39;00m \u001b[38;5;28many\u001b[39m(tz \u001b[38;5;129;01mis\u001b[39;00m \u001b[38;5;129;01mnot\u001b[39;00m \u001b[38;5;28;01mNone\u001b[39;00m \u001b[38;5;28;01mfor\u001b[39;00m tz \u001b[38;5;129;01min\u001b[39;00m timezones):\n\u001b[0;32m    521\u001b[0m         \u001b[38;5;28;01mreturn\u001b[39;00m _return_parsed_timezone_results(result, timezones, utc, name)\n",
      "File \u001b[1;32mstrptime.pyx:534\u001b[0m, in \u001b[0;36mpandas._libs.tslibs.strptime.array_strptime\u001b[1;34m()\u001b[0m\n",
      "File \u001b[1;32mstrptime.pyx:355\u001b[0m, in \u001b[0;36mpandas._libs.tslibs.strptime.array_strptime\u001b[1;34m()\u001b[0m\n",
      "\u001b[1;31mValueError\u001b[0m: time data \"01-04-2011\" doesn't match format \"%Y-%m-%d %H:%M:%S\", at position 123211. You might want to try:\n    - passing `format` if your strings have a consistent format;\n    - passing `format='ISO8601'` if your strings are all ISO8601 but not necessarily in exactly the same format;\n    - passing `format='mixed'`, and the format will be inferred for each element individually. You might want to use `dayfirst` alongside this."
     ]
    }
   ],
   "source": [
    "#Codename Quebec\n",
    "#Doing the same for cdtotal2. got error\n",
    "cdtotal2[\"local_date\"] = pd.to_datetime(cdtotal2[\"local_date\"], yearfirst = True)"
   ]
  },
  {
   "cell_type": "code",
   "execution_count": 20,
   "id": "85f415b7-e1b2-43fb-9515-3de683fe55b7",
   "metadata": {},
   "outputs": [
    {
     "data": {
      "text/plain": [
       "0    13-05-2018\n",
       "1    28-03-2013\n",
       "Name: local_date, dtype: object"
      ]
     },
     "execution_count": 20,
     "metadata": {},
     "output_type": "execute_result"
    }
   ],
   "source": [
    "#Codename Quebec\n",
    "#To combat the error of the following error that came up with the previous code, \"time data \"12-12-2011\" doesn't match \n",
    "#format \"%Y-%m-%d %H:%M:%S\", at position 39\" which told us that in the cdtotal2 date format, one of the cells was dd-mm-yyyy instead of the regular\n",
    "#yyyy-mm-dd. Thus we formatted the cells after creating a csvdatafile\n",
    "cdtotal3 = pd.read_csv(\"cd5000.csv\")\n",
    "cdtotal3[\"local_date\"].head(2)"
   ]
  },
  {
   "cell_type": "code",
   "execution_count": 22,
   "id": "d951f543-d0f8-42ff-aa5c-3d9b47494ef9",
   "metadata": {},
   "outputs": [],
   "source": [
    "#Codename Quebec\n",
    "#Doing the same for cdtotal2\n",
    "cdtotal3[\"local_date\"] = pd.to_datetime(cdtotal3[\"local_date\"], dayfirst = True)\n",
    "cdtotal3[\"climdate_formatted\"] = cdtotal3[\"local_date\"].dt.strftime(\"%d/%m/%Y\")"
   ]
  },
  {
   "cell_type": "code",
   "execution_count": 25,
   "id": "6bdffd87-abc2-4975-a45d-9801f2f692f7",
   "metadata": {},
   "outputs": [
    {
     "data": {
      "text/plain": [
       "1076"
      ]
     },
     "execution_count": 25,
     "metadata": {},
     "output_type": "execute_result"
    }
   ],
   "source": [
    "#Codename Quebec\n",
    "#Finding common values between the two dataframe dates to see if some climate dates coincide with fire dates\n",
    "comval1 = set(fire1qc[\"firedate_formatted\"].values) & set(cdtotal3[\"climdate_formatted\"].values)\n",
    "len(comval1)"
   ]
  },
  {
   "cell_type": "code",
   "execution_count": 26,
   "id": "2507b38b-41ef-4c4b-997d-f3a2e5b4a7f0",
   "metadata": {},
   "outputs": [],
   "source": [
    "#Codename Quebec\n",
    "#We will filter out all those rows in cdtotal3 that share common dates with fire1qc dates\n",
    "cdtotal_nf1 = cdtotal3[~cdtotal3[\"climdate_formatted\"].isin(fire1qc[\"firedate_formatted\"])]"
   ]
  },
  {
   "cell_type": "code",
   "execution_count": 27,
   "id": "76f7e938-9b72-4bdb-8d04-36522a33e7b5",
   "metadata": {},
   "outputs": [
    {
     "data": {
      "text/plain": [
       "(3511, 39)"
      ]
     },
     "execution_count": 27,
     "metadata": {},
     "output_type": "execute_result"
    }
   ],
   "source": [
    "cdtotal_nf1.shape"
   ]
  },
  {
   "cell_type": "markdown",
   "id": "fcebb38d-ac57-468f-a9b0-93bff2021c21",
   "metadata": {},
   "source": [
    "## Creating the no fire climate data subset for the zeros\n",
    "#### *Codename Quebec 007 is also part of this code. Remember to run it along with this code chunk"
   ]
  },
  {
   "cell_type": "code",
   "execution_count": 11,
   "id": "19bb07e0-01ec-455b-8a9e-d341a960aadd",
   "metadata": {},
   "outputs": [],
   "source": [
    "#Codename Quebec\n",
    "#Now I am gonna make up the 1076 datapoint difference by resampling from the original cdtotal1 dataframe\n",
    "cdtotal2[\"local_date\"] = pd.to_datetime(cdtotal2[\"local_date\"], dayfirst = True)\n",
    "cdtotal2[\"climdate_formatted\"] = cdtotal2[\"local_date\"].dt.strftime(\"%d/%m/%Y\")"
   ]
  },
  {
   "cell_type": "code",
   "execution_count": 6,
   "id": "a1c31e29-5f73-4600-a384-6f3adc80642e",
   "metadata": {},
   "outputs": [],
   "source": [
    "#Codename Quebec\n",
    "#We will filter out all those rows in cdtotal1 that share common dates with fire1qc dates and get a dataset that doesn't contain them\n",
    "cdtotal_nf2 = cdtotal1[~cdtotal1[\"climdate_formatted\"].isin(fire1qc[\"firedate_formatted\"])]"
   ]
  },
  {
   "cell_type": "code",
   "execution_count": 32,
   "id": "cf143b76-eaea-4617-9d41-d57b65f1f420",
   "metadata": {},
   "outputs": [
    {
     "data": {
      "text/plain": [
       "(475865, 38)"
      ]
     },
     "execution_count": 32,
     "metadata": {},
     "output_type": "execute_result"
    }
   ],
   "source": [
    "cdtotal_nf2.shape #Weird that fire1qc has 5514 rows of data but 269,148 rows have been removed here. Is it possible there\n",
    "                    #were duplicates? Seems like it"
   ]
  },
  {
   "cell_type": "markdown",
   "id": "6960daff-0cc9-45ed-8ac4-10709ab4dfa9",
   "metadata": {},
   "source": [
    "### No fire dataset"
   ]
  },
  {
   "cell_type": "code",
   "execution_count": 7,
   "id": "94c487f4-beae-4769-a07c-98f53342ed06",
   "metadata": {},
   "outputs": [],
   "source": [
    "#Codename Quebec\n",
    "#Now creating the new subset of 5514 no fire datapoints from the original cdtotal dataset\n",
    "cdnf1 = cdtotal_nf2.sample(n = 5514)"
   ]
  },
  {
   "cell_type": "code",
   "execution_count": 35,
   "id": "27307b79-183b-4c13-bc9d-1952fdda9bd9",
   "metadata": {},
   "outputs": [
    {
     "data": {
      "text/plain": [
       "0"
      ]
     },
     "execution_count": 35,
     "metadata": {},
     "output_type": "execute_result"
    }
   ],
   "source": [
    "comval2 = set(fire1qc[\"firedate_formatted\"].values) & set(cdnf1[\"climdate_formatted\"].values)\n",
    "len(comval2)"
   ]
  },
  {
   "cell_type": "markdown",
   "id": "90ea25cd-44c8-4a12-a646-96ba61894234",
   "metadata": {},
   "source": [
    "## Creating a dataset that has climate data from weather station for corresponding fires"
   ]
  },
  {
   "cell_type": "code",
   "execution_count": 44,
   "id": "e142a86a-d0d8-48c3-b115-5c147b0b659c",
   "metadata": {},
   "outputs": [
    {
     "data": {
      "text/plain": [
       "1422"
      ]
     },
     "execution_count": 44,
     "metadata": {},
     "output_type": "execute_result"
    }
   ],
   "source": [
    "#Finding climate data for the fires on the basis of common dates\n",
    "comval3 = set(fire1qc[\"firedate_formatted\"].values) & set(cdtotal2[\"climdate_formatted\"].values)\n",
    "len(comval3)"
   ]
  },
  {
   "cell_type": "code",
   "execution_count": 49,
   "id": "f2b8d671-3960-4f23-bc83-4a21748bd57a",
   "metadata": {},
   "outputs": [
    {
     "data": {
      "text/plain": [
       "(745013, 38)"
      ]
     },
     "execution_count": 49,
     "metadata": {},
     "output_type": "execute_result"
    }
   ],
   "source": [
    "cdtotal2.shape"
   ]
  },
  {
   "cell_type": "code",
   "execution_count": 50,
   "id": "3ed78156-f98c-4cd3-841b-7bc43ff3151e",
   "metadata": {},
   "outputs": [],
   "source": [
    "#Creating a filter using Boolean indexing to select rows which share common dates between cdtotal2 and fire1qc\n",
    "cdfirecom1 = cdtotal2[\"climdate_formatted\"].isin(fire1qc[\"firedate_formatted\"])"
   ]
  },
  {
   "cell_type": "code",
   "execution_count": 51,
   "id": "d8ae4665-1d3a-47bd-b1a6-d81b306f89b0",
   "metadata": {},
   "outputs": [],
   "source": [
    "#Applying filter to new dataset\n",
    "cdtotal_firedate1 = cdtotal2[cdfirecom1]"
   ]
  },
  {
   "cell_type": "code",
   "execution_count": 52,
   "id": "5f098ccf-b34f-466e-a6e2-bc3f4fe2e4b8",
   "metadata": {},
   "outputs": [
    {
     "data": {
      "text/plain": [
       "(269148, 38)"
      ]
     },
     "execution_count": 52,
     "metadata": {},
     "output_type": "execute_result"
    }
   ],
   "source": [
    "cdtotal_firedate1.shape"
   ]
  },
  {
   "cell_type": "code",
   "execution_count": 21,
   "id": "3a10806c-3c84-4126-9d2e-f48ee16e2200",
   "metadata": {},
   "outputs": [],
   "source": [
    "cdtotal_firedate1.to_csv(r\"C:\\\\Users\\\\ROHAN\\\\erdos\\\\cdtotal_commonfiredates.csv\")"
   ]
  },
  {
   "cell_type": "code",
   "execution_count": 53,
   "id": "5c5adcc7-906c-4370-b9cd-cf8cfe6e7fe1",
   "metadata": {},
   "outputs": [
    {
     "data": {
      "text/html": [
       "<div>\n",
       "<style scoped>\n",
       "    .dataframe tbody tr th:only-of-type {\n",
       "        vertical-align: middle;\n",
       "    }\n",
       "\n",
       "    .dataframe tbody tr th {\n",
       "        vertical-align: top;\n",
       "    }\n",
       "\n",
       "    .dataframe thead th {\n",
       "        text-align: right;\n",
       "    }\n",
       "</style>\n",
       "<table border=\"1\" class=\"dataframe\">\n",
       "  <thead>\n",
       "    <tr style=\"text-align: right;\">\n",
       "      <th></th>\n",
       "      <th>Unnamed: 0</th>\n",
       "      <th>climate_identifier</th>\n",
       "      <th>cooling_degree_days</th>\n",
       "      <th>cooling_degree_days_flag</th>\n",
       "      <th>direction_max_gust</th>\n",
       "      <th>direction_max_gust_flag</th>\n",
       "      <th>heating_degree_days</th>\n",
       "      <th>heating_degree_days_flag</th>\n",
       "      <th>id</th>\n",
       "      <th>local_date</th>\n",
       "      <th>...</th>\n",
       "      <th>station_name</th>\n",
       "      <th>total_precipitation</th>\n",
       "      <th>total_precipitation_flag</th>\n",
       "      <th>total_rain</th>\n",
       "      <th>total_rain_flag</th>\n",
       "      <th>total_snow</th>\n",
       "      <th>total_snow_flag</th>\n",
       "      <th>x</th>\n",
       "      <th>y</th>\n",
       "      <th>climdate_formatted</th>\n",
       "    </tr>\n",
       "  </thead>\n",
       "  <tbody>\n",
       "    <tr>\n",
       "      <th>0</th>\n",
       "      <td>0</td>\n",
       "      <td>2200100</td>\n",
       "      <td>1.2</td>\n",
       "      <td>NaN</td>\n",
       "      <td>NaN</td>\n",
       "      <td>NaN</td>\n",
       "      <td>0.0</td>\n",
       "      <td>NaN</td>\n",
       "      <td>2200100.2012.8.2</td>\n",
       "      <td>2012-08-02</td>\n",
       "      <td>...</td>\n",
       "      <td>AKLAVIK A</td>\n",
       "      <td>0.0</td>\n",
       "      <td>T</td>\n",
       "      <td>0.0</td>\n",
       "      <td>T</td>\n",
       "      <td>0.0</td>\n",
       "      <td>NaN</td>\n",
       "      <td>-135.0058</td>\n",
       "      <td>68.2233</td>\n",
       "      <td>02/08/2012</td>\n",
       "    </tr>\n",
       "    <tr>\n",
       "      <th>1</th>\n",
       "      <td>1</td>\n",
       "      <td>2200100</td>\n",
       "      <td>0.0</td>\n",
       "      <td>NaN</td>\n",
       "      <td>NaN</td>\n",
       "      <td>NaN</td>\n",
       "      <td>1.8</td>\n",
       "      <td>NaN</td>\n",
       "      <td>2200100.2012.8.4</td>\n",
       "      <td>2012-08-04</td>\n",
       "      <td>...</td>\n",
       "      <td>AKLAVIK A</td>\n",
       "      <td>0.0</td>\n",
       "      <td>NaN</td>\n",
       "      <td>0.0</td>\n",
       "      <td>NaN</td>\n",
       "      <td>0.0</td>\n",
       "      <td>NaN</td>\n",
       "      <td>-135.0058</td>\n",
       "      <td>68.2233</td>\n",
       "      <td>04/08/2012</td>\n",
       "    </tr>\n",
       "  </tbody>\n",
       "</table>\n",
       "<p>2 rows × 38 columns</p>\n",
       "</div>"
      ],
      "text/plain": [
       "   Unnamed: 0 climate_identifier  cooling_degree_days  \\\n",
       "0           0            2200100                  1.2   \n",
       "1           1            2200100                  0.0   \n",
       "\n",
       "  cooling_degree_days_flag  direction_max_gust direction_max_gust_flag  \\\n",
       "0                      NaN                 NaN                     NaN   \n",
       "1                      NaN                 NaN                     NaN   \n",
       "\n",
       "   heating_degree_days heating_degree_days_flag                id local_date  \\\n",
       "0                  0.0                      NaN  2200100.2012.8.2 2012-08-02   \n",
       "1                  1.8                      NaN  2200100.2012.8.4 2012-08-04   \n",
       "\n",
       "   ...  station_name  total_precipitation  total_precipitation_flag  \\\n",
       "0  ...     AKLAVIK A                  0.0                         T   \n",
       "1  ...     AKLAVIK A                  0.0                       NaN   \n",
       "\n",
       "   total_rain total_rain_flag  total_snow total_snow_flag         x        y  \\\n",
       "0         0.0               T         0.0             NaN -135.0058  68.2233   \n",
       "1         0.0             NaN         0.0             NaN -135.0058  68.2233   \n",
       "\n",
       "   climdate_formatted  \n",
       "0          02/08/2012  \n",
       "1          04/08/2012  \n",
       "\n",
       "[2 rows x 38 columns]"
      ]
     },
     "execution_count": 53,
     "metadata": {},
     "output_type": "execute_result"
    }
   ],
   "source": [
    "cdtotal_firedate1.head(2)"
   ]
  },
  {
   "cell_type": "code",
   "execution_count": 55,
   "id": "42135cf3-fc11-48fa-902b-9d9b0f42cfb1",
   "metadata": {},
   "outputs": [
    {
     "ename": "MergeError",
     "evalue": "Passing 'suffixes' which cause duplicate columns {'Unnamed: 0_x'} is not allowed.",
     "output_type": "error",
     "traceback": [
      "\u001b[1;31m---------------------------------------------------------------------------\u001b[0m",
      "\u001b[1;31mMergeError\u001b[0m                                Traceback (most recent call last)",
      "Cell \u001b[1;32mIn[55], line 2\u001b[0m\n\u001b[0;32m      1\u001b[0m \u001b[38;5;66;03m#Doing a merge\u001b[39;00m\n\u001b[1;32m----> 2\u001b[0m fire_clim1 \u001b[38;5;241m=\u001b[39m \u001b[43mpd\u001b[49m\u001b[38;5;241;43m.\u001b[39;49m\u001b[43mmerge\u001b[49m\u001b[43m(\u001b[49m\u001b[43mfire1qc\u001b[49m\u001b[43m,\u001b[49m\u001b[43m \u001b[49m\u001b[43mcdtotal_firedate1\u001b[49m\u001b[43m,\u001b[49m\u001b[43m \u001b[49m\u001b[43mleft_on\u001b[49m\u001b[43m \u001b[49m\u001b[38;5;241;43m=\u001b[39;49m\u001b[43m \u001b[49m\u001b[43m[\u001b[49m\u001b[38;5;124;43m\"\u001b[39;49m\u001b[38;5;124;43mfiredate_formatted\u001b[39;49m\u001b[38;5;124;43m\"\u001b[39;49m\u001b[43m,\u001b[49m\u001b[43m \u001b[49m\u001b[38;5;124;43m\"\u001b[39;49m\u001b[38;5;124;43mclimlatitude\u001b[39;49m\u001b[38;5;124;43m\"\u001b[39;49m\u001b[43m,\u001b[49m\u001b[43m \u001b[49m\u001b[38;5;124;43m\"\u001b[39;49m\u001b[38;5;124;43mclimlongitude\u001b[39;49m\u001b[38;5;124;43m\"\u001b[39;49m\u001b[43m]\u001b[49m\u001b[43m,\u001b[49m\u001b[43m \u001b[49m\n\u001b[0;32m      3\u001b[0m \u001b[43m                      \u001b[49m\u001b[43mright_on\u001b[49m\u001b[43m \u001b[49m\u001b[38;5;241;43m=\u001b[39;49m\u001b[43m \u001b[49m\u001b[43m[\u001b[49m\u001b[38;5;124;43m\"\u001b[39;49m\u001b[38;5;124;43mclimdate_formatted\u001b[39;49m\u001b[38;5;124;43m\"\u001b[39;49m\u001b[43m,\u001b[49m\u001b[43m \u001b[49m\u001b[38;5;124;43m\"\u001b[39;49m\u001b[38;5;124;43my\u001b[39;49m\u001b[38;5;124;43m\"\u001b[39;49m\u001b[43m,\u001b[49m\u001b[43m \u001b[49m\u001b[38;5;124;43m\"\u001b[39;49m\u001b[38;5;124;43mx\u001b[39;49m\u001b[38;5;124;43m\"\u001b[39;49m\u001b[43m]\u001b[49m\u001b[43m,\u001b[49m\u001b[43m \u001b[49m\u001b[43mhow\u001b[49m\u001b[43m \u001b[49m\u001b[38;5;241;43m=\u001b[39;49m\u001b[43m \u001b[49m\u001b[38;5;124;43m\"\u001b[39;49m\u001b[38;5;124;43minner\u001b[39;49m\u001b[38;5;124;43m\"\u001b[39;49m\u001b[43m)\u001b[49m\n",
      "File \u001b[1;32m~\\miniforge3\\envs\\erdos\\Lib\\site-packages\\pandas\\core\\reshape\\merge.py:183\u001b[0m, in \u001b[0;36mmerge\u001b[1;34m(left, right, how, on, left_on, right_on, left_index, right_index, sort, suffixes, copy, indicator, validate)\u001b[0m\n\u001b[0;32m    168\u001b[0m \u001b[38;5;28;01melse\u001b[39;00m:\n\u001b[0;32m    169\u001b[0m     op \u001b[38;5;241m=\u001b[39m _MergeOperation(\n\u001b[0;32m    170\u001b[0m         left_df,\n\u001b[0;32m    171\u001b[0m         right_df,\n\u001b[1;32m   (...)\u001b[0m\n\u001b[0;32m    181\u001b[0m         validate\u001b[38;5;241m=\u001b[39mvalidate,\n\u001b[0;32m    182\u001b[0m     )\n\u001b[1;32m--> 183\u001b[0m     \u001b[38;5;28;01mreturn\u001b[39;00m \u001b[43mop\u001b[49m\u001b[38;5;241;43m.\u001b[39;49m\u001b[43mget_result\u001b[49m\u001b[43m(\u001b[49m\u001b[43mcopy\u001b[49m\u001b[38;5;241;43m=\u001b[39;49m\u001b[43mcopy\u001b[49m\u001b[43m)\u001b[49m\n",
      "File \u001b[1;32m~\\miniforge3\\envs\\erdos\\Lib\\site-packages\\pandas\\core\\reshape\\merge.py:885\u001b[0m, in \u001b[0;36m_MergeOperation.get_result\u001b[1;34m(self, copy)\u001b[0m\n\u001b[0;32m    881\u001b[0m     \u001b[38;5;28mself\u001b[39m\u001b[38;5;241m.\u001b[39mleft, \u001b[38;5;28mself\u001b[39m\u001b[38;5;241m.\u001b[39mright \u001b[38;5;241m=\u001b[39m \u001b[38;5;28mself\u001b[39m\u001b[38;5;241m.\u001b[39m_indicator_pre_merge(\u001b[38;5;28mself\u001b[39m\u001b[38;5;241m.\u001b[39mleft, \u001b[38;5;28mself\u001b[39m\u001b[38;5;241m.\u001b[39mright)\n\u001b[0;32m    883\u001b[0m join_index, left_indexer, right_indexer \u001b[38;5;241m=\u001b[39m \u001b[38;5;28mself\u001b[39m\u001b[38;5;241m.\u001b[39m_get_join_info()\n\u001b[1;32m--> 885\u001b[0m result \u001b[38;5;241m=\u001b[39m \u001b[38;5;28;43mself\u001b[39;49m\u001b[38;5;241;43m.\u001b[39;49m\u001b[43m_reindex_and_concat\u001b[49m\u001b[43m(\u001b[49m\n\u001b[0;32m    886\u001b[0m \u001b[43m    \u001b[49m\u001b[43mjoin_index\u001b[49m\u001b[43m,\u001b[49m\u001b[43m \u001b[49m\u001b[43mleft_indexer\u001b[49m\u001b[43m,\u001b[49m\u001b[43m \u001b[49m\u001b[43mright_indexer\u001b[49m\u001b[43m,\u001b[49m\u001b[43m \u001b[49m\u001b[43mcopy\u001b[49m\u001b[38;5;241;43m=\u001b[39;49m\u001b[43mcopy\u001b[49m\n\u001b[0;32m    887\u001b[0m \u001b[43m\u001b[49m\u001b[43m)\u001b[49m\n\u001b[0;32m    888\u001b[0m result \u001b[38;5;241m=\u001b[39m result\u001b[38;5;241m.\u001b[39m__finalize__(\u001b[38;5;28mself\u001b[39m, method\u001b[38;5;241m=\u001b[39m\u001b[38;5;28mself\u001b[39m\u001b[38;5;241m.\u001b[39m_merge_type)\n\u001b[0;32m    890\u001b[0m \u001b[38;5;28;01mif\u001b[39;00m \u001b[38;5;28mself\u001b[39m\u001b[38;5;241m.\u001b[39mindicator:\n",
      "File \u001b[1;32m~\\miniforge3\\envs\\erdos\\Lib\\site-packages\\pandas\\core\\reshape\\merge.py:837\u001b[0m, in \u001b[0;36m_MergeOperation._reindex_and_concat\u001b[1;34m(self, join_index, left_indexer, right_indexer, copy)\u001b[0m\n\u001b[0;32m    834\u001b[0m left \u001b[38;5;241m=\u001b[39m \u001b[38;5;28mself\u001b[39m\u001b[38;5;241m.\u001b[39mleft[:]\n\u001b[0;32m    835\u001b[0m right \u001b[38;5;241m=\u001b[39m \u001b[38;5;28mself\u001b[39m\u001b[38;5;241m.\u001b[39mright[:]\n\u001b[1;32m--> 837\u001b[0m llabels, rlabels \u001b[38;5;241m=\u001b[39m \u001b[43m_items_overlap_with_suffix\u001b[49m\u001b[43m(\u001b[49m\n\u001b[0;32m    838\u001b[0m \u001b[43m    \u001b[49m\u001b[38;5;28;43mself\u001b[39;49m\u001b[38;5;241;43m.\u001b[39;49m\u001b[43mleft\u001b[49m\u001b[38;5;241;43m.\u001b[39;49m\u001b[43m_info_axis\u001b[49m\u001b[43m,\u001b[49m\u001b[43m \u001b[49m\u001b[38;5;28;43mself\u001b[39;49m\u001b[38;5;241;43m.\u001b[39;49m\u001b[43mright\u001b[49m\u001b[38;5;241;43m.\u001b[39;49m\u001b[43m_info_axis\u001b[49m\u001b[43m,\u001b[49m\u001b[43m \u001b[49m\u001b[38;5;28;43mself\u001b[39;49m\u001b[38;5;241;43m.\u001b[39;49m\u001b[43msuffixes\u001b[49m\n\u001b[0;32m    839\u001b[0m \u001b[43m\u001b[49m\u001b[43m)\u001b[49m\n\u001b[0;32m    841\u001b[0m \u001b[38;5;28;01mif\u001b[39;00m left_indexer \u001b[38;5;129;01mis\u001b[39;00m \u001b[38;5;129;01mnot\u001b[39;00m \u001b[38;5;28;01mNone\u001b[39;00m \u001b[38;5;129;01mand\u001b[39;00m \u001b[38;5;129;01mnot\u001b[39;00m is_range_indexer(left_indexer, \u001b[38;5;28mlen\u001b[39m(left)):\n\u001b[0;32m    842\u001b[0m     \u001b[38;5;66;03m# Pinning the index here (and in the right code just below) is not\u001b[39;00m\n\u001b[0;32m    843\u001b[0m     \u001b[38;5;66;03m#  necessary, but makes the `.take` more performant if we have e.g.\u001b[39;00m\n\u001b[0;32m    844\u001b[0m     \u001b[38;5;66;03m#  a MultiIndex for left.index.\u001b[39;00m\n\u001b[0;32m    845\u001b[0m     lmgr \u001b[38;5;241m=\u001b[39m left\u001b[38;5;241m.\u001b[39m_mgr\u001b[38;5;241m.\u001b[39mreindex_indexer(\n\u001b[0;32m    846\u001b[0m         join_index,\n\u001b[0;32m    847\u001b[0m         left_indexer,\n\u001b[1;32m   (...)\u001b[0m\n\u001b[0;32m    852\u001b[0m         use_na_proxy\u001b[38;5;241m=\u001b[39m\u001b[38;5;28;01mTrue\u001b[39;00m,\n\u001b[0;32m    853\u001b[0m     )\n",
      "File \u001b[1;32m~\\miniforge3\\envs\\erdos\\Lib\\site-packages\\pandas\\core\\reshape\\merge.py:2697\u001b[0m, in \u001b[0;36m_items_overlap_with_suffix\u001b[1;34m(left, right, suffixes)\u001b[0m\n\u001b[0;32m   2695\u001b[0m     dups\u001b[38;5;241m.\u001b[39mextend(rlabels[(rlabels\u001b[38;5;241m.\u001b[39mduplicated()) \u001b[38;5;241m&\u001b[39m (\u001b[38;5;241m~\u001b[39mright\u001b[38;5;241m.\u001b[39mduplicated())]\u001b[38;5;241m.\u001b[39mtolist())\n\u001b[0;32m   2696\u001b[0m \u001b[38;5;28;01mif\u001b[39;00m dups:\n\u001b[1;32m-> 2697\u001b[0m     \u001b[38;5;28;01mraise\u001b[39;00m MergeError(\n\u001b[0;32m   2698\u001b[0m         \u001b[38;5;124mf\u001b[39m\u001b[38;5;124m\"\u001b[39m\u001b[38;5;124mPassing \u001b[39m\u001b[38;5;124m'\u001b[39m\u001b[38;5;124msuffixes\u001b[39m\u001b[38;5;124m'\u001b[39m\u001b[38;5;124m which cause duplicate columns \u001b[39m\u001b[38;5;132;01m{\u001b[39;00m\u001b[38;5;28mset\u001b[39m(dups)\u001b[38;5;132;01m}\u001b[39;00m\u001b[38;5;124m is \u001b[39m\u001b[38;5;124m\"\u001b[39m\n\u001b[0;32m   2699\u001b[0m         \u001b[38;5;124mf\u001b[39m\u001b[38;5;124m\"\u001b[39m\u001b[38;5;124mnot allowed.\u001b[39m\u001b[38;5;124m\"\u001b[39m,\n\u001b[0;32m   2700\u001b[0m     )\n\u001b[0;32m   2702\u001b[0m \u001b[38;5;28;01mreturn\u001b[39;00m llabels, rlabels\n",
      "\u001b[1;31mMergeError\u001b[0m: Passing 'suffixes' which cause duplicate columns {'Unnamed: 0_x'} is not allowed."
     ]
    }
   ],
   "source": [
    "#Doing a merge\n",
    "fire_clim1 = pd.merge(fire1qc, cdtotal_firedate1, left_on = [\"firedate_formatted\", \"climlatitude\", \"climlongitude\"], \n",
    "                      right_on = [\"climdate_formatted\", \"y\", \"x\"], how = \"inner\")"
   ]
  },
  {
   "cell_type": "code",
   "execution_count": 16,
   "id": "d0a81bd9-0cda-4838-8c75-35e556c16ddb",
   "metadata": {},
   "outputs": [
    {
     "data": {
      "text/plain": [
       "(4710, 62)"
      ]
     },
     "execution_count": 16,
     "metadata": {},
     "output_type": "execute_result"
    }
   ],
   "source": [
    "fire_clim1.shape #There has been a loss of 804 datapoints from fire1qc."
   ]
  },
  {
   "cell_type": "code",
   "execution_count": 17,
   "id": "e2ae1c8f-7b78-4b78-98a2-f8492d344f3f",
   "metadata": {},
   "outputs": [],
   "source": [
    "fire_clim1.to_csv(r\"C:\\\\Users\\\\ROHAN\\\\erdos\\\\fireclimate1.csv\")"
   ]
  },
  {
   "cell_type": "code",
   "execution_count": 19,
   "id": "ce1f3cae-e526-46a0-9db0-47caa782bdcd",
   "metadata": {},
   "outputs": [],
   "source": [
    "#Trying to find those missing 804 points\n",
    "fire_missing1 = pd.merge(fire1qc, fire_clim1, on = [\"firedate_formatted\", \"climlatitude\", \"climlongitude\"], how = \"outer\", indicator = True)"
   ]
  },
  {
   "cell_type": "code",
   "execution_count": 20,
   "id": "1aa645dc-270d-49c2-8337-7bad4d8a216f",
   "metadata": {},
   "outputs": [],
   "source": [
    "fire_missing1.to_csv(r\"C:\\\\Users\\\\ROHAN\\\\erdos\\\\firemissingvalues1.csv\")"
   ]
  },
  {
   "cell_type": "code",
   "execution_count": 2,
   "id": "1c907a56-3171-4b55-9f06-0f919d46e983",
   "metadata": {},
   "outputs": [],
   "source": [
    "fire_clim1 = pd.read_csv(\"fireclimate1.csv\")"
   ]
  },
  {
   "cell_type": "code",
   "execution_count": 5,
   "id": "86c79d63-b167-4508-a9f4-c5e01a7eff60",
   "metadata": {},
   "outputs": [],
   "source": [
    "fc1 = fire_clim1.query(\"cause == 'L'\")"
   ]
  },
  {
   "cell_type": "code",
   "execution_count": 7,
   "id": "0b080f64-fc11-4ab3-aa51-245b1d430265",
   "metadata": {},
   "outputs": [],
   "source": [
    "fc2 = fc1.query(\"sizeha > 0\")"
   ]
  },
  {
   "cell_type": "code",
   "execution_count": 8,
   "id": "af4e54ca-3135-4600-81e9-caa8eea7b9ea",
   "metadata": {},
   "outputs": [
    {
     "data": {
      "text/plain": [
       "(840, 63)"
      ]
     },
     "execution_count": 8,
     "metadata": {},
     "output_type": "execute_result"
    }
   ],
   "source": [
    "fc2.shape"
   ]
  },
  {
   "cell_type": "code",
   "execution_count": 12,
   "id": "b681d19c-46c7-4f50-bbd0-2b7e3d015ce9",
   "metadata": {},
   "outputs": [],
   "source": [
    "together2 = pd.merge(cdtotal2, fc2, left_on = [\"climdate_formatted\", \"y\", \"x\"], \n",
    "                     right_on = [\"firedate_formatted\", \"climlatitude\", \"climlongitude\"], how = \"left\", indicator = True )"
   ]
  },
  {
   "cell_type": "code",
   "execution_count": 13,
   "id": "c3356e58-b01a-4f92-883b-cd963c70baad",
   "metadata": {},
   "outputs": [
    {
     "data": {
      "text/html": [
       "<div>\n",
       "<style scoped>\n",
       "    .dataframe tbody tr th:only-of-type {\n",
       "        vertical-align: middle;\n",
       "    }\n",
       "\n",
       "    .dataframe tbody tr th {\n",
       "        vertical-align: top;\n",
       "    }\n",
       "\n",
       "    .dataframe thead th {\n",
       "        text-align: right;\n",
       "    }\n",
       "</style>\n",
       "<table border=\"1\" class=\"dataframe\">\n",
       "  <thead>\n",
       "    <tr style=\"text-align: right;\">\n",
       "      <th></th>\n",
       "      <th>climate_identifier_x</th>\n",
       "      <th>cooling_degree_days_x</th>\n",
       "      <th>cooling_degree_days_flag_x</th>\n",
       "      <th>direction_max_gust_x</th>\n",
       "      <th>direction_max_gust_flag_x</th>\n",
       "      <th>heating_degree_days_x</th>\n",
       "      <th>heating_degree_days_flag_x</th>\n",
       "      <th>id_x</th>\n",
       "      <th>local_date_x</th>\n",
       "      <th>local_day_x</th>\n",
       "      <th>...</th>\n",
       "      <th>total_precipitation_y</th>\n",
       "      <th>total_precipitation_flag_y</th>\n",
       "      <th>total_rain_y</th>\n",
       "      <th>total_rain_flag_y</th>\n",
       "      <th>total_snow_y</th>\n",
       "      <th>total_snow_flag_y</th>\n",
       "      <th>x_y</th>\n",
       "      <th>y_y</th>\n",
       "      <th>climdate_formatted_y</th>\n",
       "      <th>_merge</th>\n",
       "    </tr>\n",
       "  </thead>\n",
       "  <tbody>\n",
       "    <tr>\n",
       "      <th>0</th>\n",
       "      <td>2200100</td>\n",
       "      <td>1.2</td>\n",
       "      <td>NaN</td>\n",
       "      <td>NaN</td>\n",
       "      <td>NaN</td>\n",
       "      <td>0.0</td>\n",
       "      <td>NaN</td>\n",
       "      <td>2200100.2012.8.2</td>\n",
       "      <td>2012-08-02</td>\n",
       "      <td>2</td>\n",
       "      <td>...</td>\n",
       "      <td>NaN</td>\n",
       "      <td>NaN</td>\n",
       "      <td>NaN</td>\n",
       "      <td>NaN</td>\n",
       "      <td>NaN</td>\n",
       "      <td>NaN</td>\n",
       "      <td>NaN</td>\n",
       "      <td>NaN</td>\n",
       "      <td>NaN</td>\n",
       "      <td>left_only</td>\n",
       "    </tr>\n",
       "    <tr>\n",
       "      <th>1</th>\n",
       "      <td>2200100</td>\n",
       "      <td>0.0</td>\n",
       "      <td>NaN</td>\n",
       "      <td>NaN</td>\n",
       "      <td>NaN</td>\n",
       "      <td>1.8</td>\n",
       "      <td>NaN</td>\n",
       "      <td>2200100.2012.8.4</td>\n",
       "      <td>2012-08-04</td>\n",
       "      <td>4</td>\n",
       "      <td>...</td>\n",
       "      <td>NaN</td>\n",
       "      <td>NaN</td>\n",
       "      <td>NaN</td>\n",
       "      <td>NaN</td>\n",
       "      <td>NaN</td>\n",
       "      <td>NaN</td>\n",
       "      <td>NaN</td>\n",
       "      <td>NaN</td>\n",
       "      <td>NaN</td>\n",
       "      <td>left_only</td>\n",
       "    </tr>\n",
       "    <tr>\n",
       "      <th>2</th>\n",
       "      <td>2200100</td>\n",
       "      <td>0.0</td>\n",
       "      <td>NaN</td>\n",
       "      <td>NaN</td>\n",
       "      <td>NaN</td>\n",
       "      <td>1.7</td>\n",
       "      <td>NaN</td>\n",
       "      <td>2200100.2012.8.5</td>\n",
       "      <td>2012-08-05</td>\n",
       "      <td>5</td>\n",
       "      <td>...</td>\n",
       "      <td>NaN</td>\n",
       "      <td>NaN</td>\n",
       "      <td>NaN</td>\n",
       "      <td>NaN</td>\n",
       "      <td>NaN</td>\n",
       "      <td>NaN</td>\n",
       "      <td>NaN</td>\n",
       "      <td>NaN</td>\n",
       "      <td>NaN</td>\n",
       "      <td>left_only</td>\n",
       "    </tr>\n",
       "    <tr>\n",
       "      <th>3</th>\n",
       "      <td>2200100</td>\n",
       "      <td>0.0</td>\n",
       "      <td>NaN</td>\n",
       "      <td>NaN</td>\n",
       "      <td>NaN</td>\n",
       "      <td>0.7</td>\n",
       "      <td>NaN</td>\n",
       "      <td>2200100.2012.8.6</td>\n",
       "      <td>2012-08-06</td>\n",
       "      <td>6</td>\n",
       "      <td>...</td>\n",
       "      <td>NaN</td>\n",
       "      <td>NaN</td>\n",
       "      <td>NaN</td>\n",
       "      <td>NaN</td>\n",
       "      <td>NaN</td>\n",
       "      <td>NaN</td>\n",
       "      <td>NaN</td>\n",
       "      <td>NaN</td>\n",
       "      <td>NaN</td>\n",
       "      <td>left_only</td>\n",
       "    </tr>\n",
       "    <tr>\n",
       "      <th>4</th>\n",
       "      <td>2200100</td>\n",
       "      <td>0.0</td>\n",
       "      <td>NaN</td>\n",
       "      <td>NaN</td>\n",
       "      <td>NaN</td>\n",
       "      <td>4.2</td>\n",
       "      <td>NaN</td>\n",
       "      <td>2200100.2012.8.7</td>\n",
       "      <td>2012-08-07</td>\n",
       "      <td>7</td>\n",
       "      <td>...</td>\n",
       "      <td>NaN</td>\n",
       "      <td>NaN</td>\n",
       "      <td>NaN</td>\n",
       "      <td>NaN</td>\n",
       "      <td>NaN</td>\n",
       "      <td>NaN</td>\n",
       "      <td>NaN</td>\n",
       "      <td>NaN</td>\n",
       "      <td>NaN</td>\n",
       "      <td>left_only</td>\n",
       "    </tr>\n",
       "  </tbody>\n",
       "</table>\n",
       "<p>5 rows × 101 columns</p>\n",
       "</div>"
      ],
      "text/plain": [
       "  climate_identifier_x  cooling_degree_days_x cooling_degree_days_flag_x  \\\n",
       "0              2200100                    1.2                        NaN   \n",
       "1              2200100                    0.0                        NaN   \n",
       "2              2200100                    0.0                        NaN   \n",
       "3              2200100                    0.0                        NaN   \n",
       "4              2200100                    0.0                        NaN   \n",
       "\n",
       "   direction_max_gust_x direction_max_gust_flag_x  heating_degree_days_x  \\\n",
       "0                   NaN                       NaN                    0.0   \n",
       "1                   NaN                       NaN                    1.8   \n",
       "2                   NaN                       NaN                    1.7   \n",
       "3                   NaN                       NaN                    0.7   \n",
       "4                   NaN                       NaN                    4.2   \n",
       "\n",
       "  heating_degree_days_flag_x              id_x local_date_x  local_day_x  ...  \\\n",
       "0                        NaN  2200100.2012.8.2   2012-08-02            2  ...   \n",
       "1                        NaN  2200100.2012.8.4   2012-08-04            4  ...   \n",
       "2                        NaN  2200100.2012.8.5   2012-08-05            5  ...   \n",
       "3                        NaN  2200100.2012.8.6   2012-08-06            6  ...   \n",
       "4                        NaN  2200100.2012.8.7   2012-08-07            7  ...   \n",
       "\n",
       "   total_precipitation_y  total_precipitation_flag_y  total_rain_y  \\\n",
       "0                    NaN                         NaN           NaN   \n",
       "1                    NaN                         NaN           NaN   \n",
       "2                    NaN                         NaN           NaN   \n",
       "3                    NaN                         NaN           NaN   \n",
       "4                    NaN                         NaN           NaN   \n",
       "\n",
       "  total_rain_flag_y  total_snow_y total_snow_flag_y  x_y y_y  \\\n",
       "0               NaN           NaN               NaN  NaN NaN   \n",
       "1               NaN           NaN               NaN  NaN NaN   \n",
       "2               NaN           NaN               NaN  NaN NaN   \n",
       "3               NaN           NaN               NaN  NaN NaN   \n",
       "4               NaN           NaN               NaN  NaN NaN   \n",
       "\n",
       "   climdate_formatted_y     _merge  \n",
       "0                   NaN  left_only  \n",
       "1                   NaN  left_only  \n",
       "2                   NaN  left_only  \n",
       "3                   NaN  left_only  \n",
       "4                   NaN  left_only  \n",
       "\n",
       "[5 rows x 101 columns]"
      ]
     },
     "execution_count": 13,
     "metadata": {},
     "output_type": "execute_result"
    }
   ],
   "source": [
    "together2.head()"
   ]
  }
 ],
 "metadata": {
  "kernelspec": {
   "display_name": "Python 3 (ipykernel)",
   "language": "python",
   "name": "python3"
  },
  "language_info": {
   "codemirror_mode": {
    "name": "ipython",
    "version": 3
   },
   "file_extension": ".py",
   "mimetype": "text/x-python",
   "name": "python",
   "nbconvert_exporter": "python",
   "pygments_lexer": "ipython3",
   "version": "3.12.0"
  }
 },
 "nbformat": 4,
 "nbformat_minor": 5
}
