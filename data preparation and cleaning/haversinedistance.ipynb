{
 "cells": [
  {
   "cell_type": "code",
   "execution_count": 1,
   "id": "511eab34-1e7a-413c-bf10-180d945377c2",
   "metadata": {},
   "outputs": [],
   "source": [
    "import pandas as pd\n",
    "import numpy as np\n",
    "from sklearn.metrics import DistanceMetric  \n",
    "from datetime import datetime, timedelta"
   ]
  },
  {
   "cell_type": "code",
   "execution_count": 2,
   "id": "9f66fb4a-53e8-47c6-8ed3-b310274007be",
   "metadata": {},
   "outputs": [],
   "source": [
    "pd.set_option('display.max_columns', None)"
   ]
  },
  {
   "cell_type": "code",
   "execution_count": 3,
   "id": "f3d9de3e-d812-4518-8c33-60739f5b7e50",
   "metadata": {},
   "outputs": [],
   "source": [
    "#Deal with SettingCopyWarnings\n",
    "pd.options.mode.chained_assignment = None  # default='warn'"
   ]
  },
  {
   "cell_type": "markdown",
   "id": "f0efb415-f0d0-4bd4-89e0-f17d44de39eb",
   "metadata": {},
   "source": [
    "## Step 1: Create a dataset of unique fire- nearest weather station pairs"
   ]
  },
  {
   "cell_type": "markdown",
   "id": "5601ace9-4dd6-427f-9257-077542c29d2c",
   "metadata": {},
   "source": [
    "### Preparing a dataframe containing unique weather station coordinates"
   ]
  },
  {
   "cell_type": "code",
   "execution_count": 4,
   "id": "b4ac9d55-50c6-463d-9561-c8c99866dbd0",
   "metadata": {},
   "outputs": [],
   "source": [
    "#Reading the file which has coordinates of all the weather stations across the 15 \"climate daily\" csv files\n",
    "ctc1 = pd.read_csv(\"climatetotalcoord1.csv\")"
   ]
  },
  {
   "cell_type": "code",
   "execution_count": 5,
   "id": "a64d072a-622c-4216-b7b0-c1657b496ebf",
   "metadata": {},
   "outputs": [],
   "source": [
    "#limiting decimal digits to 4\n",
    "ctc1 = round(ctc1, 4)"
   ]
  },
  {
   "cell_type": "code",
   "execution_count": 6,
   "id": "793d9cbf-9b9a-46ae-9eb4-a0d17031b0c7",
   "metadata": {},
   "outputs": [],
   "source": [
    "#We are creating a new column which merges latitude and longitude to form a new combined column called coordinates. \n",
    "#But since the \"+\" operator only works on strings, we are also converting the lat and long into  strings using astype(). The \",\" acts as a separator. Beware of NaNs when doing this\n",
    "ctc1[\"coordinates\"] = ctc1[\"latitude\"].astype(str) + \",\" + ctc1[\"longitude\"].astype(str)"
   ]
  },
  {
   "cell_type": "code",
   "execution_count": 7,
   "id": "6ea909ae-ca80-487b-adf0-a5c4a173f3c6",
   "metadata": {},
   "outputs": [],
   "source": [
    "#Finding the unique values in the coordinate column\n",
    "ctc2 = ctc1[\"coordinates\"].unique()"
   ]
  },
  {
   "cell_type": "code",
   "execution_count": 8,
   "id": "a823b853-8eec-4aa0-addd-ad0566389371",
   "metadata": {},
   "outputs": [],
   "source": [
    "ctc3 = pd.DataFrame(ctc2, columns = [\"climcoordinates\"])"
   ]
  },
  {
   "cell_type": "code",
   "execution_count": 9,
   "id": "d9ab22fc-b90b-4ff9-bddd-2ef541d9a076",
   "metadata": {},
   "outputs": [],
   "source": [
    "#Splitting the \"coordinates1\" column to two separate columns (climlatitude & climlongitude) on the basis of the comma delimitor\n",
    "ctc3[[\"climlatitude\", \"climlongitude\"]] = ctc3.climcoordinates.str.split(\",\", expand = True)"
   ]
  },
  {
   "cell_type": "code",
   "execution_count": 10,
   "id": "56214e2c-e7bf-4bdd-89af-0ebb0f21bf6c",
   "metadata": {},
   "outputs": [],
   "source": [
    "#Converting climlatitude and climlongitude into float\n",
    "ctc3[\"climlatitude\"] = ctc3[\"climlatitude\"].astype(float)\n",
    "ctc3[\"climlongitude\"] = ctc3[\"climlongitude\"].astype(float)"
   ]
  },
  {
   "cell_type": "markdown",
   "id": "0b330de8-bcd0-4366-ad0b-94628c7647f8",
   "metadata": {},
   "source": [
    "### Preparing a wildfire dataset"
   ]
  },
  {
   "cell_type": "code",
   "execution_count": 11,
   "id": "1dcc0c13-e7ab-45c9-ba2b-79ba8d255fe1",
   "metadata": {},
   "outputs": [],
   "source": [
    "wild2 = pd.read_csv(\"canadawildfiresupdated1_2011to2021.csv\")"
   ]
  },
  {
   "cell_type": "code",
   "execution_count": 12,
   "id": "e02d24df-e150-48a0-b938-579a21a7140a",
   "metadata": {},
   "outputs": [],
   "source": [
    "#We are creating a new column which merges latitude and longitude to form a new combined column called coordinates. \n",
    "wild2[\"coordinates\"] = wild2[\"latitude\"].astype(str) + \",\" + wild2[\"longitude\"].astype(str)"
   ]
  },
  {
   "cell_type": "code",
   "execution_count": 13,
   "id": "bcae153b-0093-4809-beb8-ad4972d57910",
   "metadata": {},
   "outputs": [],
   "source": [
    "#Limiting decimal points to 4\n",
    "wild2 = round(wild2, 4)"
   ]
  },
  {
   "cell_type": "code",
   "execution_count": 14,
   "id": "63121575-1468-47e2-971e-ac19aef9b915",
   "metadata": {},
   "outputs": [],
   "source": [
    "#Making a dataframe for only the Quebec region\n",
    "mask = wild2[\"src_agency\"] == \"QC\"\n",
    "fire2_qc = wild2[mask]"
   ]
  },
  {
   "cell_type": "markdown",
   "id": "7bf8f348-4d5a-42aa-8c01-2b0943b26d60",
   "metadata": {},
   "source": [
    "### Calculating and adding a column of haversine distance"
   ]
  },
  {
   "cell_type": "code",
   "execution_count": 15,
   "id": "66c62fc0-36ed-457a-94d2-5ad98ee91d04",
   "metadata": {},
   "outputs": [],
   "source": [
    "#Crossjoining quebec dataset\n",
    "cj5 = fire2_qc.merge(ctc3, how = \"cross\")"
   ]
  },
  {
   "cell_type": "code",
   "execution_count": 16,
   "id": "a4b1243f-c293-47d4-8cb6-0fb404ec2f20",
   "metadata": {},
   "outputs": [],
   "source": [
    "#Converting fire and weather(climate) station data of quebec to radians for applying haversine formula\n",
    "cj5[[\"firelat_radians\",\"firelong_radians\"]] = np.radians(cj5.loc[:,[\"latitude\", \"longitude\"]])\n",
    "cj5[[\"climlat_radians\", \"climlong_radians\"]] = np.radians(cj5.loc[:,[\"climlatitude\", \"climlongitude\"]])"
   ]
  },
  {
   "cell_type": "code",
   "execution_count": 17,
   "id": "cd71327e-4841-4d0f-a1b7-a2d3cb41cc00",
   "metadata": {},
   "outputs": [],
   "source": [
    "#Defining the haversine formula\n",
    "def haversine_distance(lon1, lat1, lon2, lat2):\n",
    "    newlat = lat2 - lat1\n",
    "    newlon = lon2 - lon1\n",
    "\n",
    "    haver_formula = np.sin(newlat/2.0)**2 + np.cos(lat1) * np.cos(lat2) * np.sin(newlon/2.0)**2\n",
    "\n",
    "    dist = 2 * np.arcsin(np.sqrt(haver_formula ))\n",
    "    # use appropriate value for radius of the earth (this is crude!)\n",
    "    km = 6367 * dist #6367 for distance in KM for miles use 3958\n",
    "    return km"
   ]
  },
  {
   "cell_type": "code",
   "execution_count": 18,
   "id": "859eb694-02a8-4f7a-ba5d-2305ce8b9829",
   "metadata": {},
   "outputs": [],
   "source": [
    "#To compute distances by applying the formula\n",
    "cj5[\"distance_km\"] = haversine_distance(cj5[\"firelong_radians\"], cj5[\"firelat_radians\"], cj5[\"climlong_radians\"], \n",
    "                                                  cj5[\"climlat_radians\"])"
   ]
  },
  {
   "cell_type": "markdown",
   "id": "05fdc78d-95f1-4106-9cee-7348a8ce6ce5",
   "metadata": {},
   "source": [
    "### Creating the dataset of unique fire - nearest weather station pairs"
   ]
  },
  {
   "cell_type": "code",
   "execution_count": 19,
   "id": "0c88aba8-1ed8-4d72-b621-83f1ac320c61",
   "metadata": {},
   "outputs": [],
   "source": [
    "#We group by the entire dataset on the basis of fire identity (fid) and then select the rows with \n",
    "#minimum value for distance from weather station\n",
    "cj6qc = cj5.groupby([\"fid\"])[\"distance_km\"].min()"
   ]
  },
  {
   "cell_type": "code",
   "execution_count": 20,
   "id": "d88f6254-84c9-4ca9-a361-ed86187855ae",
   "metadata": {},
   "outputs": [],
   "source": [
    "#Converting cj6qc, which is a series object, into a dataframe\n",
    "cj6qc = pd.DataFrame(cj6qc, columns = [\"distance_km\"])"
   ]
  },
  {
   "cell_type": "code",
   "execution_count": 21,
   "id": "d6bba7de-ea16-4531-81a7-25ad07d8c2c6",
   "metadata": {},
   "outputs": [],
   "source": [
    "#Now make index of cj6qc as column \"fid\" and change index\n",
    "cj6qc['fid'] = cj6qc.index\n",
    "cj6qc.index = range(cj6qc.shape[0])"
   ]
  },
  {
   "cell_type": "code",
   "execution_count": 22,
   "id": "69779537-a39f-45d1-9297-1f4292d27fae",
   "metadata": {},
   "outputs": [],
   "source": [
    "#Now merging cj5 and cj6qc on both columns \"fid\" and \"distance_km\"\n",
    "cj7qc = pd.merge(cj5, cj6qc, on = [\"fid\", \"distance_km\"])"
   ]
  },
  {
   "cell_type": "code",
   "execution_count": null,
   "id": "0b61ada9-a914-4872-9227-d6328d80dc50",
   "metadata": {},
   "outputs": [],
   "source": [
    "cj7qc.head(2)"
   ]
  }
 ],
 "metadata": {
  "kernelspec": {
   "display_name": "Python 3 (ipykernel)",
   "language": "python",
   "name": "python3"
  },
  "language_info": {
   "codemirror_mode": {
    "name": "ipython",
    "version": 3
   },
   "file_extension": ".py",
   "mimetype": "text/x-python",
   "name": "python",
   "nbconvert_exporter": "python",
   "pygments_lexer": "ipython3",
   "version": "3.12.0"
  }
 },
 "nbformat": 4,
 "nbformat_minor": 5
}
